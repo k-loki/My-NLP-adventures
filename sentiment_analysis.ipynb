{
  "nbformat": 4,
  "nbformat_minor": 0,
  "metadata": {
    "colab": {
      "name": "sentiment analysis.ipynb",
      "provenance": [],
      "mount_file_id": "1hnygB_LXRvbGIjK4DWRqsPaEv352sBQQ",
      "authorship_tag": "ABX9TyMYkjJitjPnfkfM7C9v3Ykz"
    },
    "kernelspec": {
      "name": "python3",
      "display_name": "Python 3"
    },
    "language_info": {
      "name": "python"
    },
    "accelerator": "GPU"
  },
  "cells": [
    {
      "cell_type": "code",
      "metadata": {
        "id": "hserWtqMaaU8"
      },
      "source": [
        "import pandas as pd\n",
        "import numpy as np"
      ],
      "execution_count": 1,
      "outputs": []
    },
    {
      "cell_type": "code",
      "metadata": {
        "colab": {
          "base_uri": "https://localhost:8080/",
          "height": 417
        },
        "id": "BaBCf7tldYrf",
        "outputId": "d53cc931-425a-41e5-dfa6-7e0e2598ac8f"
      },
      "source": [
        "df=pd.read_csv('/content/drive/MyDrive/datasets/financial comments.csv',encoding='latin-1',names=['label','comments'])\n",
        "df"
      ],
      "execution_count": 2,
      "outputs": [
        {
          "output_type": "execute_result",
          "data": {
            "text/html": [
              "<div>\n",
              "<style scoped>\n",
              "    .dataframe tbody tr th:only-of-type {\n",
              "        vertical-align: middle;\n",
              "    }\n",
              "\n",
              "    .dataframe tbody tr th {\n",
              "        vertical-align: top;\n",
              "    }\n",
              "\n",
              "    .dataframe thead th {\n",
              "        text-align: right;\n",
              "    }\n",
              "</style>\n",
              "<table border=\"1\" class=\"dataframe\">\n",
              "  <thead>\n",
              "    <tr style=\"text-align: right;\">\n",
              "      <th></th>\n",
              "      <th>label</th>\n",
              "      <th>comments</th>\n",
              "    </tr>\n",
              "  </thead>\n",
              "  <tbody>\n",
              "    <tr>\n",
              "      <th>0</th>\n",
              "      <td>neutral</td>\n",
              "      <td>According to Gran , the company has no plans t...</td>\n",
              "    </tr>\n",
              "    <tr>\n",
              "      <th>1</th>\n",
              "      <td>neutral</td>\n",
              "      <td>Technopolis plans to develop in stages an area...</td>\n",
              "    </tr>\n",
              "    <tr>\n",
              "      <th>2</th>\n",
              "      <td>negative</td>\n",
              "      <td>The international electronic industry company ...</td>\n",
              "    </tr>\n",
              "    <tr>\n",
              "      <th>3</th>\n",
              "      <td>positive</td>\n",
              "      <td>With the new production plant the company woul...</td>\n",
              "    </tr>\n",
              "    <tr>\n",
              "      <th>4</th>\n",
              "      <td>positive</td>\n",
              "      <td>According to the company 's updated strategy f...</td>\n",
              "    </tr>\n",
              "    <tr>\n",
              "      <th>...</th>\n",
              "      <td>...</td>\n",
              "      <td>...</td>\n",
              "    </tr>\n",
              "    <tr>\n",
              "      <th>4841</th>\n",
              "      <td>negative</td>\n",
              "      <td>LONDON MarketWatch -- Share prices ended lower...</td>\n",
              "    </tr>\n",
              "    <tr>\n",
              "      <th>4842</th>\n",
              "      <td>neutral</td>\n",
              "      <td>Rinkuskiai 's beer sales fell by 6.5 per cent ...</td>\n",
              "    </tr>\n",
              "    <tr>\n",
              "      <th>4843</th>\n",
              "      <td>negative</td>\n",
              "      <td>Operating profit fell to EUR 35.4 mn from EUR ...</td>\n",
              "    </tr>\n",
              "    <tr>\n",
              "      <th>4844</th>\n",
              "      <td>negative</td>\n",
              "      <td>Net sales of the Paper segment decreased to EU...</td>\n",
              "    </tr>\n",
              "    <tr>\n",
              "      <th>4845</th>\n",
              "      <td>negative</td>\n",
              "      <td>Sales in Finland decreased by 10.5 % in Januar...</td>\n",
              "    </tr>\n",
              "  </tbody>\n",
              "</table>\n",
              "<p>4846 rows × 2 columns</p>\n",
              "</div>"
            ],
            "text/plain": [
              "         label                                           comments\n",
              "0      neutral  According to Gran , the company has no plans t...\n",
              "1      neutral  Technopolis plans to develop in stages an area...\n",
              "2     negative  The international electronic industry company ...\n",
              "3     positive  With the new production plant the company woul...\n",
              "4     positive  According to the company 's updated strategy f...\n",
              "...        ...                                                ...\n",
              "4841  negative  LONDON MarketWatch -- Share prices ended lower...\n",
              "4842   neutral  Rinkuskiai 's beer sales fell by 6.5 per cent ...\n",
              "4843  negative  Operating profit fell to EUR 35.4 mn from EUR ...\n",
              "4844  negative  Net sales of the Paper segment decreased to EU...\n",
              "4845  negative  Sales in Finland decreased by 10.5 % in Januar...\n",
              "\n",
              "[4846 rows x 2 columns]"
            ]
          },
          "metadata": {
            "tags": []
          },
          "execution_count": 2
        }
      ]
    },
    {
      "cell_type": "code",
      "metadata": {
        "colab": {
          "base_uri": "https://localhost:8080/"
        },
        "id": "LMmh83P6dcZH",
        "outputId": "04344418-0ab4-474b-a9d6-47117a4e5281"
      },
      "source": [
        "df.isna().sum()"
      ],
      "execution_count": 3,
      "outputs": [
        {
          "output_type": "execute_result",
          "data": {
            "text/plain": [
              "label       0\n",
              "comments    0\n",
              "dtype: int64"
            ]
          },
          "metadata": {
            "tags": []
          },
          "execution_count": 3
        }
      ]
    },
    {
      "cell_type": "code",
      "metadata": {
        "colab": {
          "base_uri": "https://localhost:8080/"
        },
        "id": "FWfTmW7TfBKO",
        "outputId": "e130fb0f-04b7-4e75-f10e-27fdc2a48cbe"
      },
      "source": [
        "df.label.value_counts(normalize=True)"
      ],
      "execution_count": 4,
      "outputs": [
        {
          "output_type": "execute_result",
          "data": {
            "text/plain": [
              "neutral     0.594098\n",
              "positive    0.281263\n",
              "negative    0.124639\n",
              "Name: label, dtype: float64"
            ]
          },
          "metadata": {
            "tags": []
          },
          "execution_count": 4
        }
      ]
    },
    {
      "cell_type": "markdown",
      "metadata": {
        "id": "4TScO_tqgZk1"
      },
      "source": [
        "\n",
        "\n",
        "1.   this is imablanced data\n",
        "2.   so its better to do some sampling techniques\n",
        "3.   i wll manually duplicate samples\n",
        "\n"
      ]
    },
    {
      "cell_type": "code",
      "metadata": {
        "id": "N0A9xExy8zSH"
      },
      "source": [
        "df.label=df.label.map({'neutral':1,'negative':0,'positive':2})"
      ],
      "execution_count": 5,
      "outputs": []
    },
    {
      "cell_type": "code",
      "metadata": {
        "colab": {
          "base_uri": "https://localhost:8080/",
          "height": 417
        },
        "id": "Y3BbBH--8zOr",
        "outputId": "a0f7d564-1a94-417c-cf2f-3091e72b7121"
      },
      "source": [
        "df"
      ],
      "execution_count": 6,
      "outputs": [
        {
          "output_type": "execute_result",
          "data": {
            "text/html": [
              "<div>\n",
              "<style scoped>\n",
              "    .dataframe tbody tr th:only-of-type {\n",
              "        vertical-align: middle;\n",
              "    }\n",
              "\n",
              "    .dataframe tbody tr th {\n",
              "        vertical-align: top;\n",
              "    }\n",
              "\n",
              "    .dataframe thead th {\n",
              "        text-align: right;\n",
              "    }\n",
              "</style>\n",
              "<table border=\"1\" class=\"dataframe\">\n",
              "  <thead>\n",
              "    <tr style=\"text-align: right;\">\n",
              "      <th></th>\n",
              "      <th>label</th>\n",
              "      <th>comments</th>\n",
              "    </tr>\n",
              "  </thead>\n",
              "  <tbody>\n",
              "    <tr>\n",
              "      <th>0</th>\n",
              "      <td>1</td>\n",
              "      <td>According to Gran , the company has no plans t...</td>\n",
              "    </tr>\n",
              "    <tr>\n",
              "      <th>1</th>\n",
              "      <td>1</td>\n",
              "      <td>Technopolis plans to develop in stages an area...</td>\n",
              "    </tr>\n",
              "    <tr>\n",
              "      <th>2</th>\n",
              "      <td>0</td>\n",
              "      <td>The international electronic industry company ...</td>\n",
              "    </tr>\n",
              "    <tr>\n",
              "      <th>3</th>\n",
              "      <td>2</td>\n",
              "      <td>With the new production plant the company woul...</td>\n",
              "    </tr>\n",
              "    <tr>\n",
              "      <th>4</th>\n",
              "      <td>2</td>\n",
              "      <td>According to the company 's updated strategy f...</td>\n",
              "    </tr>\n",
              "    <tr>\n",
              "      <th>...</th>\n",
              "      <td>...</td>\n",
              "      <td>...</td>\n",
              "    </tr>\n",
              "    <tr>\n",
              "      <th>4841</th>\n",
              "      <td>0</td>\n",
              "      <td>LONDON MarketWatch -- Share prices ended lower...</td>\n",
              "    </tr>\n",
              "    <tr>\n",
              "      <th>4842</th>\n",
              "      <td>1</td>\n",
              "      <td>Rinkuskiai 's beer sales fell by 6.5 per cent ...</td>\n",
              "    </tr>\n",
              "    <tr>\n",
              "      <th>4843</th>\n",
              "      <td>0</td>\n",
              "      <td>Operating profit fell to EUR 35.4 mn from EUR ...</td>\n",
              "    </tr>\n",
              "    <tr>\n",
              "      <th>4844</th>\n",
              "      <td>0</td>\n",
              "      <td>Net sales of the Paper segment decreased to EU...</td>\n",
              "    </tr>\n",
              "    <tr>\n",
              "      <th>4845</th>\n",
              "      <td>0</td>\n",
              "      <td>Sales in Finland decreased by 10.5 % in Januar...</td>\n",
              "    </tr>\n",
              "  </tbody>\n",
              "</table>\n",
              "<p>4846 rows × 2 columns</p>\n",
              "</div>"
            ],
            "text/plain": [
              "      label                                           comments\n",
              "0         1  According to Gran , the company has no plans t...\n",
              "1         1  Technopolis plans to develop in stages an area...\n",
              "2         0  The international electronic industry company ...\n",
              "3         2  With the new production plant the company woul...\n",
              "4         2  According to the company 's updated strategy f...\n",
              "...     ...                                                ...\n",
              "4841      0  LONDON MarketWatch -- Share prices ended lower...\n",
              "4842      1  Rinkuskiai 's beer sales fell by 6.5 per cent ...\n",
              "4843      0  Operating profit fell to EUR 35.4 mn from EUR ...\n",
              "4844      0  Net sales of the Paper segment decreased to EU...\n",
              "4845      0  Sales in Finland decreased by 10.5 % in Januar...\n",
              "\n",
              "[4846 rows x 2 columns]"
            ]
          },
          "metadata": {
            "tags": []
          },
          "execution_count": 6
        }
      ]
    },
    {
      "cell_type": "code",
      "metadata": {
        "colab": {
          "base_uri": "https://localhost:8080/"
        },
        "id": "6VF9g6QT2_E9",
        "outputId": "e5f93775-2f45-446c-ffdb-a94aeae24553"
      },
      "source": [
        "randomseed=44\n",
        "neu,pos,neg=df.label.value_counts()\n",
        "neu,pos,neg"
      ],
      "execution_count": 7,
      "outputs": [
        {
          "output_type": "execute_result",
          "data": {
            "text/plain": [
              "(2879, 1363, 604)"
            ]
          },
          "metadata": {
            "tags": []
          },
          "execution_count": 7
        }
      ]
    },
    {
      "cell_type": "code",
      "metadata": {
        "id": "n9MAO6dj2_BZ"
      },
      "source": [
        "df_neg=df[df['label']==0]\n",
        "df_neu=df[df['label']==1]\n",
        "df_pos=df[df['label']==2]"
      ],
      "execution_count": 8,
      "outputs": []
    },
    {
      "cell_type": "markdown",
      "metadata": {
        "id": "RW8de8ZkkI7K"
      },
      "source": [
        "##  upsampling positive and negative samples to make data balanced"
      ]
    },
    {
      "cell_type": "code",
      "metadata": {
        "colab": {
          "base_uri": "https://localhost:8080/",
          "height": 203
        },
        "id": "b2BqB1kM2-_k",
        "outputId": "96352585-77c5-4e05-f01f-0c9f111d140e"
      },
      "source": [
        "df_neg.head()"
      ],
      "execution_count": 9,
      "outputs": [
        {
          "output_type": "execute_result",
          "data": {
            "text/html": [
              "<div>\n",
              "<style scoped>\n",
              "    .dataframe tbody tr th:only-of-type {\n",
              "        vertical-align: middle;\n",
              "    }\n",
              "\n",
              "    .dataframe tbody tr th {\n",
              "        vertical-align: top;\n",
              "    }\n",
              "\n",
              "    .dataframe thead th {\n",
              "        text-align: right;\n",
              "    }\n",
              "</style>\n",
              "<table border=\"1\" class=\"dataframe\">\n",
              "  <thead>\n",
              "    <tr style=\"text-align: right;\">\n",
              "      <th></th>\n",
              "      <th>label</th>\n",
              "      <th>comments</th>\n",
              "    </tr>\n",
              "  </thead>\n",
              "  <tbody>\n",
              "    <tr>\n",
              "      <th>2</th>\n",
              "      <td>0</td>\n",
              "      <td>The international electronic industry company ...</td>\n",
              "    </tr>\n",
              "    <tr>\n",
              "      <th>415</th>\n",
              "      <td>0</td>\n",
              "      <td>A tinyurl link takes users to a scamming site ...</td>\n",
              "    </tr>\n",
              "    <tr>\n",
              "      <th>421</th>\n",
              "      <td>0</td>\n",
              "      <td>Compared with the FTSE 100 index , which rose ...</td>\n",
              "    </tr>\n",
              "    <tr>\n",
              "      <th>423</th>\n",
              "      <td>0</td>\n",
              "      <td>Compared with the FTSE 100 index , which rose ...</td>\n",
              "    </tr>\n",
              "    <tr>\n",
              "      <th>500</th>\n",
              "      <td>0</td>\n",
              "      <td>One of the challenges in the oil production in...</td>\n",
              "    </tr>\n",
              "  </tbody>\n",
              "</table>\n",
              "</div>"
            ],
            "text/plain": [
              "     label                                           comments\n",
              "2        0  The international electronic industry company ...\n",
              "415      0  A tinyurl link takes users to a scamming site ...\n",
              "421      0  Compared with the FTSE 100 index , which rose ...\n",
              "423      0  Compared with the FTSE 100 index , which rose ...\n",
              "500      0  One of the challenges in the oil production in..."
            ]
          },
          "metadata": {
            "tags": []
          },
          "execution_count": 9
        }
      ]
    },
    {
      "cell_type": "code",
      "metadata": {
        "colab": {
          "base_uri": "https://localhost:8080/",
          "height": 417
        },
        "id": "GgWaT-cA2-9v",
        "outputId": "01643c2b-b246-4a7f-cc1f-edc9d227f48b"
      },
      "source": [
        "df_neu"
      ],
      "execution_count": 10,
      "outputs": [
        {
          "output_type": "execute_result",
          "data": {
            "text/html": [
              "<div>\n",
              "<style scoped>\n",
              "    .dataframe tbody tr th:only-of-type {\n",
              "        vertical-align: middle;\n",
              "    }\n",
              "\n",
              "    .dataframe tbody tr th {\n",
              "        vertical-align: top;\n",
              "    }\n",
              "\n",
              "    .dataframe thead th {\n",
              "        text-align: right;\n",
              "    }\n",
              "</style>\n",
              "<table border=\"1\" class=\"dataframe\">\n",
              "  <thead>\n",
              "    <tr style=\"text-align: right;\">\n",
              "      <th></th>\n",
              "      <th>label</th>\n",
              "      <th>comments</th>\n",
              "    </tr>\n",
              "  </thead>\n",
              "  <tbody>\n",
              "    <tr>\n",
              "      <th>0</th>\n",
              "      <td>1</td>\n",
              "      <td>According to Gran , the company has no plans t...</td>\n",
              "    </tr>\n",
              "    <tr>\n",
              "      <th>1</th>\n",
              "      <td>1</td>\n",
              "      <td>Technopolis plans to develop in stages an area...</td>\n",
              "    </tr>\n",
              "    <tr>\n",
              "      <th>58</th>\n",
              "      <td>1</td>\n",
              "      <td>At the request of Finnish media company Alma M...</td>\n",
              "    </tr>\n",
              "    <tr>\n",
              "      <th>59</th>\n",
              "      <td>1</td>\n",
              "      <td>In Sweden , Gallerix accumulated SEK denominat...</td>\n",
              "    </tr>\n",
              "    <tr>\n",
              "      <th>60</th>\n",
              "      <td>1</td>\n",
              "      <td>The company supports its global customers in d...</td>\n",
              "    </tr>\n",
              "    <tr>\n",
              "      <th>...</th>\n",
              "      <td>...</td>\n",
              "      <td>...</td>\n",
              "    </tr>\n",
              "    <tr>\n",
              "      <th>4819</th>\n",
              "      <td>1</td>\n",
              "      <td>Nevertheless , the development can not be allo...</td>\n",
              "    </tr>\n",
              "    <tr>\n",
              "      <th>4820</th>\n",
              "      <td>1</td>\n",
              "      <td>Besides , as there is no depositor preference ...</td>\n",
              "    </tr>\n",
              "    <tr>\n",
              "      <th>4823</th>\n",
              "      <td>1</td>\n",
              "      <td>It holds 38 percent of Outokumpu 's shares and...</td>\n",
              "    </tr>\n",
              "    <tr>\n",
              "      <th>4826</th>\n",
              "      <td>1</td>\n",
              "      <td>Mobile communication and wireless broadband pr...</td>\n",
              "    </tr>\n",
              "    <tr>\n",
              "      <th>4842</th>\n",
              "      <td>1</td>\n",
              "      <td>Rinkuskiai 's beer sales fell by 6.5 per cent ...</td>\n",
              "    </tr>\n",
              "  </tbody>\n",
              "</table>\n",
              "<p>2879 rows × 2 columns</p>\n",
              "</div>"
            ],
            "text/plain": [
              "      label                                           comments\n",
              "0         1  According to Gran , the company has no plans t...\n",
              "1         1  Technopolis plans to develop in stages an area...\n",
              "58        1  At the request of Finnish media company Alma M...\n",
              "59        1  In Sweden , Gallerix accumulated SEK denominat...\n",
              "60        1  The company supports its global customers in d...\n",
              "...     ...                                                ...\n",
              "4819      1  Nevertheless , the development can not be allo...\n",
              "4820      1  Besides , as there is no depositor preference ...\n",
              "4823      1  It holds 38 percent of Outokumpu 's shares and...\n",
              "4826      1  Mobile communication and wireless broadband pr...\n",
              "4842      1  Rinkuskiai 's beer sales fell by 6.5 per cent ...\n",
              "\n",
              "[2879 rows x 2 columns]"
            ]
          },
          "metadata": {
            "tags": []
          },
          "execution_count": 10
        }
      ]
    },
    {
      "cell_type": "code",
      "metadata": {
        "colab": {
          "base_uri": "https://localhost:8080/",
          "height": 417
        },
        "id": "u7IB9w7Y-b5A",
        "outputId": "396d6e13-79b5-442e-8f66-e663011e1db6"
      },
      "source": [
        "df_pos"
      ],
      "execution_count": 11,
      "outputs": [
        {
          "output_type": "execute_result",
          "data": {
            "text/html": [
              "<div>\n",
              "<style scoped>\n",
              "    .dataframe tbody tr th:only-of-type {\n",
              "        vertical-align: middle;\n",
              "    }\n",
              "\n",
              "    .dataframe tbody tr th {\n",
              "        vertical-align: top;\n",
              "    }\n",
              "\n",
              "    .dataframe thead th {\n",
              "        text-align: right;\n",
              "    }\n",
              "</style>\n",
              "<table border=\"1\" class=\"dataframe\">\n",
              "  <thead>\n",
              "    <tr style=\"text-align: right;\">\n",
              "      <th></th>\n",
              "      <th>label</th>\n",
              "      <th>comments</th>\n",
              "    </tr>\n",
              "  </thead>\n",
              "  <tbody>\n",
              "    <tr>\n",
              "      <th>3</th>\n",
              "      <td>2</td>\n",
              "      <td>With the new production plant the company woul...</td>\n",
              "    </tr>\n",
              "    <tr>\n",
              "      <th>4</th>\n",
              "      <td>2</td>\n",
              "      <td>According to the company 's updated strategy f...</td>\n",
              "    </tr>\n",
              "    <tr>\n",
              "      <th>5</th>\n",
              "      <td>2</td>\n",
              "      <td>FINANCING OF ASPOCOMP 'S GROWTH Aspocomp is ag...</td>\n",
              "    </tr>\n",
              "    <tr>\n",
              "      <th>6</th>\n",
              "      <td>2</td>\n",
              "      <td>For the last quarter of 2010 , Componenta 's n...</td>\n",
              "    </tr>\n",
              "    <tr>\n",
              "      <th>7</th>\n",
              "      <td>2</td>\n",
              "      <td>In the third quarter of 2010 , net sales incre...</td>\n",
              "    </tr>\n",
              "    <tr>\n",
              "      <th>...</th>\n",
              "      <td>...</td>\n",
              "      <td>...</td>\n",
              "    </tr>\n",
              "    <tr>\n",
              "      <th>4775</th>\n",
              "      <td>2</td>\n",
              "      <td>The apartment block will be well-located , in ...</td>\n",
              "    </tr>\n",
              "    <tr>\n",
              "      <th>4780</th>\n",
              "      <td>2</td>\n",
              "      <td>The antibody , given at repeated doses of up t...</td>\n",
              "    </tr>\n",
              "    <tr>\n",
              "      <th>4786</th>\n",
              "      <td>2</td>\n",
              "      <td>Danske Bank A-S DANSKE DC jumped 3.7 percent t...</td>\n",
              "    </tr>\n",
              "    <tr>\n",
              "      <th>4787</th>\n",
              "      <td>2</td>\n",
              "      <td>Our superior customer centricity and expertise...</td>\n",
              "    </tr>\n",
              "    <tr>\n",
              "      <th>4822</th>\n",
              "      <td>2</td>\n",
              "      <td>The 2015 target for net sales has been set at ...</td>\n",
              "    </tr>\n",
              "  </tbody>\n",
              "</table>\n",
              "<p>1363 rows × 2 columns</p>\n",
              "</div>"
            ],
            "text/plain": [
              "      label                                           comments\n",
              "3         2  With the new production plant the company woul...\n",
              "4         2  According to the company 's updated strategy f...\n",
              "5         2  FINANCING OF ASPOCOMP 'S GROWTH Aspocomp is ag...\n",
              "6         2  For the last quarter of 2010 , Componenta 's n...\n",
              "7         2  In the third quarter of 2010 , net sales incre...\n",
              "...     ...                                                ...\n",
              "4775      2  The apartment block will be well-located , in ...\n",
              "4780      2  The antibody , given at repeated doses of up t...\n",
              "4786      2  Danske Bank A-S DANSKE DC jumped 3.7 percent t...\n",
              "4787      2  Our superior customer centricity and expertise...\n",
              "4822      2  The 2015 target for net sales has been set at ...\n",
              "\n",
              "[1363 rows x 2 columns]"
            ]
          },
          "metadata": {
            "tags": []
          },
          "execution_count": 11
        }
      ]
    },
    {
      "cell_type": "code",
      "metadata": {
        "id": "prI8Bssj-b1b"
      },
      "source": [
        "df_neg_over=df_neg.sample(neu-neg,replace=True)\n",
        "df=pd.concat([df,df_neg_over])"
      ],
      "execution_count": 12,
      "outputs": []
    },
    {
      "cell_type": "code",
      "metadata": {
        "id": "rOw9t-Hq_sZb"
      },
      "source": [
        "df_pos_over=df_pos.sample(neu-pos,replace=True)\n",
        "df=pd.concat([df,df_pos_over])"
      ],
      "execution_count": 13,
      "outputs": []
    },
    {
      "cell_type": "code",
      "metadata": {
        "colab": {
          "base_uri": "https://localhost:8080/"
        },
        "id": "U48yVhWr-bz3",
        "outputId": "a44c125d-de61-4ac5-911e-21a867299f11"
      },
      "source": [
        "df.label.value_counts()"
      ],
      "execution_count": 14,
      "outputs": [
        {
          "output_type": "execute_result",
          "data": {
            "text/plain": [
              "2    2879\n",
              "1    2879\n",
              "0    2879\n",
              "Name: label, dtype: int64"
            ]
          },
          "metadata": {
            "tags": []
          },
          "execution_count": 14
        }
      ]
    },
    {
      "cell_type": "code",
      "metadata": {
        "colab": {
          "base_uri": "https://localhost:8080/",
          "height": 417
        },
        "id": "zQNTx4FB-byA",
        "outputId": "ec4d3f7d-cabd-4773-b678-8ef76c95683f"
      },
      "source": [
        "df.reset_index(inplace=True)\n",
        "df.drop('index',axis=1,inplace=True)\n",
        "df"
      ],
      "execution_count": 15,
      "outputs": [
        {
          "output_type": "execute_result",
          "data": {
            "text/html": [
              "<div>\n",
              "<style scoped>\n",
              "    .dataframe tbody tr th:only-of-type {\n",
              "        vertical-align: middle;\n",
              "    }\n",
              "\n",
              "    .dataframe tbody tr th {\n",
              "        vertical-align: top;\n",
              "    }\n",
              "\n",
              "    .dataframe thead th {\n",
              "        text-align: right;\n",
              "    }\n",
              "</style>\n",
              "<table border=\"1\" class=\"dataframe\">\n",
              "  <thead>\n",
              "    <tr style=\"text-align: right;\">\n",
              "      <th></th>\n",
              "      <th>label</th>\n",
              "      <th>comments</th>\n",
              "    </tr>\n",
              "  </thead>\n",
              "  <tbody>\n",
              "    <tr>\n",
              "      <th>0</th>\n",
              "      <td>1</td>\n",
              "      <td>According to Gran , the company has no plans t...</td>\n",
              "    </tr>\n",
              "    <tr>\n",
              "      <th>1</th>\n",
              "      <td>1</td>\n",
              "      <td>Technopolis plans to develop in stages an area...</td>\n",
              "    </tr>\n",
              "    <tr>\n",
              "      <th>2</th>\n",
              "      <td>0</td>\n",
              "      <td>The international electronic industry company ...</td>\n",
              "    </tr>\n",
              "    <tr>\n",
              "      <th>3</th>\n",
              "      <td>2</td>\n",
              "      <td>With the new production plant the company woul...</td>\n",
              "    </tr>\n",
              "    <tr>\n",
              "      <th>4</th>\n",
              "      <td>2</td>\n",
              "      <td>According to the company 's updated strategy f...</td>\n",
              "    </tr>\n",
              "    <tr>\n",
              "      <th>...</th>\n",
              "      <td>...</td>\n",
              "      <td>...</td>\n",
              "    </tr>\n",
              "    <tr>\n",
              "      <th>8632</th>\n",
              "      <td>2</td>\n",
              "      <td>In contrast , the company 's net loss for the ...</td>\n",
              "    </tr>\n",
              "    <tr>\n",
              "      <th>8633</th>\n",
              "      <td>2</td>\n",
              "      <td>` For Nordea , moving into the new headquarter...</td>\n",
              "    </tr>\n",
              "    <tr>\n",
              "      <th>8634</th>\n",
              "      <td>2</td>\n",
              "      <td>The value of the firm 's forestry holdings inc...</td>\n",
              "    </tr>\n",
              "    <tr>\n",
              "      <th>8635</th>\n",
              "      <td>2</td>\n",
              "      <td>Fiskars , the World 's  1 Scissors Brand TM , ...</td>\n",
              "    </tr>\n",
              "    <tr>\n",
              "      <th>8636</th>\n",
              "      <td>2</td>\n",
              "      <td>The company 's goal is to achieve annual savin...</td>\n",
              "    </tr>\n",
              "  </tbody>\n",
              "</table>\n",
              "<p>8637 rows × 2 columns</p>\n",
              "</div>"
            ],
            "text/plain": [
              "      label                                           comments\n",
              "0         1  According to Gran , the company has no plans t...\n",
              "1         1  Technopolis plans to develop in stages an area...\n",
              "2         0  The international electronic industry company ...\n",
              "3         2  With the new production plant the company woul...\n",
              "4         2  According to the company 's updated strategy f...\n",
              "...     ...                                                ...\n",
              "8632      2  In contrast , the company 's net loss for the ...\n",
              "8633      2  ` For Nordea , moving into the new headquarter...\n",
              "8634      2  The value of the firm 's forestry holdings inc...\n",
              "8635      2  Fiskars , the World 's  1 Scissors Brand TM , ...\n",
              "8636      2  The company 's goal is to achieve annual savin...\n",
              "\n",
              "[8637 rows x 2 columns]"
            ]
          },
          "metadata": {
            "tags": []
          },
          "execution_count": 15
        }
      ]
    },
    {
      "cell_type": "markdown",
      "metadata": {
        "id": "KsUW0rmzkUx8"
      },
      "source": [
        "## text cleansing"
      ]
    },
    {
      "cell_type": "code",
      "metadata": {
        "colab": {
          "base_uri": "https://localhost:8080/"
        },
        "id": "6qbgc9RdAuEa",
        "outputId": "2b299d83-7231-4fcb-ac45-58b01509e61e"
      },
      "source": [
        "import nltk\n",
        "nltk.download('stopwords')\n",
        "import re\n",
        "from nltk.stem import SnowballStemmer\n",
        "from nltk.corpus import stopwords\n",
        "import string"
      ],
      "execution_count": 16,
      "outputs": [
        {
          "output_type": "stream",
          "text": [
            "[nltk_data] Downloading package stopwords to /root/nltk_data...\n",
            "[nltk_data]   Package stopwords is already up-to-date!\n"
          ],
          "name": "stdout"
        }
      ]
    },
    {
      "cell_type": "code",
      "metadata": {
        "colab": {
          "base_uri": "https://localhost:8080/"
        },
        "id": "Bn-MsngNApHR",
        "outputId": "71ebb3fe-5b3c-46a1-9c90-15259b1e6fb3"
      },
      "source": [
        "%%time\n",
        "stemmer = SnowballStemmer('english')\n",
        "corpus = []\n",
        "for i in range(0, len(df.comments)):\n",
        "\n",
        "    review = re.sub('[^a-zA-Z]', ' ', df['comments'][i])\n",
        "    review = review.lower()\n",
        "    review = review.split()\n",
        "    \n",
        "    review = [stemmer.stem(word) for word in review if not word in stopwords.words('english') if word not in string.punctuation]\n",
        "    review = ' '.join(review)\n",
        "    corpus.append(review)"
      ],
      "execution_count": 17,
      "outputs": [
        {
          "output_type": "stream",
          "text": [
            "CPU times: user 16.9 s, sys: 1.74 s, total: 18.6 s\n",
            "Wall time: 18.6 s\n"
          ],
          "name": "stdout"
        }
      ]
    },
    {
      "cell_type": "code",
      "metadata": {
        "id": "4CwJ8UaNB4bz"
      },
      "source": [
        "from tensorflow.keras.preprocessing.text import Tokenizer\n",
        "from tensorflow.keras.preprocessing.sequence import pad_sequences"
      ],
      "execution_count": 18,
      "outputs": []
    },
    {
      "cell_type": "code",
      "metadata": {
        "colab": {
          "base_uri": "https://localhost:8080/"
        },
        "id": "B0IdpjH6CPAM",
        "outputId": "fd7aa6d8-14f6-4abe-a511-b077b4134bd4"
      },
      "source": [
        "corpus[0:5]"
      ],
      "execution_count": 19,
      "outputs": [
        {
          "output_type": "execute_result",
          "data": {
            "text/plain": [
              "['accord gran compani plan move product russia although compani grow',\n",
              " 'technopoli plan develop stage area less squar meter order host compani work comput technolog telecommun statement said',\n",
              " 'intern electron industri compani elcoteq laid ten employe tallinn facil contrari earlier layoff compani contract rank offic worker daili postime report',\n",
              " 'new product plant compani would increas capac meet expect increas demand would improv use raw materi therefor increas product profit',\n",
              " 'accord compani updat strategi year baswar target long term net sale growth rang oper profit margin net sale']"
            ]
          },
          "metadata": {
            "tags": []
          },
          "execution_count": 19
        }
      ]
    },
    {
      "cell_type": "code",
      "metadata": {
        "id": "LYoojpz1B3z0"
      },
      "source": [
        "voc_size=5000\n",
        "sent_length=30\n",
        "embedding_dim=50"
      ],
      "execution_count": 20,
      "outputs": []
    },
    {
      "cell_type": "code",
      "metadata": {
        "id": "lQqPAIjADAIl"
      },
      "source": [
        "t=Tokenizer(num_words=voc_size,oov_token='no comments')\n",
        "t.fit_on_texts(corpus)"
      ],
      "execution_count": 21,
      "outputs": []
    },
    {
      "cell_type": "code",
      "metadata": {
        "id": "GQsp9UtMDADo"
      },
      "source": [
        "tokenized_sent=t.texts_to_sequences(corpus)"
      ],
      "execution_count": 22,
      "outputs": []
    },
    {
      "cell_type": "code",
      "metadata": {
        "colab": {
          "base_uri": "https://localhost:8080/"
        },
        "id": "2epG22P3EHwL",
        "outputId": "c7c9d3f3-33ed-4f8d-e33e-2ddd1f032fbe"
      },
      "source": [
        "embedded_docs=pad_sequences(tokenized_sent,padding='pre',truncating='pre',maxlen=sent_length)\n",
        "len(embedded_docs[0])"
      ],
      "execution_count": 23,
      "outputs": [
        {
          "output_type": "execute_result",
          "data": {
            "text/plain": [
              "30"
            ]
          },
          "metadata": {
            "tags": []
          },
          "execution_count": 23
        }
      ]
    },
    {
      "cell_type": "markdown",
      "metadata": {
        "id": "f15QgIFRkbnq"
      },
      "source": [
        "## train test split"
      ]
    },
    {
      "cell_type": "code",
      "metadata": {
        "id": "1v_qzFCE02tm"
      },
      "source": [
        "from sklearn.model_selection import train_test_split\n",
        "x_train,x_test,y_train,y_test=train_test_split(embedded_docs,df['label'],random_state=randomseed,test_size=.3)"
      ],
      "execution_count": 24,
      "outputs": []
    },
    {
      "cell_type": "markdown",
      "metadata": {
        "id": "4XOcBMtIbFQ6"
      },
      "source": [
        "\n",
        "\n",
        "--- Actually training and testing data should be preprocessed separately inorder to avoid dataleakage or use a pipeline\n",
        "\n"
      ]
    },
    {
      "cell_type": "code",
      "metadata": {
        "colab": {
          "base_uri": "https://localhost:8080/"
        },
        "id": "7nIYRuWt02qJ",
        "outputId": "2545818d-239d-4b4f-f389-ff6ec9ae5e47"
      },
      "source": [
        "x_train.shape,x_test.shape,y_train.shape,y_test.shape"
      ],
      "execution_count": 25,
      "outputs": [
        {
          "output_type": "execute_result",
          "data": {
            "text/plain": [
              "((6045, 30), (2592, 30), (6045,), (2592,))"
            ]
          },
          "metadata": {
            "tags": []
          },
          "execution_count": 25
        }
      ]
    },
    {
      "cell_type": "markdown",
      "metadata": {
        "id": "hUiDHUAIkgfs"
      },
      "source": [
        "## deeplearning model:"
      ]
    },
    {
      "cell_type": "code",
      "metadata": {
        "id": "LGVUQc6HBVpC"
      },
      "source": [
        "from tensorflow.keras.layers import Dense,LSTM,Dropout,Embedding\n",
        "from tensorflow.keras.models import Sequential\n",
        "from keras.optimizers import Adam\n",
        "from keras.metrics import sparse_categorical_crossentropy,categorical_crossentropy"
      ],
      "execution_count": 26,
      "outputs": []
    },
    {
      "cell_type": "code",
      "metadata": {
        "colab": {
          "base_uri": "https://localhost:8080/"
        },
        "id": "btYOn6PiFr4H",
        "outputId": "9395d8df-0684-4828-fa2e-8fca10a6e66d"
      },
      "source": [
        "%%time\n",
        "model=Sequential()\n",
        "model.add(Embedding(voc_size,embedding_dim,input_length=sent_length))\n",
        "model.add(LSTM(30,return_sequences=True))\n",
        "model.add(LSTM(20))\n",
        "model.add(Dropout(seed=randomseed,rate=0.2))\n",
        "model.add(Dense(32,activation='relu'))\n",
        "model.add(Dense(3,activation='softmax'))\n",
        "model.compile(loss='sparse_categorical_crossentropy',optimizer='Adam',metrics=['accuracy'])\n",
        "print(model.summary())"
      ],
      "execution_count": 27,
      "outputs": [
        {
          "output_type": "stream",
          "text": [
            "Model: \"sequential\"\n",
            "_________________________________________________________________\n",
            "Layer (type)                 Output Shape              Param #   \n",
            "=================================================================\n",
            "embedding (Embedding)        (None, 30, 50)            250000    \n",
            "_________________________________________________________________\n",
            "lstm (LSTM)                  (None, 30, 30)            9720      \n",
            "_________________________________________________________________\n",
            "lstm_1 (LSTM)                (None, 20)                4080      \n",
            "_________________________________________________________________\n",
            "dropout (Dropout)            (None, 20)                0         \n",
            "_________________________________________________________________\n",
            "dense (Dense)                (None, 32)                672       \n",
            "_________________________________________________________________\n",
            "dense_1 (Dense)              (None, 3)                 99        \n",
            "=================================================================\n",
            "Total params: 264,571\n",
            "Trainable params: 264,571\n",
            "Non-trainable params: 0\n",
            "_________________________________________________________________\n",
            "None\n",
            "CPU times: user 775 ms, sys: 276 ms, total: 1.05 s\n",
            "Wall time: 1.06 s\n"
          ],
          "name": "stdout"
        }
      ]
    },
    {
      "cell_type": "code",
      "metadata": {
        "colab": {
          "base_uri": "https://localhost:8080/"
        },
        "id": "8sFzjROtITh-",
        "outputId": "5a017427-ddf7-4a7c-9175-97b644140691"
      },
      "source": [
        "%%time\n",
        "history=model.fit(x_train,y_train,validation_data=(x_test,y_test),epochs=30,verbose=1,batch_size=128)"
      ],
      "execution_count": 28,
      "outputs": [
        {
          "output_type": "stream",
          "text": [
            "Epoch 1/30\n",
            "48/48 [==============================] - 5s 25ms/step - loss: 1.0474 - accuracy: 0.4280 - val_loss: 0.8996 - val_accuracy: 0.6111\n",
            "Epoch 2/30\n",
            "48/48 [==============================] - 1s 11ms/step - loss: 0.7051 - accuracy: 0.6890 - val_loss: 0.5651 - val_accuracy: 0.7785\n",
            "Epoch 3/30\n",
            "48/48 [==============================] - 1s 11ms/step - loss: 0.3945 - accuracy: 0.8577 - val_loss: 0.4278 - val_accuracy: 0.8453\n",
            "Epoch 4/30\n",
            "48/48 [==============================] - 1s 12ms/step - loss: 0.2501 - accuracy: 0.9270 - val_loss: 0.4148 - val_accuracy: 0.8630\n",
            "Epoch 5/30\n",
            "48/48 [==============================] - 1s 11ms/step - loss: 0.1910 - accuracy: 0.9457 - val_loss: 0.4405 - val_accuracy: 0.8669\n",
            "Epoch 6/30\n",
            "48/48 [==============================] - 1s 11ms/step - loss: 0.1592 - accuracy: 0.9558 - val_loss: 0.4223 - val_accuracy: 0.8750\n",
            "Epoch 7/30\n",
            "48/48 [==============================] - 1s 11ms/step - loss: 0.1314 - accuracy: 0.9651 - val_loss: 0.4604 - val_accuracy: 0.8777\n",
            "Epoch 8/30\n",
            "48/48 [==============================] - 1s 11ms/step - loss: 0.1158 - accuracy: 0.9691 - val_loss: 0.4413 - val_accuracy: 0.8823\n",
            "Epoch 9/30\n",
            "48/48 [==============================] - 1s 11ms/step - loss: 0.0990 - accuracy: 0.9737 - val_loss: 0.4636 - val_accuracy: 0.8854\n",
            "Epoch 10/30\n",
            "48/48 [==============================] - 1s 11ms/step - loss: 0.0850 - accuracy: 0.9773 - val_loss: 0.5286 - val_accuracy: 0.8800\n",
            "Epoch 11/30\n",
            "48/48 [==============================] - 1s 11ms/step - loss: 0.0738 - accuracy: 0.9795 - val_loss: 0.5362 - val_accuracy: 0.8873\n",
            "Epoch 12/30\n",
            "48/48 [==============================] - 1s 11ms/step - loss: 0.0715 - accuracy: 0.9798 - val_loss: 0.5503 - val_accuracy: 0.8812\n",
            "Epoch 13/30\n",
            "48/48 [==============================] - 1s 11ms/step - loss: 0.0663 - accuracy: 0.9811 - val_loss: 0.5385 - val_accuracy: 0.8947\n",
            "Epoch 14/30\n",
            "48/48 [==============================] - 1s 11ms/step - loss: 0.0682 - accuracy: 0.9798 - val_loss: 0.5439 - val_accuracy: 0.8777\n",
            "Epoch 15/30\n",
            "48/48 [==============================] - 1s 11ms/step - loss: 0.0688 - accuracy: 0.9797 - val_loss: 0.5880 - val_accuracy: 0.8808\n",
            "Epoch 16/30\n",
            "48/48 [==============================] - 1s 11ms/step - loss: 0.0632 - accuracy: 0.9805 - val_loss: 0.5662 - val_accuracy: 0.8897\n",
            "Epoch 17/30\n",
            "48/48 [==============================] - 1s 11ms/step - loss: 0.0648 - accuracy: 0.9795 - val_loss: 0.5592 - val_accuracy: 0.8931\n",
            "Epoch 18/30\n",
            "48/48 [==============================] - 1s 11ms/step - loss: 0.0525 - accuracy: 0.9838 - val_loss: 0.5847 - val_accuracy: 0.8916\n",
            "Epoch 19/30\n",
            "48/48 [==============================] - 1s 11ms/step - loss: 0.0505 - accuracy: 0.9856 - val_loss: 0.6109 - val_accuracy: 0.8893\n",
            "Epoch 20/30\n",
            "48/48 [==============================] - 1s 11ms/step - loss: 0.0442 - accuracy: 0.9871 - val_loss: 0.6112 - val_accuracy: 0.8947\n",
            "Epoch 21/30\n",
            "48/48 [==============================] - 1s 11ms/step - loss: 0.0449 - accuracy: 0.9854 - val_loss: 0.6233 - val_accuracy: 0.8943\n",
            "Epoch 22/30\n",
            "48/48 [==============================] - 1s 11ms/step - loss: 0.0414 - accuracy: 0.9871 - val_loss: 0.6394 - val_accuracy: 0.8981\n",
            "Epoch 23/30\n",
            "48/48 [==============================] - 1s 11ms/step - loss: 0.0380 - accuracy: 0.9874 - val_loss: 0.6646 - val_accuracy: 0.8954\n",
            "Epoch 24/30\n",
            "48/48 [==============================] - 1s 11ms/step - loss: 0.0343 - accuracy: 0.9899 - val_loss: 0.6685 - val_accuracy: 0.8866\n",
            "Epoch 25/30\n",
            "48/48 [==============================] - 1s 11ms/step - loss: 0.0356 - accuracy: 0.9883 - val_loss: 0.6586 - val_accuracy: 0.8862\n",
            "Epoch 26/30\n",
            "48/48 [==============================] - 1s 11ms/step - loss: 0.0371 - accuracy: 0.9883 - val_loss: 0.7265 - val_accuracy: 0.8881\n",
            "Epoch 27/30\n",
            "48/48 [==============================] - 1s 11ms/step - loss: 0.0344 - accuracy: 0.9889 - val_loss: 0.7405 - val_accuracy: 0.8897\n",
            "Epoch 28/30\n",
            "48/48 [==============================] - 1s 11ms/step - loss: 0.0331 - accuracy: 0.9891 - val_loss: 0.7226 - val_accuracy: 0.8908\n",
            "Epoch 29/30\n",
            "48/48 [==============================] - 1s 11ms/step - loss: 0.0325 - accuracy: 0.9894 - val_loss: 0.7252 - val_accuracy: 0.8881\n",
            "Epoch 30/30\n",
            "48/48 [==============================] - 1s 11ms/step - loss: 0.0310 - accuracy: 0.9891 - val_loss: 0.7957 - val_accuracy: 0.8900\n",
            "CPU times: user 24.1 s, sys: 2.18 s, total: 26.3 s\n",
            "Wall time: 21.1 s\n"
          ],
          "name": "stdout"
        }
      ]
    },
    {
      "cell_type": "code",
      "metadata": {
        "colab": {
          "base_uri": "https://localhost:8080/"
        },
        "id": "-SD8OAmOI4yz",
        "outputId": "68c4f556-310d-4a05-de0d-42071a6c1c8b"
      },
      "source": [
        "y_pred=np.argmax(model.predict(x_test), axis=-1)\n",
        "y_pred"
      ],
      "execution_count": 29,
      "outputs": [
        {
          "output_type": "execute_result",
          "data": {
            "text/plain": [
              "array([0, 1, 0, ..., 0, 2, 2])"
            ]
          },
          "metadata": {
            "tags": []
          },
          "execution_count": 29
        }
      ]
    },
    {
      "cell_type": "code",
      "metadata": {
        "colab": {
          "base_uri": "https://localhost:8080/",
          "height": 282
        },
        "id": "58BN95X4TcP0",
        "outputId": "bdf409a6-1b72-4590-824a-97275a6773c9"
      },
      "source": [
        "from sklearn.metrics import confusion_matrix,classification_report\n",
        "import seaborn as sns\n",
        "a=confusion_matrix(y_test,y_pred)\n",
        "sns.heatmap(a,annot=True,cmap='rocket_r')"
      ],
      "execution_count": 30,
      "outputs": [
        {
          "output_type": "execute_result",
          "data": {
            "text/plain": [
              "<matplotlib.axes._subplots.AxesSubplot at 0x7fc8806caf90>"
            ]
          },
          "metadata": {
            "tags": []
          },
          "execution_count": 30
        },
        {
          "output_type": "display_data",
          "data": {
            "image/png": "[encoded data removed]",
            "text/plain": [
              "<Figure size 432x288 with 2 Axes>"
            ]
          },
          "metadata": {
            "tags": [],
            "needs_background": "light"
          }
        }
      ]
    },
    {
      "cell_type": "code",
      "metadata": {
        "colab": {
          "base_uri": "https://localhost:8080/"
        },
        "id": "8_docfw0UBMx",
        "outputId": "bf085525-f03b-4b01-e333-0600ef64e1e1"
      },
      "source": [
        "print(classification_report(y_test,y_pred))"
      ],
      "execution_count": 31,
      "outputs": [
        {
          "output_type": "stream",
          "text": [
            "              precision    recall  f1-score   support\n",
            "\n",
            "           0       0.93      0.99      0.95       892\n",
            "           1       0.89      0.80      0.84       845\n",
            "           2       0.85      0.88      0.86       855\n",
            "\n",
            "    accuracy                           0.89      2592\n",
            "   macro avg       0.89      0.89      0.89      2592\n",
            "weighted avg       0.89      0.89      0.89      2592\n",
            "\n"
          ],
          "name": "stdout"
        }
      ]
    },
    {
      "cell_type": "markdown",
      "metadata": {
        "id": "T2LRLai7kvE1"
      },
      "source": [
        "\n",
        "\n",
        "--- the recall score for class 1() is low which means the model is not able to correctly predict class 1\n",
        "\n"
      ]
    },
    {
      "cell_type": "markdown",
      "metadata": {
        "id": "UfLQlxOIU2y0"
      },
      "source": [
        "# without neural networks"
      ]
    },
    {
      "cell_type": "code",
      "metadata": {
        "id": "uM-F4Kb_VDyr"
      },
      "source": [
        "from sklearn.naive_bayes import MultinomialNB\n",
        "from sklearn.ensemble import RandomForestClassifier\n",
        "from sklearn.tree import  DecisionTreeClassifier\n",
        "mnb=MultinomialNB()\n",
        "rf=RandomForestClassifier()\n",
        "dt=DecisionTreeClassifier()"
      ],
      "execution_count": 32,
      "outputs": []
    },
    {
      "cell_type": "code",
      "metadata": {
        "colab": {
          "base_uri": "https://localhost:8080/"
        },
        "id": "VrbhgfYmV9cz",
        "outputId": "285aef26-5f37-4d69-e667-dbe3086bf3f5"
      },
      "source": [
        "x_train"
      ],
      "execution_count": 33,
      "outputs": [
        {
          "output_type": "execute_result",
          "data": {
            "text/plain": [
              "array([[   0,    0,    0, ..., 1401,  265, 1093],\n",
              "       [   0,    0,    0, ..., 1570,   49,   35],\n",
              "       [   0,    0,    0, ...,   29,   13,  376],\n",
              "       ...,\n",
              "       [   0,    0,    0, ...,  575,  926,  346],\n",
              "       [   0,    0,    0, ...,  120,   15, 1658],\n",
              "       [   0,    0,    0, ...,   33,  625,  557]], dtype=int32)"
            ]
          },
          "metadata": {
            "tags": []
          },
          "execution_count": 33
        }
      ]
    },
    {
      "cell_type": "code",
      "metadata": {
        "colab": {
          "base_uri": "https://localhost:8080/"
        },
        "id": "buuMvNSNV2Vc",
        "outputId": "25c2026f-4e23-4eae-aa64-26ab53ebfac3"
      },
      "source": [
        "mnb.fit(x_train,y_train)"
      ],
      "execution_count": 34,
      "outputs": [
        {
          "output_type": "execute_result",
          "data": {
            "text/plain": [
              "MultinomialNB(alpha=1.0, class_prior=None, fit_prior=True)"
            ]
          },
          "metadata": {
            "tags": []
          },
          "execution_count": 34
        }
      ]
    },
    {
      "cell_type": "code",
      "metadata": {
        "colab": {
          "base_uri": "https://localhost:8080/"
        },
        "id": "sK5fOI6xV7rW",
        "outputId": "26ffe58a-e1d9-4d29-ebf2-b21d77e3639d"
      },
      "source": [
        "mnb_pred=mnb.predict(x_test)\n",
        "print(classification_report(y_test,mnb_pred))"
      ],
      "execution_count": 35,
      "outputs": [
        {
          "output_type": "stream",
          "text": [
            "              precision    recall  f1-score   support\n",
            "\n",
            "           0       0.35      0.24      0.29       892\n",
            "           1       0.34      0.58      0.43       845\n",
            "           2       0.40      0.26      0.31       855\n",
            "\n",
            "    accuracy                           0.36      2592\n",
            "   macro avg       0.36      0.36      0.34      2592\n",
            "weighted avg       0.36      0.36      0.34      2592\n",
            "\n"
          ],
          "name": "stdout"
        }
      ]
    },
    {
      "cell_type": "code",
      "metadata": {
        "colab": {
          "base_uri": "https://localhost:8080/"
        },
        "id": "hgNoxnmEWQuM",
        "outputId": "c37c6e99-f5b0-4fdf-fd8f-65d5f3fd4cfc"
      },
      "source": [
        "rf.fit(x_train,y_train)\n",
        "rf_pred=rf.predict(x_test)\n",
        "print(classification_report(y_test,rf_pred))"
      ],
      "execution_count": 36,
      "outputs": [
        {
          "output_type": "stream",
          "text": [
            "              precision    recall  f1-score   support\n",
            "\n",
            "           0       0.95      0.98      0.96       892\n",
            "           1       0.81      0.85      0.83       845\n",
            "           2       0.87      0.79      0.82       855\n",
            "\n",
            "    accuracy                           0.87      2592\n",
            "   macro avg       0.87      0.87      0.87      2592\n",
            "weighted avg       0.87      0.87      0.87      2592\n",
            "\n"
          ],
          "name": "stdout"
        }
      ]
    },
    {
      "cell_type": "code",
      "metadata": {
        "colab": {
          "base_uri": "https://localhost:8080/"
        },
        "id": "HSGV_hyBWjdo",
        "outputId": "bb700250-639a-4bcd-ab08-adf66c11e7d4"
      },
      "source": [
        "dt.fit(x_train,y_train)\n",
        "dt_pred=dt.predict(x_test)\n",
        "print(classification_report(y_test,dt_pred))"
      ],
      "execution_count": 37,
      "outputs": [
        {
          "output_type": "stream",
          "text": [
            "              precision    recall  f1-score   support\n",
            "\n",
            "           0       0.86      0.98      0.92       892\n",
            "           1       0.82      0.63      0.71       845\n",
            "           2       0.75      0.83      0.79       855\n",
            "\n",
            "    accuracy                           0.81      2592\n",
            "   macro avg       0.81      0.81      0.81      2592\n",
            "weighted avg       0.81      0.81      0.81      2592\n",
            "\n"
          ],
          "name": "stdout"
        }
      ]
    },
    {
      "cell_type": "markdown",
      "metadata": {
        "id": "d8GJVEYRi37v"
      },
      "source": [
        "\n",
        "##   ---> lstm model and randomforest model have almost same accuracy\n"
      ]
    },
    {
      "cell_type": "code",
      "metadata": {
        "id": "7_CkrxDUYk4x"
      },
      "source": [
        ""
      ],
      "execution_count": 37,
      "outputs": []
    }
  ]
}