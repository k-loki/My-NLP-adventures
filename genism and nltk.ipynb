{
 "cells": [
  {
   "cell_type": "code",
   "execution_count": 1,
   "id": "2733990c",
   "metadata": {},
   "outputs": [],
   "source": [
    "import re\n",
    "import nltk\n",
    "from gensim.models import Word2Vec"
   ]
  },
  {
   "cell_type": "code",
   "execution_count": 2,
   "id": "f3b6cf59",
   "metadata": {},
   "outputs": [],
   "source": [
    "paragraph = \"\"\"I have three visions for India. In 3000 years of our history, people from all over \n",
    "               the world have come and invaded us, captured our lands, conquered our minds. \n",
    "               From Alexander onwards, the Greeks, the Turks, the Moguls, the Portuguese, the British,\n",
    "               the French, the Dutch, all of them came and looted us, took over what was ours. \n",
    "               Yet we have not done this to any other nation. We have not conquered anyone. \n",
    "               We have not grabbed their land, their culture, \n",
    "               their history and tried to enforce our way of life on them. \n",
    "               Why? Because we respect the freedom of others.That is why my \n",
    "               first vision is that of freedom. I believe that India got its first vision of \n",
    "               this in 1857, when we started the War of Independence. It is this freedom that\n",
    "               we must protect and nurture and build on. If we are not free, no one will respect us.\n",
    "               My second vision for India’s development. For fifty years we have been a developing nation.\n",
    "               It is time we see ourselves as a developed nation. We are among the top 5 nations of the world\n",
    "               in terms of GDP. We have a 10 percent growth rate in most areas. Our poverty levels are falling.\n",
    "               Our achievements are being globally recognised today. Yet we lack the self-confidence to\n",
    "               see ourselves as a developed nation, self-reliant and self-assured. Isn’t this incorrect?\n",
    "               I have a third vision. India must stand up to the world. Because I believe that unless India \n",
    "               stands up to the world, no one will respect us. Only strength respects strength. We must be \n",
    "               strong not only as a military power but also as an economic power. Both must go hand-in-hand. \n",
    "               My good fortune was to have worked with three great minds. Dr. Vikram Sarabhai of the Dept. of \n",
    "               space, Professor Satish Dhawan, who succeeded him and Dr. Brahm Prakash, father of nuclear material.\n",
    "               I was lucky to have worked with all three of them closely and consider this the great opportunity of my life. \n",
    "               I see four milestones in my career\"\"\"\n"
   ]
  },
  {
   "cell_type": "code",
   "execution_count": 17,
   "id": "2f818562",
   "metadata": {},
   "outputs": [],
   "source": [
    "from nltk.stem.wordnet import WordNetLemmatizer\n",
    "from nltk.tokenize import word_tokenize, sent_tokenize\n",
    "from nltk.stem.porter import PorterStemmer\n",
    "from nltk.corpus import stopwords\n",
    "ps = PorterStemmer()\n",
    "wnl = WordNetLemmatizer()\n"
   ]
  },
  {
   "cell_type": "code",
   "execution_count": 5,
   "id": "37e2ae92",
   "metadata": {},
   "outputs": [
    {
     "data": {
      "text/plain": [
       "399"
      ]
     },
     "execution_count": 5,
     "metadata": {},
     "output_type": "execute_result"
    }
   ],
   "source": [
    "a = word_tokenize(paragraph)\n",
    "len(a)\n"
   ]
  },
  {
   "cell_type": "code",
   "execution_count": 9,
   "id": "19c4ffc7",
   "metadata": {},
   "outputs": [
    {
     "data": {
      "text/plain": [
       "['I have three visions for India.',\n",
       " 'In 3000 years of our history, people from all over \\n               the world have come and invaded us, captured our lands, conquered our minds.',\n",
       " 'From Alexander onwards, the Greeks, the Turks, the Moguls, the Portuguese, the British,\\n               the French, the Dutch, all of them came and looted us, took over what was ours.',\n",
       " 'Yet we have not done this to any other nation.',\n",
       " 'We have not conquered anyone.',\n",
       " 'We have not grabbed their land, their culture, \\n               their history and tried to enforce our way of life on them.',\n",
       " 'Why?',\n",
       " 'Because we respect the freedom of others.That is why my \\n               first vision is that of freedom.',\n",
       " 'I believe that India got its first vision of \\n               this in 1857, when we started the War of Independence.',\n",
       " 'It is this freedom that\\n               we must protect and nurture and build on.',\n",
       " 'If we are not free, no one will respect us.',\n",
       " 'My second vision for India’s development.',\n",
       " 'For fifty years we have been a developing nation.',\n",
       " 'It is time we see ourselves as a developed nation.',\n",
       " 'We are among the top 5 nations of the world\\n               in terms of GDP.',\n",
       " 'We have a 10 percent growth rate in most areas.',\n",
       " 'Our poverty levels are falling.',\n",
       " 'Our achievements are being globally recognised today.',\n",
       " 'Yet we lack the self-confidence to\\n               see ourselves as a developed nation, self-reliant and self-assured.',\n",
       " 'Isn’t this incorrect?',\n",
       " 'I have a third vision.',\n",
       " 'India must stand up to the world.',\n",
       " 'Because I believe that unless India \\n               stands up to the world, no one will respect us.',\n",
       " 'Only strength respects strength.',\n",
       " 'We must be \\n               strong not only as a military power but also as an economic power.',\n",
       " 'Both must go hand-in-hand.',\n",
       " 'My good fortune was to have worked with three great minds.',\n",
       " 'Dr. Vikram Sarabhai of the Dept.',\n",
       " 'of \\n               space, Professor Satish Dhawan, who succeeded him and Dr. Brahm Prakash, father of nuclear material.',\n",
       " 'I was lucky to have worked with all three of them closely and consider this the great opportunity of my life.',\n",
       " 'I see four milestones in my career']"
      ]
     },
     "execution_count": 9,
     "metadata": {},
     "output_type": "execute_result"
    }
   ],
   "source": [
    "sentences = sent_tokenize(paragraph)\n",
    "sentences\n"
   ]
  },
  {
   "cell_type": "code",
   "execution_count": 25,
   "id": "ba4e800c",
   "metadata": {},
   "outputs": [],
   "source": [
    "corpus = []\n",
    "for sent in sentences:\n",
    "    sent = re.sub('^[a-zA-Z]', ' ', sent)\n",
    "    sent = sent.lower()\n",
    "    sent = sent.split()\n",
    "    sent = [wnl.lemmatize(word)\n",
    "            for word in sent if sent not in stopwords.words('english')]\n",
    "    sent = \" \".join(sent)\n",
    "    corpus.append(sent)\n"
   ]
  },
  {
   "cell_type": "code",
   "execution_count": 26,
   "id": "89835f5d",
   "metadata": {},
   "outputs": [
    {
     "data": {
      "text/plain": [
       "['have three vision for india.',\n",
       " 'n 3000 year of our history, people from all over the world have come and invaded us, captured our lands, conquered our minds.',\n",
       " 'rom alexander onwards, the greeks, the turks, the moguls, the portuguese, the british, the french, the dutch, all of them came and looted us, took over what wa ours.',\n",
       " 'et we have not done this to any other nation.',\n",
       " 'e have not conquered anyone.',\n",
       " 'e have not grabbed their land, their culture, their history and tried to enforce our way of life on them.',\n",
       " 'hy?',\n",
       " 'ecause we respect the freedom of others.that is why my first vision is that of freedom.',\n",
       " 'believe that india got it first vision of this in 1857, when we started the war of independence.',\n",
       " 't is this freedom that we must protect and nurture and build on.',\n",
       " 'f we are not free, no one will respect us.',\n",
       " 'y second vision for india’s development.',\n",
       " 'or fifty year we have been a developing nation.',\n",
       " 't is time we see ourselves a a developed nation.',\n",
       " 'e are among the top 5 nation of the world in term of gdp.',\n",
       " 'e have a 10 percent growth rate in most areas.',\n",
       " 'ur poverty level are falling.',\n",
       " 'ur achievement are being globally recognised today.',\n",
       " 'et we lack the self-confidence to see ourselves a a developed nation, self-reliant and self-assured.',\n",
       " 'sn’t this incorrect?',\n",
       " 'have a third vision.',\n",
       " 'ndia must stand up to the world.',\n",
       " 'ecause i believe that unless india stand up to the world, no one will respect us.',\n",
       " 'nly strength respect strength.',\n",
       " 'e must be strong not only a a military power but also a an economic power.',\n",
       " 'oth must go hand-in-hand.',\n",
       " 'y good fortune wa to have worked with three great minds.',\n",
       " 'r. vikram sarabhai of the dept.',\n",
       " 'f space, professor satish dhawan, who succeeded him and dr. brahm prakash, father of nuclear material.',\n",
       " 'wa lucky to have worked with all three of them closely and consider this the great opportunity of my life.',\n",
       " 'see four milestone in my career']"
      ]
     },
     "execution_count": 26,
     "metadata": {},
     "output_type": "execute_result"
    }
   ],
   "source": [
    "corpus\n"
   ]
  },
  {
   "cell_type": "code",
   "execution_count": 34,
   "id": "8ea8841f",
   "metadata": {},
   "outputs": [],
   "source": [
    "model = Word2Vec(min_count=1,)"
   ]
  },
  {
   "cell_type": "code",
   "execution_count": 39,
   "id": "b0de28c7",
   "metadata": {},
   "outputs": [],
   "source": [
    "model.build_vocab([corpus], progress_per=1000)"
   ]
  },
  {
   "cell_type": "code",
   "execution_count": 40,
   "id": "9aae5b4a",
   "metadata": {},
   "outputs": [
    {
     "data": {
      "text/plain": [
       "(0, 9070)"
      ]
     },
     "execution_count": 40,
     "metadata": {},
     "output_type": "execute_result"
    }
   ],
   "source": [
    "model.train(corpus, total_examples=model.corpus_count, epochs=model.epochs)"
   ]
  },
  {
   "cell_type": "code",
   "execution_count": null,
   "id": "95b838fc",
   "metadata": {},
   "outputs": [],
   "source": []
  },
  {
   "cell_type": "code",
   "execution_count": 1,
   "id": "f83d3af3",
   "metadata": {},
   "outputs": [],
   "source": [
    "import spacy\n",
    "nlp = spacy.load('en_core_web_sm')"
   ]
  },
  {
   "cell_type": "code",
   "execution_count": 2,
   "id": "8749b670",
   "metadata": {},
   "outputs": [],
   "source": [
    "doc = nlp(\"i am king and kings never die...\")\n"
   ]
  },
  {
   "cell_type": "code",
   "execution_count": 3,
   "id": "6a35eef8",
   "metadata": {},
   "outputs": [
    {
     "name": "stdout",
     "output_type": "stream",
     "text": [
      "i i PRON\n",
      "am am AUX\n",
      "king king NOUN\n",
      "and and CCONJ\n",
      "kings kings NOUN\n",
      "never never ADV\n",
      "die die VERB\n",
      "... ... PUNCT\n"
     ]
    }
   ],
   "source": [
    "for token in doc:\n",
    "    print(token, token.text, token.pos_)\n"
   ]
  },
  {
   "cell_type": "code",
   "execution_count": 4,
   "id": "9e2cb234",
   "metadata": {},
   "outputs": [
    {
     "name": "stdout",
     "output_type": "stream",
     "text": [
      "nsubj am\n",
      "ROOT am\n",
      "attr am\n",
      "cc king\n",
      "conj king\n",
      "neg die\n",
      "conj am\n",
      "punct am\n"
     ]
    }
   ],
   "source": [
    "for token in doc:\n",
    "    print(token.dep_, token.head.text)\n"
   ]
  },
  {
   "cell_type": "code",
   "execution_count": 13,
   "id": "76237166",
   "metadata": {},
   "outputs": [],
   "source": [
    "for ent in doc.ents:\n",
    "    print('something')\n",
    "    print(ent.text, ent.label)\n",
    "    print('whats wrong with this')\n"
   ]
  },
  {
   "cell_type": "code",
   "execution_count": null,
   "id": "f5ba10b4",
   "metadata": {},
   "outputs": [],
   "source": [
    "print(doc.vocab)"
   ]
  },
  {
   "cell_type": "code",
   "execution_count": 18,
   "id": "a4ec89e7",
   "metadata": {},
   "outputs": [
    {
     "name": "stdout",
     "output_type": "stream",
     "text": [
      "['tok2vec', 'tagger', 'parser', 'attribute_ruler', 'lemmatizer', 'ner']\n"
     ]
    }
   ],
   "source": [
    "print(nlp.pipe_names)\n"
   ]
  },
  {
   "cell_type": "code",
   "execution_count": 17,
   "id": "781c86e7",
   "metadata": {},
   "outputs": [
    {
     "name": "stdout",
     "output_type": "stream",
     "text": [
      "[('tok2vec', <spacy.pipeline.tok2vec.Tok2Vec object at 0x00000227E62E5590>), ('tagger', <spacy.pipeline.tagger.Tagger object at 0x00000227E63214A0>), ('parser', <spacy.pipeline.dep_parser.DependencyParser object at 0x00000227E62ED220>), ('attribute_ruler', <spacy.pipeline.attributeruler.AttributeRuler object at 0x00000227E62DAF40>), ('lemmatizer', <spacy.lang.en.lemmatizer.EnglishLemmatizer object at 0x00000227E62D6240>), ('ner', <spacy.pipeline.ner.EntityRecognizer object at 0x00000227E6130D60>)]\n"
     ]
    }
   ],
   "source": [
    "print(nlp.pipeline)\n"
   ]
  },
  {
   "cell_type": "code",
   "execution_count": null,
   "id": "45588b14",
   "metadata": {},
   "outputs": [],
   "source": []
  }
 ],
 "metadata": {
  "kernelspec": {
   "display_name": "Python 3",
   "language": "python",
   "name": "python3"
  },
  "language_info": {
   "codemirror_mode": {
    "name": "ipython",
    "version": 3
   },
   "file_extension": ".py",
   "mimetype": "text/x-python",
   "name": "python",
   "nbconvert_exporter": "python",
   "pygments_lexer": "ipython3",
   "version": "3.9.5"
  },
  "toc": {
   "base_numbering": 1,
   "nav_menu": {},
   "number_sections": true,
   "sideBar": true,
   "skip_h1_title": false,
   "title_cell": "Table of Contents",
   "title_sidebar": "Contents",
   "toc_cell": false,
   "toc_position": {},
   "toc_section_display": true,
   "toc_window_display": false
  },
  "varInspector": {
   "cols": {
    "lenName": 16,
    "lenType": 16,
    "lenVar": 40
   },
   "kernels_config": {
    "python": {
     "delete_cmd_postfix": "",
     "delete_cmd_prefix": "del ",
     "library": "var_list.py",
     "varRefreshCmd": "print(var_dic_list())"
    },
    "r": {
     "delete_cmd_postfix": ") ",
     "delete_cmd_prefix": "rm(",
     "library": "var_list.r",
     "varRefreshCmd": "cat(var_dic_list()) "
    }
   },
   "types_to_exclude": [
    "module",
    "function",
    "builtin_function_or_method",
    "instance",
    "_Feature"
   ],
   "window_display": false
  }
 },
 "nbformat": 4,
 "nbformat_minor": 5
}
