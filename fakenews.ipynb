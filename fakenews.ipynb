{
  "nbformat": 4,
  "nbformat_minor": 0,
  "metadata": {
    "colab": {
      "name": "fakenews.ipynb",
      "provenance": [],
      "collapsed_sections": [],
      "toc_visible": true,
      "mount_file_id": "1hN0ZkOd6iGDHNMwUslxFFF_wMIGhc1iO",
      "authorship_tag": "ABX9TyPE90/ELjdZj7yzdP+yWmha",
      "include_colab_link": true
    },
    "kernelspec": {
      "name": "python3",
      "display_name": "Python 3"
    },
    "language_info": {
      "name": "python"
    },
    "accelerator": "GPU"
  },
  "cells": [
    {
      "cell_type": "markdown",
      "metadata": {
        "id": "view-in-github",
        "colab_type": "text"
      },
      "source": [
        "<a href=\"https://colab.research.google.com/github/kingloki-github/fuzzy-adventure/blob/main/fakenews.ipynb\" target=\"_parent\"><img src=\"https://colab.research.google.com/assets/colab-badge.svg\" alt=\"Open In Colab\"/></a>"
      ]
    },
    {
      "cell_type": "code",
      "metadata": {
        "id": "4r3cuEV6bwW1"
      },
      "source": [
        "import pandas as pd\n",
        "import numpy as np"
      ],
      "execution_count": 1,
      "outputs": []
    },
    {
      "cell_type": "code",
      "metadata": {
        "id": "dEwTtmKrbwTe"
      },
      "source": [
        "df_raw=pd.read_csv('/content/drive/MyDrive/datasets/fake news comp train.csv')"
      ],
      "execution_count": 2,
      "outputs": []
    },
    {
      "cell_type": "code",
      "metadata": {
        "colab": {
          "base_uri": "https://localhost:8080/"
        },
        "id": "4HwyVEThxY4M",
        "outputId": "6807d795-9de8-425c-e723-c2d15f906f92"
      },
      "source": [
        "df_raw.isna().sum()"
      ],
      "execution_count": 3,
      "outputs": [
        {
          "output_type": "execute_result",
          "data": {
            "text/plain": [
              "id           0\n",
              "title      558\n",
              "author    1957\n",
              "text        39\n",
              "label        0\n",
              "dtype: int64"
            ]
          },
          "metadata": {
            "tags": []
          },
          "execution_count": 3
        }
      ]
    },
    {
      "cell_type": "code",
      "metadata": {
        "colab": {
          "base_uri": "https://localhost:8080/"
        },
        "id": "gON7TtpFxfWr",
        "outputId": "26cd519f-5186-47bf-8a93-3f8416d1e0ee"
      },
      "source": [
        "df_raw.label.value_counts(normalize=True)"
      ],
      "execution_count": 4,
      "outputs": [
        {
          "output_type": "execute_result",
          "data": {
            "text/plain": [
              "1    0.500625\n",
              "0    0.499375\n",
              "Name: label, dtype: float64"
            ]
          },
          "metadata": {
            "tags": []
          },
          "execution_count": 4
        }
      ]
    },
    {
      "cell_type": "code",
      "metadata": {
        "colab": {
          "base_uri": "https://localhost:8080/"
        },
        "id": "hat4EQGGxnPP",
        "outputId": "16ce7a3e-71db-4aaa-a170-9c06d49675d3"
      },
      "source": [
        "%%time\n",
        "df_raw.author.nunique()"
      ],
      "execution_count": 5,
      "outputs": [
        {
          "output_type": "stream",
          "text": [
            "CPU times: user 2.04 ms, sys: 8 µs, total: 2.05 ms\n",
            "Wall time: 1.94 ms\n"
          ],
          "name": "stdout"
        },
        {
          "output_type": "execute_result",
          "data": {
            "text/plain": [
              "4201"
            ]
          },
          "metadata": {
            "tags": []
          },
          "execution_count": 5
        }
      ]
    },
    {
      "cell_type": "code",
      "metadata": {
        "id": "NLqCANrPyOro"
      },
      "source": [
        "df_raw.dropna(how='any',axis=0,inplace=True)"
      ],
      "execution_count": 6,
      "outputs": []
    },
    {
      "cell_type": "code",
      "metadata": {
        "colab": {
          "base_uri": "https://localhost:8080/"
        },
        "id": "Eu0a5HhVy3BC",
        "outputId": "9e69b01f-5a49-494c-dcd1-aa2fa9eb5198"
      },
      "source": [
        "df_raw.shape"
      ],
      "execution_count": 7,
      "outputs": [
        {
          "output_type": "execute_result",
          "data": {
            "text/plain": [
              "(18285, 5)"
            ]
          },
          "metadata": {
            "tags": []
          },
          "execution_count": 7
        }
      ]
    },
    {
      "cell_type": "code",
      "metadata": {
        "colab": {
          "base_uri": "https://localhost:8080/"
        },
        "id": "dBhSOaeWy6-E",
        "outputId": "917241d4-db60-4fde-bcb6-942ae6babf30"
      },
      "source": [
        "df_raw.label.value_counts(normalize=True)"
      ],
      "execution_count": 8,
      "outputs": [
        {
          "output_type": "execute_result",
          "data": {
            "text/plain": [
              "0    0.566639\n",
              "1    0.433361\n",
              "Name: label, dtype: float64"
            ]
          },
          "metadata": {
            "tags": []
          },
          "execution_count": 8
        }
      ]
    },
    {
      "cell_type": "code",
      "metadata": {
        "id": "cA09zU7SzOan"
      },
      "source": [
        "df_raw.reset_index(inplace=True)"
      ],
      "execution_count": 9,
      "outputs": []
    },
    {
      "cell_type": "code",
      "metadata": {
        "id": "EpZD8ttDzURH"
      },
      "source": [
        "df_raw.drop(columns=['index','id','author'],inplace=True)"
      ],
      "execution_count": 10,
      "outputs": []
    },
    {
      "cell_type": "code",
      "metadata": {
        "id": "n9SRwiO1ze6Z"
      },
      "source": [
        "df_raw['news']=df_raw['title']+df_raw['text']"
      ],
      "execution_count": 11,
      "outputs": []
    },
    {
      "cell_type": "code",
      "metadata": {
        "colab": {
          "base_uri": "https://localhost:8080/",
          "height": 137
        },
        "id": "jH2ERe4Nzmpe",
        "outputId": "c1441485-4d74-41af-a0d4-36055c5ddadb"
      },
      "source": [
        "df_raw.text[0]"
      ],
      "execution_count": 12,
      "outputs": [
        {
          "output_type": "execute_result",
          "data": {
            "application/vnd.google.colaboratory.intrinsic+json": {
              "type": "string"
            },
            "text/plain": [
              "'House Dem Aide: We Didn’t Even See Comey’s Letter Until Jason Chaffetz Tweeted It By Darrell Lucus on October 30, 2016 Subscribe Jason Chaffetz on the stump in American Fork, Utah ( image courtesy Michael Jolley, available under a Creative Commons-BY license) \\nWith apologies to Keith Olbermann, there is no doubt who the Worst Person in The World is this week–FBI Director James Comey. But according to a House Democratic aide, it looks like we also know who the second-worst person is as well. It turns out that when Comey sent his now-infamous letter announcing that the FBI was looking into emails that may be related to Hillary Clinton’s email server, the ranking Democrats on the relevant committees didn’t hear about it from Comey. They found out via a tweet from one of the Republican committee chairmen. \\nAs we now know, Comey notified the Republican chairmen and Democratic ranking members of the House Intelligence, Judiciary, and Oversight committees that his agency was reviewing emails it had recently discovered in order to see if they contained classified information. Not long after this letter went out, Oversight Committee Chairman Jason Chaffetz set the political world ablaze with this tweet. FBI Dir just informed me, \"The FBI has learned of the existence of emails that appear to be pertinent to the investigation.\" Case reopened \\n— Jason Chaffetz (@jasoninthehouse) October 28, 2016 \\nOf course, we now know that this was not the case . Comey was actually saying that it was reviewing the emails in light of “an unrelated case”–which we now know to be Anthony Weiner’s sexting with a teenager. But apparently such little things as facts didn’t matter to Chaffetz. The Utah Republican had already vowed to initiate a raft of investigations if Hillary wins–at least two years’ worth, and possibly an entire term’s worth of them. Apparently Chaffetz thought the FBI was already doing his work for him–resulting in a tweet that briefly roiled the nation before cooler heads realized it was a dud. \\nBut according to a senior House Democratic aide, misreading that letter may have been the least of Chaffetz’ sins. That aide told Shareblue that his boss and other Democrats didn’t even know about Comey’s letter at the time–and only found out when they checked Twitter. “Democratic Ranking Members on the relevant committees didn’t receive Comey’s letter until after the Republican Chairmen. In fact, the Democratic Ranking Members didn’ receive it until after the Chairman of the Oversight and Government Reform Committee, Jason Chaffetz, tweeted it out and made it public.” \\nSo let’s see if we’ve got this right. The FBI director tells Chaffetz and other GOP committee chairmen about a major development in a potentially politically explosive investigation, and neither Chaffetz nor his other colleagues had the courtesy to let their Democratic counterparts know about it. Instead, according to this aide, he made them find out about it on Twitter. \\nThere has already been talk on Daily Kos that Comey himself provided advance notice of this letter to Chaffetz and other Republicans, giving them time to turn on the spin machine. That may make for good theater, but there is nothing so far that even suggests this is the case. After all, there is nothing so far that suggests that Comey was anything other than grossly incompetent and tone-deaf. \\nWhat it does suggest, however, is that Chaffetz is acting in a way that makes Dan Burton and Darrell Issa look like models of responsibility and bipartisanship. He didn’t even have the decency to notify ranking member Elijah Cummings about something this explosive. If that doesn’t trample on basic standards of fairness, I don’t know what does. \\nGranted, it’s not likely that Chaffetz will have to answer for this. He sits in a ridiculously Republican district anchored in Provo and Orem; it has a Cook Partisan Voting Index of R+25, and gave Mitt Romney a punishing 78 percent of the vote in 2012. Moreover, the Republican House leadership has given its full support to Chaffetz’ planned fishing expedition. But that doesn’t mean we can’t turn the hot lights on him. After all, he is a textbook example of what the House has become under Republican control. And he is also the Second Worst Person in the World. About Darrell Lucus \\nDarrell is a 30-something graduate of the University of North Carolina who considers himself a journalist of the old school. An attempt to turn him into a member of the religious right in college only succeeded in turning him into the religious right\\'s worst nightmare--a charismatic Christian who is an unapologetic liberal. His desire to stand up for those who have been scared into silence only increased when he survived an abusive three-year marriage. You may know him on Daily Kos as Christian Dem in NC . Follow him on Twitter @DarrellLucus or connect with him on Facebook . Click here to buy Darrell a Mello Yello. Connect'"
            ]
          },
          "metadata": {
            "tags": []
          },
          "execution_count": 12
        }
      ]
    },
    {
      "cell_type": "code",
      "metadata": {
        "colab": {
          "base_uri": "https://localhost:8080/",
          "height": 417
        },
        "id": "8U6pDs1A0DfH",
        "outputId": "05432299-ab24-4283-9fb7-b87196afd7e1"
      },
      "source": [
        "df=df_raw[['label','news']]\n",
        "df"
      ],
      "execution_count": 13,
      "outputs": [
        {
          "output_type": "execute_result",
          "data": {
            "text/html": [
              "<div>\n",
              "<style scoped>\n",
              "    .dataframe tbody tr th:only-of-type {\n",
              "        vertical-align: middle;\n",
              "    }\n",
              "\n",
              "    .dataframe tbody tr th {\n",
              "        vertical-align: top;\n",
              "    }\n",
              "\n",
              "    .dataframe thead th {\n",
              "        text-align: right;\n",
              "    }\n",
              "</style>\n",
              "<table border=\"1\" class=\"dataframe\">\n",
              "  <thead>\n",
              "    <tr style=\"text-align: right;\">\n",
              "      <th></th>\n",
              "      <th>label</th>\n",
              "      <th>news</th>\n",
              "    </tr>\n",
              "  </thead>\n",
              "  <tbody>\n",
              "    <tr>\n",
              "      <th>0</th>\n",
              "      <td>1</td>\n",
              "      <td>House Dem Aide: We Didn’t Even See Comey’s Let...</td>\n",
              "    </tr>\n",
              "    <tr>\n",
              "      <th>1</th>\n",
              "      <td>0</td>\n",
              "      <td>FLYNN: Hillary Clinton, Big Woman on Campus - ...</td>\n",
              "    </tr>\n",
              "    <tr>\n",
              "      <th>2</th>\n",
              "      <td>1</td>\n",
              "      <td>Why the Truth Might Get You FiredWhy the Truth...</td>\n",
              "    </tr>\n",
              "    <tr>\n",
              "      <th>3</th>\n",
              "      <td>1</td>\n",
              "      <td>15 Civilians Killed In Single US Airstrike Hav...</td>\n",
              "    </tr>\n",
              "    <tr>\n",
              "      <th>4</th>\n",
              "      <td>1</td>\n",
              "      <td>Iranian woman jailed for fictional unpublished...</td>\n",
              "    </tr>\n",
              "    <tr>\n",
              "      <th>...</th>\n",
              "      <td>...</td>\n",
              "      <td>...</td>\n",
              "    </tr>\n",
              "    <tr>\n",
              "      <th>18280</th>\n",
              "      <td>0</td>\n",
              "      <td>Rapper T.I.: Trump a ’Poster Child For White S...</td>\n",
              "    </tr>\n",
              "    <tr>\n",
              "      <th>18281</th>\n",
              "      <td>0</td>\n",
              "      <td>N.F.L. Playoffs: Schedule, Matchups and Odds -...</td>\n",
              "    </tr>\n",
              "    <tr>\n",
              "      <th>18282</th>\n",
              "      <td>0</td>\n",
              "      <td>Macy’s Is Said to Receive Takeover Approach by...</td>\n",
              "    </tr>\n",
              "    <tr>\n",
              "      <th>18283</th>\n",
              "      <td>1</td>\n",
              "      <td>NATO, Russia To Hold Parallel Exercises In Bal...</td>\n",
              "    </tr>\n",
              "    <tr>\n",
              "      <th>18284</th>\n",
              "      <td>1</td>\n",
              "      <td>What Keeps the F-35 Alive  David Swanson is an...</td>\n",
              "    </tr>\n",
              "  </tbody>\n",
              "</table>\n",
              "<p>18285 rows × 2 columns</p>\n",
              "</div>"
            ],
            "text/plain": [
              "       label                                               news\n",
              "0          1  House Dem Aide: We Didn’t Even See Comey’s Let...\n",
              "1          0  FLYNN: Hillary Clinton, Big Woman on Campus - ...\n",
              "2          1  Why the Truth Might Get You FiredWhy the Truth...\n",
              "3          1  15 Civilians Killed In Single US Airstrike Hav...\n",
              "4          1  Iranian woman jailed for fictional unpublished...\n",
              "...      ...                                                ...\n",
              "18280      0  Rapper T.I.: Trump a ’Poster Child For White S...\n",
              "18281      0  N.F.L. Playoffs: Schedule, Matchups and Odds -...\n",
              "18282      0  Macy’s Is Said to Receive Takeover Approach by...\n",
              "18283      1  NATO, Russia To Hold Parallel Exercises In Bal...\n",
              "18284      1  What Keeps the F-35 Alive  David Swanson is an...\n",
              "\n",
              "[18285 rows x 2 columns]"
            ]
          },
          "metadata": {
            "tags": []
          },
          "execution_count": 13
        }
      ]
    },
    {
      "cell_type": "code",
      "metadata": {
        "colab": {
          "base_uri": "https://localhost:8080/"
        },
        "id": "wleoFr9a01bH",
        "outputId": "4df4a53d-d1c9-4a3c-8741-b231ce97b617"
      },
      "source": [
        "df.label.value_counts(normalize=True)"
      ],
      "execution_count": 14,
      "outputs": [
        {
          "output_type": "execute_result",
          "data": {
            "text/plain": [
              "0    0.566639\n",
              "1    0.433361\n",
              "Name: label, dtype: float64"
            ]
          },
          "metadata": {
            "tags": []
          },
          "execution_count": 14
        }
      ]
    },
    {
      "cell_type": "code",
      "metadata": {
        "colab": {
          "base_uri": "https://localhost:8080/"
        },
        "id": "NZX0008666vf",
        "outputId": "c3cc234e-64ef-476f-c0d1-7f1e21af12b6"
      },
      "source": [
        "df.news[0:5]"
      ],
      "execution_count": 15,
      "outputs": [
        {
          "output_type": "execute_result",
          "data": {
            "text/plain": [
              "0    House Dem Aide: We Didn’t Even See Comey’s Let...\n",
              "1    FLYNN: Hillary Clinton, Big Woman on Campus - ...\n",
              "2    Why the Truth Might Get You FiredWhy the Truth...\n",
              "3    15 Civilians Killed In Single US Airstrike Hav...\n",
              "4    Iranian woman jailed for fictional unpublished...\n",
              "Name: news, dtype: object"
            ]
          },
          "metadata": {
            "tags": []
          },
          "execution_count": 15
        }
      ]
    },
    {
      "cell_type": "code",
      "metadata": {
        "colab": {
          "base_uri": "https://localhost:8080/"
        },
        "id": "uw8M2YRm683r",
        "outputId": "447816a5-14e0-4fc7-85f7-5e0c1d9b69ee"
      },
      "source": [
        "import nltk\n",
        "nltk.download('stopwords')\n",
        "import re\n",
        "from nltk.corpus import stopwords\n",
        "import string\n",
        "from nltk.stem import PorterStemmer"
      ],
      "execution_count": 16,
      "outputs": [
        {
          "output_type": "stream",
          "text": [
            "[nltk_data] Downloading package stopwords to /root/nltk_data...\n",
            "[nltk_data]   Package stopwords is already up-to-date!\n"
          ],
          "name": "stdout"
        }
      ]
    },
    {
      "cell_type": "code",
      "metadata": {
        "id": "hObAc_809pBd"
      },
      "source": [
        "%%time\n",
        "corpus=[]\n",
        "ps=PorterStemmer()\n",
        "for i in range(0, len(df.news)):\n",
        "\n",
        "    review = re.sub('[^a-zA-Z]', ' ', df['news'][i])\n",
        "    review = review.lower()\n",
        "    review = review.split()\n",
        "    \n",
        "    review = [ps.stem(word) for word in review if not word in stopwords.words('english') if word not in string.punctuation]\n",
        "    review = ' '.join(review)\n",
        "    corpus.append(review)\n",
        "    "
      ],
      "execution_count": null,
      "outputs": []
    },
    {
      "cell_type": "code",
      "metadata": {
        "colab": {
          "base_uri": "https://localhost:8080/"
        },
        "id": "E9W66AOll6Hm",
        "outputId": "b634c6d5-45a5-4823-f3ae-f19df1c4dddf"
      },
      "source": [
        "corpus[0:2]"
      ],
      "execution_count": 18,
      "outputs": [
        {
          "output_type": "execute_result",
          "data": {
            "text/plain": [
              "['hous dem aid even see comey letter jason chaffetz tweet ithous dem aid even see comey letter jason chaffetz tweet darrel lucu octob subscrib jason chaffetz stump american fork utah imag courtesi michael jolley avail creativ common licens apolog keith olbermann doubt worst person world week fbi director jame comey accord hous democrat aid look like also know second worst person well turn comey sent infam letter announc fbi look email may relat hillari clinton email server rank democrat relev committe hear comey found via tweet one republican committe chairmen know comey notifi republican chairmen democrat rank member hous intellig judiciari oversight committe agenc review email recent discov order see contain classifi inform long letter went oversight committe chairman jason chaffetz set polit world ablaz tweet fbi dir inform fbi learn exist email appear pertin investig case reopen jason chaffetz jasoninthehous octob cours know case comey actual say review email light unrel case know anthoni weiner sext teenag appar littl thing fact matter chaffetz utah republican alreadi vow initi raft investig hillari win least two year worth possibl entir term worth appar chaffetz thought fbi alreadi work result tweet briefli roil nation cooler head realiz dud accord senior hous democrat aid misread letter may least chaffetz sin aid told shareblu boss democrat even know comey letter time found check twitter democrat rank member relev committe receiv comey letter republican chairmen fact democrat rank member receiv chairman oversight govern reform committe jason chaffetz tweet made public let see got right fbi director tell chaffetz gop committe chairmen major develop potenti polit explos investig neither chaffetz colleagu courtesi let democrat counterpart know instead accord aid made find twitter alreadi talk daili ko comey provid advanc notic letter chaffetz republican give time turn spin machin may make good theater noth far even suggest case noth far suggest comey anyth grossli incompet tone deaf suggest howev chaffetz act way make dan burton darrel issa look like model respons bipartisanship even decenc notifi rank member elijah cum someth explos trampl basic standard fair know grant like chaffetz answer sit ridicul republican district anchor provo orem cook partisan vote index r gave mitt romney punish percent vote moreov republican hous leadership given full support chaffetz plan fish expedit mean turn hot light textbook exampl hous becom republican control also second worst person world darrel lucu darrel someth graduat univers north carolina consid journalist old school attempt turn member religi right colleg succeed turn religi right worst nightmar charismat christian unapologet liber desir stand scare silenc increas surviv abus three year marriag may know daili ko christian dem nc follow twitter darrelllucu connect facebook click buy darrel mello yello connect',\n",
              " 'flynn hillari clinton big woman campu breitbartev get feel life circl roundabout rather head straight line toward intend destin hillari clinton remain big woman campu leafi liber wellesley massachusett everywher els vote like inaugur dress remaind day way miss havisham forev wore wed dress speak great expect hillari rodham overflow year ago first address wellesley graduat class presid colleg inform gather student need debat far could ascertain spokesman kind like democrat primari minu term unknown even seven sister school glad miss adam made clear speak today us us miss rodham told classmat appoint edger bergen charli mccarthi mortim snerd attend bespectacl granni glass award matronli wisdom least john lennon wisdom took issu previou speaker despit becom first win elect seat u senat sinc reconstruct edward brook came critic call empathi goal protestor critic tactic though clinton senior thesi saul alinski lament black power demagogu elitist arrog repress intoler within new left similar word come republican necessit brief rebutt trust rodham iron observ one word ask class rehears want say everyon came said talk trust talk lack trust us way feel other talk trust bust say say feel permeat gener perhap even understood distrust trust bust certainli bust clinton plan certainli even understand peopl distrust whitewat travelg vast conspiraci benghazi miss email clinton found distrust voic friday load compromis road broaden polit horizon distrust american peopl trump edg percent percent question immedi prior novemb elect stood major reason close horizon clinton describ vanquish support embrac lie con altern fact assault truth reason fail explain american peopl chose lie truth histori major among today know well peopl power invent fact attack question mark begin end free societi offer hyperbol like mani peopl emerg hillari clinton embark upon long strang trip high school goldwat girl wellesley colleg republican presid democrat politician clinton drank time place gave degre significantli went idealist cynic comparison two wellesley commenc address show way back lament long leader view polit art possibl challeng practic polit art make appear imposs possibl big woman campu odd woman white hous wonder current station even possibl point ahead ask septemb may ask presid woman famous dub congenit liar bill safir conclud lie mind get stood elect day like find jilt bride wed day inspir danger delus']"
            ]
          },
          "metadata": {
            "tags": []
          },
          "execution_count": 18
        }
      ]
    },
    {
      "cell_type": "code",
      "metadata": {
        "colab": {
          "base_uri": "https://localhost:8080/"
        },
        "id": "EJSz9p29oHcE",
        "outputId": "5c48416b-1dc6-4f5d-e4d8-94e3d517c6ef"
      },
      "source": [
        "import tensorflow\n",
        "tensorflow.config.list_physical_devices('GPU')"
      ],
      "execution_count": 19,
      "outputs": [
        {
          "output_type": "execute_result",
          "data": {
            "text/plain": [
              "[PhysicalDevice(name='/physical_device:GPU:0', device_type='GPU')]"
            ]
          },
          "metadata": {
            "tags": []
          },
          "execution_count": 19
        }
      ]
    },
    {
      "cell_type": "code",
      "metadata": {
        "id": "UXe8sEOh-NC-"
      },
      "source": [
        "from tensorflow.keras.preprocessing.sequence import  pad_sequences\n",
        "from tensorflow.keras.preprocessing.text import one_hot,Tokenizer"
      ],
      "execution_count": 20,
      "outputs": []
    },
    {
      "cell_type": "code",
      "metadata": {
        "id": "nSVukpRn-rsU"
      },
      "source": [
        "vocsize=30000\n",
        "#onehot_repr=[one_hot(word,vocsize)for word in corpus]"
      ],
      "execution_count": 21,
      "outputs": []
    },
    {
      "cell_type": "code",
      "metadata": {
        "id": "G3x1sSmI_jiE"
      },
      "source": [
        "t=Tokenizer(oov_token='<oov>',num_words=30000)"
      ],
      "execution_count": 22,
      "outputs": []
    },
    {
      "cell_type": "code",
      "metadata": {
        "id": "2661vNoLlz_3"
      },
      "source": [
        "t.fit_on_texts(corpus)"
      ],
      "execution_count": 23,
      "outputs": []
    },
    {
      "cell_type": "code",
      "metadata": {
        "id": "QobdbjfQqL0k"
      },
      "source": [
        "word_index=t.word_index"
      ],
      "execution_count": 24,
      "outputs": []
    },
    {
      "cell_type": "code",
      "metadata": {
        "colab": {
          "base_uri": "https://localhost:8080/"
        },
        "id": "1RrKuj5JqLxA",
        "outputId": "da6ee827-b60a-4eb4-fa91-1b81ec3daf8f"
      },
      "source": [
        "word_index"
      ],
      "execution_count": 128,
      "outputs": [
        {
          "output_type": "execute_result",
          "data": {
            "text/plain": [
              "{'<oov>': 1,\n",
              " 'said': 2,\n",
              " 'mr': 3,\n",
              " 'trump': 4,\n",
              " 'one': 5,\n",
              " 'state': 6,\n",
              " 'would': 7,\n",
              " 'new': 8,\n",
              " 'peopl': 9,\n",
              " 'year': 10,\n",
              " 'like': 11,\n",
              " 'time': 12,\n",
              " 'presid': 13,\n",
              " 'clinton': 14,\n",
              " 'also': 15,\n",
              " 'american': 16,\n",
              " 'say': 17,\n",
              " 'go': 18,\n",
              " 'even': 19,\n",
              " 'use': 20,\n",
              " 'make': 21,\n",
              " 'report': 22,\n",
              " 'work': 23,\n",
              " 'could': 24,\n",
              " 'mani': 25,\n",
              " 'us': 26,\n",
              " 'nation': 27,\n",
              " 'govern': 28,\n",
              " 'get': 29,\n",
              " 'day': 30,\n",
              " 'call': 31,\n",
              " 'elect': 32,\n",
              " 'two': 33,\n",
              " 'first': 34,\n",
              " 'countri': 35,\n",
              " 'unit': 36,\n",
              " 'want': 37,\n",
              " 'world': 38,\n",
              " 'last': 39,\n",
              " 'take': 40,\n",
              " 'obama': 41,\n",
              " 'york': 42,\n",
              " 'news': 43,\n",
              " 'polit': 44,\n",
              " 'right': 45,\n",
              " 'hillari': 46,\n",
              " 'includ': 47,\n",
              " 'way': 48,\n",
              " 'support': 49,\n",
              " 'campaign': 50,\n",
              " 'hous': 51,\n",
              " 'come': 52,\n",
              " 'think': 53,\n",
              " 'know': 54,\n",
              " 'back': 55,\n",
              " 'offic': 56,\n",
              " 'may': 57,\n",
              " 'vote': 58,\n",
              " 'show': 59,\n",
              " 'ms': 60,\n",
              " 'offici': 61,\n",
              " 'democrat': 62,\n",
              " 'white': 63,\n",
              " 'republican': 64,\n",
              " 'u': 65,\n",
              " 'see': 66,\n",
              " 'need': 67,\n",
              " 'group': 68,\n",
              " 'war': 69,\n",
              " 'made': 70,\n",
              " 'live': 71,\n",
              " 'law': 72,\n",
              " 'much': 73,\n",
              " 'look': 74,\n",
              " 'media': 75,\n",
              " 'well': 76,\n",
              " 'help': 77,\n",
              " 'public': 78,\n",
              " 'compani': 79,\n",
              " 'chang': 80,\n",
              " 'million': 81,\n",
              " 'citi': 82,\n",
              " 'parti': 83,\n",
              " 'thing': 84,\n",
              " 'week': 85,\n",
              " 'power': 86,\n",
              " 'donald': 87,\n",
              " 'forc': 88,\n",
              " 'polic': 89,\n",
              " 'attack': 90,\n",
              " 'still': 91,\n",
              " 'accord': 92,\n",
              " 'told': 93,\n",
              " 'part': 94,\n",
              " 'case': 95,\n",
              " 'sinc': 96,\n",
              " 'tri': 97,\n",
              " 'follow': 98,\n",
              " 'gener': 99,\n",
              " 'plan': 100,\n",
              " 'email': 101,\n",
              " 'investig': 102,\n",
              " 'anoth': 103,\n",
              " 'ask': 104,\n",
              " 'percent': 105,\n",
              " 'polici': 106,\n",
              " 'famili': 107,\n",
              " 'month': 108,\n",
              " 'point': 109,\n",
              " 'secur': 110,\n",
              " 'russia': 111,\n",
              " 'america': 112,\n",
              " 'end': 113,\n",
              " 'good': 114,\n",
              " 'former': 115,\n",
              " 'continu': 116,\n",
              " 'recent': 117,\n",
              " 'ad': 118,\n",
              " 'post': 119,\n",
              " 'issu': 120,\n",
              " 'long': 121,\n",
              " 'women': 122,\n",
              " 'administr': 123,\n",
              " 'around': 124,\n",
              " 'feder': 125,\n",
              " 'member': 126,\n",
              " 'place': 127,\n",
              " 'found': 128,\n",
              " 'never': 129,\n",
              " 'person': 130,\n",
              " 'life': 131,\n",
              " 'question': 132,\n",
              " 'home': 133,\n",
              " 'start': 134,\n",
              " 'believ': 135,\n",
              " 'twitter': 136,\n",
              " 'move': 137,\n",
              " 'becom': 138,\n",
              " 'order': 139,\n",
              " 'de': 140,\n",
              " 'school': 141,\n",
              " 'system': 142,\n",
              " 'put': 143,\n",
              " 'court': 144,\n",
              " 'three': 145,\n",
              " 'depart': 146,\n",
              " 'turn': 147,\n",
              " 'everi': 148,\n",
              " 'man': 149,\n",
              " 'run': 150,\n",
              " 'militari': 151,\n",
              " 'name': 152,\n",
              " 'russian': 153,\n",
              " 'black': 154,\n",
              " 'leader': 155,\n",
              " 'senat': 156,\n",
              " 'happen': 157,\n",
              " 'appear': 158,\n",
              " 'major': 159,\n",
              " 'play': 160,\n",
              " 'talk': 161,\n",
              " 'job': 162,\n",
              " 'inform': 163,\n",
              " 'find': 164,\n",
              " 'claim': 165,\n",
              " 'kill': 166,\n",
              " 'organ': 167,\n",
              " 'health': 168,\n",
              " 'busi': 169,\n",
              " 'open': 170,\n",
              " 'money': 171,\n",
              " 'might': 172,\n",
              " 'seem': 173,\n",
              " 'author': 174,\n",
              " 'bill': 175,\n",
              " 'number': 176,\n",
              " 'univers': 177,\n",
              " 'sever': 178,\n",
              " 'left': 179,\n",
              " 'immigr': 180,\n",
              " 'next': 181,\n",
              " 'commun': 182,\n",
              " 'give': 183,\n",
              " 'face': 184,\n",
              " 'differ': 185,\n",
              " 'realli': 186,\n",
              " 'without': 187,\n",
              " 'mean': 188,\n",
              " 'washington': 189,\n",
              " 'rule': 190,\n",
              " 'control': 191,\n",
              " 'execut': 192,\n",
              " 'close': 193,\n",
              " 'interest': 194,\n",
              " 'fact': 195,\n",
              " 'someth': 196,\n",
              " 'voter': 197,\n",
              " 'comment': 198,\n",
              " 'care': 199,\n",
              " 'children': 200,\n",
              " 'human': 201,\n",
              " 'act': 202,\n",
              " 'stori': 203,\n",
              " 'keep': 204,\n",
              " 'whether': 205,\n",
              " 'critic': 206,\n",
              " 'among': 207,\n",
              " 'set': 208,\n",
              " 'team': 209,\n",
              " 'foreign': 210,\n",
              " 'meet': 211,\n",
              " 'allow': 212,\n",
              " 'presidenti': 213,\n",
              " 'possibl': 214,\n",
              " 'video': 215,\n",
              " 'creat': 216,\n",
              " 'interview': 217,\n",
              " 'statement': 218,\n",
              " 'far': 219,\n",
              " 'lead': 220,\n",
              " 'win': 221,\n",
              " 'intern': 222,\n",
              " 'problem': 223,\n",
              " 'result': 224,\n",
              " 'provid': 225,\n",
              " 'china': 226,\n",
              " 'deal': 227,\n",
              " 'candid': 228,\n",
              " 'great': 229,\n",
              " 'though': 230,\n",
              " 'feel': 231,\n",
              " 'later': 232,\n",
              " 'littl': 233,\n",
              " 'oper': 234,\n",
              " 'releas': 235,\n",
              " 'today': 236,\n",
              " 'import': 237,\n",
              " 'leav': 238,\n",
              " 'n': 239,\n",
              " 'took': 240,\n",
              " 'hand': 241,\n",
              " 'fight': 242,\n",
              " 'social': 243,\n",
              " 'alreadi': 244,\n",
              " 'respons': 245,\n",
              " 'least': 246,\n",
              " 'servic': 247,\n",
              " 'program': 248,\n",
              " 'yet': 249,\n",
              " 'note': 250,\n",
              " 'lot': 251,\n",
              " 'base': 252,\n",
              " 'protest': 253,\n",
              " 'director': 254,\n",
              " 'stop': 255,\n",
              " 'syria': 256,\n",
              " 'big': 257,\n",
              " 'remain': 258,\n",
              " 'share': 259,\n",
              " 'hope': 260,\n",
              " 'real': 261,\n",
              " 'decis': 262,\n",
              " 'came': 263,\n",
              " 'fbi': 264,\n",
              " 'men': 265,\n",
              " 'line': 266,\n",
              " 'let': 267,\n",
              " 'game': 268,\n",
              " 'tell': 269,\n",
              " 'north': 270,\n",
              " 'head': 271,\n",
              " 'wrote': 272,\n",
              " 'high': 273,\n",
              " 'night': 274,\n",
              " 'less': 275,\n",
              " 'studi': 276,\n",
              " 'record': 277,\n",
              " 'justic': 278,\n",
              " 'build': 279,\n",
              " 'effort': 280,\n",
              " 'offer': 281,\n",
              " 'best': 282,\n",
              " 'free': 283,\n",
              " 'protect': 284,\n",
              " 'water': 285,\n",
              " 'reason': 286,\n",
              " 'chief': 287,\n",
              " 'market': 288,\n",
              " 'econom': 289,\n",
              " 'other': 290,\n",
              " 'histori': 291,\n",
              " 'islam': 292,\n",
              " 'area': 293,\n",
              " 'larg': 294,\n",
              " 'c': 295,\n",
              " 'pay': 296,\n",
              " 'tax': 297,\n",
              " 'posit': 298,\n",
              " 'charg': 299,\n",
              " 'often': 300,\n",
              " 'center': 301,\n",
              " 'la': 302,\n",
              " 'away': 303,\n",
              " 'got': 304,\n",
              " 'articl': 305,\n",
              " 'clear': 306,\n",
              " 'caus': 307,\n",
              " 'agenc': 308,\n",
              " 'increas': 309,\n",
              " 'expect': 310,\n",
              " 'actual': 311,\n",
              " 'sign': 312,\n",
              " 'com': 313,\n",
              " 'view': 314,\n",
              " 'howev': 315,\n",
              " 'repres': 316,\n",
              " 'top': 317,\n",
              " 'bank': 318,\n",
              " 'read': 319,\n",
              " 'better': 320,\n",
              " 'street': 321,\n",
              " 'matter': 322,\n",
              " 'stand': 323,\n",
              " 'action': 324,\n",
              " 'effect': 325,\n",
              " 'past': 326,\n",
              " 'known': 327,\n",
              " 'friend': 328,\n",
              " 'research': 329,\n",
              " 'word': 330,\n",
              " 'fund': 331,\n",
              " 'student': 332,\n",
              " 'book': 333,\n",
              " 'final': 334,\n",
              " 'receiv': 335,\n",
              " 'announc': 336,\n",
              " 'ago': 337,\n",
              " 'develop': 338,\n",
              " 'concern': 339,\n",
              " 'death': 340,\n",
              " 'dr': 341,\n",
              " 'second': 342,\n",
              " 'suggest': 343,\n",
              " 'global': 344,\n",
              " 'die': 345,\n",
              " 'four': 346,\n",
              " 'watch': 347,\n",
              " 'secretari': 348,\n",
              " 'alway': 349,\n",
              " 'must': 350,\n",
              " 'fire': 351,\n",
              " 'love': 352,\n",
              " 'consid': 353,\n",
              " 'event': 354,\n",
              " 'john': 355,\n",
              " 'involv': 356,\n",
              " 'account': 357,\n",
              " 'side': 358,\n",
              " 'breitbart': 359,\n",
              " 'serv': 360,\n",
              " 'evid': 361,\n",
              " 'sourc': 362,\n",
              " 'return': 363,\n",
              " 'privat': 364,\n",
              " 'ever': 365,\n",
              " 'across': 366,\n",
              " 'enough': 367,\n",
              " 'earli': 368,\n",
              " 'manag': 369,\n",
              " 'kind': 370,\n",
              " 'given': 371,\n",
              " 'hold': 372,\n",
              " 'local': 373,\n",
              " 'old': 374,\n",
              " 'went': 375,\n",
              " 'hour': 376,\n",
              " 'judg': 377,\n",
              " 'muslim': 378,\n",
              " 'legal': 379,\n",
              " 'seen': 380,\n",
              " 'speak': 381,\n",
              " 'press': 382,\n",
              " 'thought': 383,\n",
              " 'food': 384,\n",
              " 'current': 385,\n",
              " 'discuss': 386,\n",
              " 'cours': 387,\n",
              " 'rate': 388,\n",
              " 'friday': 389,\n",
              " 'publish': 390,\n",
              " 'rais': 391,\n",
              " 'idea': 392,\n",
              " 'process': 393,\n",
              " 'congress': 394,\n",
              " 'octob': 395,\n",
              " 'wall': 396,\n",
              " 'describ': 397,\n",
              " 'trade': 398,\n",
              " 'conserv': 399,\n",
              " 'noth': 400,\n",
              " 'south': 401,\n",
              " 'border': 402,\n",
              " 'activ': 403,\n",
              " 'product': 404,\n",
              " 'relat': 405,\n",
              " 'began': 406,\n",
              " 'industri': 407,\n",
              " 'along': 408,\n",
              " 'requir': 409,\n",
              " 'facebook': 410,\n",
              " 'crime': 411,\n",
              " 'term': 412,\n",
              " 'committe': 413,\n",
              " 'speech': 414,\n",
              " 'financi': 415,\n",
              " 'poll': 416,\n",
              " 'intellig': 417,\n",
              " 'young': 418,\n",
              " 'project': 419,\n",
              " 'level': 420,\n",
              " 'done': 421,\n",
              " 'b': 422,\n",
              " 'novemb': 423,\n",
              " 'small': 424,\n",
              " 'decad': 425,\n",
              " 'billion': 426,\n",
              " 'reach': 427,\n",
              " 'accus': 428,\n",
              " 'five': 429,\n",
              " 'instead': 430,\n",
              " 'bring': 431,\n",
              " 'j': 432,\n",
              " 'list': 433,\n",
              " 'worker': 434,\n",
              " 'almost': 435,\n",
              " 'woman': 436,\n",
              " 'role': 437,\n",
              " 'drug': 438,\n",
              " 'f': 439,\n",
              " 'pass': 440,\n",
              " 'futur': 441,\n",
              " 'carri': 442,\n",
              " 'within': 443,\n",
              " 'begin': 444,\n",
              " 'promis': 445,\n",
              " 'european': 446,\n",
              " 'understand': 447,\n",
              " 'direct': 448,\n",
              " 'whose': 449,\n",
              " 'air': 450,\n",
              " 'fail': 451,\n",
              " 'e': 452,\n",
              " 'behind': 453,\n",
              " 'arm': 454,\n",
              " 'associ': 455,\n",
              " 'race': 456,\n",
              " 'illeg': 457,\n",
              " 'outsid': 458,\n",
              " 'crimin': 459,\n",
              " 'th': 460,\n",
              " 'abl': 461,\n",
              " 'california': 462,\n",
              " 'tuesday': 463,\n",
              " 'fear': 464,\n",
              " 'hard': 465,\n",
              " 'defens': 466,\n",
              " 'step': 467,\n",
              " 'cost': 468,\n",
              " 'wednesday': 469,\n",
              " 'full': 470,\n",
              " 'write': 471,\n",
              " 'bodi': 472,\n",
              " 'toward': 473,\n",
              " 'establish': 474,\n",
              " 'complet': 475,\n",
              " 'liber': 476,\n",
              " 'nearli': 477,\n",
              " 'land': 478,\n",
              " 'aid': 479,\n",
              " 'union': 480,\n",
              " 'learn': 481,\n",
              " 'taken': 482,\n",
              " 'hear': 483,\n",
              " 'comey': 484,\n",
              " 'march': 485,\n",
              " 'exampl': 486,\n",
              " 'thursday': 487,\n",
              " 'messag': 488,\n",
              " 'explain': 489,\n",
              " 'anyth': 490,\n",
              " 'sure': 491,\n",
              " 'threat': 492,\n",
              " 'led': 493,\n",
              " 'israel': 494,\n",
              " 'natur': 495,\n",
              " 'sunday': 496,\n",
              " 'monday': 497,\n",
              " 'p': 498,\n",
              " 'cultur': 499,\n",
              " 'decid': 500,\n",
              " 'travel': 501,\n",
              " 'syrian': 502,\n",
              " 'terrorist': 503,\n",
              " 'morn': 504,\n",
              " 'west': 505,\n",
              " 'gun': 506,\n",
              " 'nuclear': 507,\n",
              " 'document': 508,\n",
              " 'cover': 509,\n",
              " 'togeth': 510,\n",
              " 'someon': 511,\n",
              " 'economi': 512,\n",
              " 'al': 513,\n",
              " 'becam': 514,\n",
              " 'enforc': 515,\n",
              " 'thousand': 516,\n",
              " 'attempt': 517,\n",
              " 'push': 518,\n",
              " 'entir': 519,\n",
              " 'price': 520,\n",
              " 'minist': 521,\n",
              " 'car': 522,\n",
              " 'test': 523,\n",
              " 'educ': 524,\n",
              " 'arrest': 525,\n",
              " 'potenti': 526,\n",
              " 'target': 527,\n",
              " 'lost': 528,\n",
              " 'colleg': 529,\n",
              " 'success': 530,\n",
              " 'weapon': 531,\n",
              " 'experi': 532,\n",
              " 'father': 533,\n",
              " 'visit': 534,\n",
              " 'form': 535,\n",
              " 'moment': 536,\n",
              " 'refer': 537,\n",
              " 'mind': 538,\n",
              " 'debat': 539,\n",
              " 'break': 540,\n",
              " 'advis': 541,\n",
              " 'special': 542,\n",
              " 'institut': 543,\n",
              " 'insid': 544,\n",
              " 'cut': 545,\n",
              " 'terror': 546,\n",
              " 'lawyer': 547,\n",
              " 'present': 548,\n",
              " 'rather': 549,\n",
              " 'warn': 550,\n",
              " 'despit': 551,\n",
              " 'foundat': 552,\n",
              " 'dollar': 553,\n",
              " 'everyth': 554,\n",
              " 'express': 555,\n",
              " 'civil': 556,\n",
              " 'site': 557,\n",
              " 'mother': 558,\n",
              " 'east': 559,\n",
              " 'risk': 560,\n",
              " 'near': 561,\n",
              " 'join': 562,\n",
              " 'access': 563,\n",
              " 'challeng': 564,\n",
              " 'senior': 565,\n",
              " 'film': 566,\n",
              " 'design': 567,\n",
              " 'produc': 568,\n",
              " 'grow': 569,\n",
              " 'class': 570,\n",
              " 'train': 571,\n",
              " 'star': 572,\n",
              " 'europ': 573,\n",
              " 'middl': 574,\n",
              " 'individu': 575,\n",
              " 'texa': 576,\n",
              " 'network': 577,\n",
              " 'medic': 578,\n",
              " 'late': 579,\n",
              " 'spend': 580,\n",
              " 'hit': 581,\n",
              " 'data': 582,\n",
              " 'defend': 583,\n",
              " 'held': 584,\n",
              " 'anyon': 585,\n",
              " 'everyon': 586,\n",
              " 'bad': 587,\n",
              " 'corpor': 588,\n",
              " 'son': 589,\n",
              " 'peac': 590,\n",
              " 'region': 591,\n",
              " 'popul': 592,\n",
              " 'brief': 593,\n",
              " 'agre': 594,\n",
              " 'putin': 595,\n",
              " 'stay': 596,\n",
              " 'reveal': 597,\n",
              " 'lie': 598,\n",
              " 'attorney': 599,\n",
              " 'perform': 600,\n",
              " 'demand': 601,\n",
              " 'citizen': 602,\n",
              " 'daili': 603,\n",
              " 'address': 604,\n",
              " 'especi': 605,\n",
              " 'confirm': 606,\n",
              " 'total': 607,\n",
              " 'central': 608,\n",
              " 'age': 609,\n",
              " 'lo': 610,\n",
              " 'respond': 611,\n",
              " 'violenc': 612,\n",
              " 'prison': 613,\n",
              " 'half': 614,\n",
              " 'review': 615,\n",
              " 'seek': 616,\n",
              " 'movement': 617,\n",
              " 'probabl': 618,\n",
              " 'emerg': 619,\n",
              " 'addit': 620,\n",
              " 'ban': 621,\n",
              " 'benefit': 622,\n",
              " 'room': 623,\n",
              " 'refuge': 624,\n",
              " 'energi': 625,\n",
              " 'rise': 626,\n",
              " 'commit': 627,\n",
              " 'shot': 628,\n",
              " 'victori': 629,\n",
              " 'exist': 630,\n",
              " 'answer': 631,\n",
              " 'accept': 632,\n",
              " 'iran': 633,\n",
              " 'parent': 634,\n",
              " 'letter': 635,\n",
              " 'earlier': 636,\n",
              " 'true': 637,\n",
              " 'lose': 638,\n",
              " 'origin': 639,\n",
              " 'chines': 640,\n",
              " 'figur': 641,\n",
              " 'connect': 642,\n",
              " 'six': 643,\n",
              " 'shoot': 644,\n",
              " 'danger': 645,\n",
              " 'sent': 646,\n",
              " 'practic': 647,\n",
              " 'detail': 648,\n",
              " 'propos': 649,\n",
              " 'host': 650,\n",
              " 'light': 651,\n",
              " 'valu': 652,\n",
              " 'agent': 653,\n",
              " 'argu': 654,\n",
              " 'iraq': 655,\n",
              " 'prepar': 656,\n",
              " 'limit': 657,\n",
              " 'remov': 658,\n",
              " 'front': 659,\n",
              " 'fall': 660,\n",
              " 'file': 661,\n",
              " 'resid': 662,\n",
              " 'perhap': 663,\n",
              " 'gold': 664,\n",
              " 'imag': 665,\n",
              " 'walk': 666,\n",
              " 'truth': 667,\n",
              " 'initi': 668,\n",
              " 'measur': 669,\n",
              " 'saw': 670,\n",
              " 'expert': 671,\n",
              " 'l': 672,\n",
              " 'victim': 673,\n",
              " 'ground': 674,\n",
              " 'western': 675,\n",
              " 'technolog': 676,\n",
              " 'arriv': 677,\n",
              " 'sens': 678,\n",
              " 'soon': 679,\n",
              " 'god': 680,\n",
              " 'seri': 681,\n",
              " 'phone': 682,\n",
              " 'independ': 683,\n",
              " 'invest': 684,\n",
              " 'counti': 685,\n",
              " 'popular': 686,\n",
              " 'insur': 687,\n",
              " 'societi': 688,\n",
              " 'corrupt': 689,\n",
              " 'employe': 690,\n",
              " 'choic': 691,\n",
              " 'season': 692,\n",
              " 'opposit': 693,\n",
              " 'bomb': 694,\n",
              " 'david': 695,\n",
              " 'constitut': 696,\n",
              " 'secret': 697,\n",
              " 'simpli': 698,\n",
              " 'link': 699,\n",
              " 'declar': 700,\n",
              " 'singl': 701,\n",
              " 'agreement': 702,\n",
              " 'either': 703,\n",
              " 'situat': 704,\n",
              " 'alli': 705,\n",
              " 'saudi': 706,\n",
              " 'michael': 707,\n",
              " 'longer': 708,\n",
              " 'although': 709,\n",
              " 'staff': 710,\n",
              " 'cannot': 711,\n",
              " 'mark': 712,\n",
              " 'freedom': 713,\n",
              " 'nomine': 714,\n",
              " 'capit': 715,\n",
              " 'fox': 716,\n",
              " 'buy': 717,\n",
              " 'strong': 718,\n",
              " 'celebr': 719,\n",
              " 'georg': 720,\n",
              " 'send': 721,\n",
              " 'declin': 722,\n",
              " 'regul': 723,\n",
              " 'refus': 724,\n",
              " 'girl': 725,\n",
              " 'player': 726,\n",
              " 'minut': 727,\n",
              " 'board': 728,\n",
              " 'wait': 729,\n",
              " 'common': 730,\n",
              " 'anti': 731,\n",
              " 'third': 732,\n",
              " 'christian': 733,\n",
              " 'confer': 734,\n",
              " 'approach': 735,\n",
              " 'block': 736,\n",
              " 'collect': 737,\n",
              " 'british': 738,\n",
              " 'wife': 739,\n",
              " 'http': 740,\n",
              " 'oil': 741,\n",
              " 'save': 742,\n",
              " 'child': 743,\n",
              " 'similar': 744,\n",
              " 'met': 745,\n",
              " 'town': 746,\n",
              " 'prevent': 747,\n",
              " 'el': 748,\n",
              " 'immedi': 749,\n",
              " 'journalist': 750,\n",
              " 'jame': 751,\n",
              " 'field': 752,\n",
              " 'heart': 753,\n",
              " 'professor': 754,\n",
              " 'destroy': 755,\n",
              " 'realiti': 756,\n",
              " 'hundr': 757,\n",
              " 'wrong': 758,\n",
              " 'conflict': 759,\n",
              " 'latest': 760,\n",
              " 'saturday': 761,\n",
              " 'replac': 762,\n",
              " 'gave': 763,\n",
              " 'tradit': 764,\n",
              " 'crisi': 765,\n",
              " 'els': 766,\n",
              " 'guy': 767,\n",
              " 'relationship': 768,\n",
              " 'sometim': 769,\n",
              " 'websit': 770,\n",
              " 'onlin': 771,\n",
              " 'sexual': 772,\n",
              " 'park': 773,\n",
              " 'whole': 774,\n",
              " 'januari': 775,\n",
              " 'influenc': 776,\n",
              " 'chanc': 777,\n",
              " 'drive': 778,\n",
              " 'r': 779,\n",
              " 'bush': 780,\n",
              " 'page': 781,\n",
              " 'check': 782,\n",
              " 'hospit': 783,\n",
              " 'respect': 784,\n",
              " 'space': 785,\n",
              " 'climat': 786,\n",
              " 'progress': 787,\n",
              " 'church': 788,\n",
              " 'council': 789,\n",
              " 'armi': 790,\n",
              " 'determin': 791,\n",
              " 'strike': 792,\n",
              " 'key': 793,\n",
              " 'paul': 794,\n",
              " 'damag': 795,\n",
              " 'murder': 796,\n",
              " 'televis': 797,\n",
              " 'quit': 798,\n",
              " 'thank': 799,\n",
              " 'britain': 800,\n",
              " 'isi': 801,\n",
              " 'eye': 802,\n",
              " 'spent': 803,\n",
              " 'sell': 804,\n",
              " 'district': 805,\n",
              " 'avoid': 806,\n",
              " 'attent': 807,\n",
              " 'amount': 808,\n",
              " 'ryan': 809,\n",
              " 'tie': 810,\n",
              " 'doctor': 811,\n",
              " 'felt': 812,\n",
              " 'enter': 813,\n",
              " 'oppos': 814,\n",
              " 'alleg': 815,\n",
              " 'surpris': 816,\n",
              " 'wikileak': 817,\n",
              " 'rest': 818,\n",
              " 'favor': 819,\n",
              " 'forward': 820,\n",
              " 'eastern': 821,\n",
              " 'brought': 822,\n",
              " 'drop': 823,\n",
              " 'attend': 824,\n",
              " 'opportun': 825,\n",
              " 'extrem': 826,\n",
              " 'search': 827,\n",
              " 'short': 828,\n",
              " 'quickli': 829,\n",
              " 'condit': 830,\n",
              " 'deni': 831,\n",
              " 'camp': 832,\n",
              " 'art': 833,\n",
              " 'paid': 834,\n",
              " 'voic': 835,\n",
              " 'sound': 836,\n",
              " 'un': 837,\n",
              " 'mass': 838,\n",
              " 'struggl': 839,\n",
              " 'pull': 840,\n",
              " 'approv': 841,\n",
              " 'civilian': 842,\n",
              " 'photo': 843,\n",
              " 'k': 844,\n",
              " 'scienc': 845,\n",
              " 'sander': 846,\n",
              " 'crowd': 847,\n",
              " 'movi': 848,\n",
              " 'daughter': 849,\n",
              " 'pressur': 850,\n",
              " 'identifi': 851,\n",
              " 'assist': 852,\n",
              " 'subject': 853,\n",
              " 'standard': 854,\n",
              " 'knew': 855,\n",
              " 'miss': 856,\n",
              " 'main': 857,\n",
              " 'request': 858,\n",
              " 'certain': 859,\n",
              " 'chairman': 860,\n",
              " 'heard': 861,\n",
              " 'firm': 862,\n",
              " 'en': 863,\n",
              " 'store': 864,\n",
              " 'violat': 865,\n",
              " 'worri': 866,\n",
              " 'minor': 867,\n",
              " 'music': 868,\n",
              " 'sport': 869,\n",
              " 'politician': 870,\n",
              " 'dead': 871,\n",
              " 'jewish': 872,\n",
              " 'stage': 873,\n",
              " 'obamacar': 874,\n",
              " 'elit': 875,\n",
              " 'legisl': 876,\n",
              " 'ralli': 877,\n",
              " 'mayb': 878,\n",
              " 'featur': 879,\n",
              " 'prime': 880,\n",
              " 'pick': 881,\n",
              " 'paper': 882,\n",
              " 'conduct': 883,\n",
              " 'green': 884,\n",
              " 'threaten': 885,\n",
              " 'seriou': 886,\n",
              " 'rememb': 887,\n",
              " 'reduc': 888,\n",
              " 'signific': 889,\n",
              " 'consum': 890,\n",
              " 'goe': 891,\n",
              " 'avail': 892,\n",
              " 'career': 893,\n",
              " 'gain': 894,\n",
              " 'higher': 895,\n",
              " 'promot': 896,\n",
              " 'suffer': 897,\n",
              " 'ye': 898,\n",
              " 'deep': 899,\n",
              " 'june': 900,\n",
              " 'convers': 901,\n",
              " 'sit': 902,\n",
              " 'specif': 903,\n",
              " 'difficult': 904,\n",
              " 'turkey': 905,\n",
              " 'battl': 906,\n",
              " 'island': 907,\n",
              " 'lack': 908,\n",
              " 'editor': 909,\n",
              " 'particularli': 910,\n",
              " 'goal': 911,\n",
              " 'custom': 912,\n",
              " 'suprem': 913,\n",
              " 'deliv': 914,\n",
              " 'suspect': 915,\n",
              " 'assault': 916,\n",
              " 'mention': 917,\n",
              " 'brain': 918,\n",
              " 'indic': 919,\n",
              " 'w': 920,\n",
              " 'cancer': 921,\n",
              " 'beyond': 922,\n",
              " 'remark': 923,\n",
              " 'mexico': 924,\n",
              " 'hate': 925,\n",
              " 'coupl': 926,\n",
              " 'low': 927,\n",
              " 'prove': 928,\n",
              " 'florida': 929,\n",
              " 'activist': 930,\n",
              " 'recal': 931,\n",
              " 'piec': 932,\n",
              " 'command': 933,\n",
              " 'period': 934,\n",
              " 'red': 935,\n",
              " 'patient': 936,\n",
              " 'wonder': 937,\n",
              " 'partner': 938,\n",
              " 'franc': 939,\n",
              " 'centuri': 940,\n",
              " 'sale': 941,\n",
              " 'employ': 942,\n",
              " 'korea': 943,\n",
              " 'engag': 944,\n",
              " 'plant': 945,\n",
              " 'usual': 946,\n",
              " 'regard': 947,\n",
              " 'abus': 948,\n",
              " 'veteran': 949,\n",
              " 'budget': 950,\n",
              " 'ignor': 951,\n",
              " 'governor': 952,\n",
              " 'seven': 953,\n",
              " 'particip': 954,\n",
              " 'primari': 955,\n",
              " 'session': 956,\n",
              " 'trust': 957,\n",
              " 'advanc': 958,\n",
              " 'london': 959,\n",
              " 'loss': 960,\n",
              " 'compar': 961,\n",
              " 'cite': 962,\n",
              " 'cnn': 963,\n",
              " 'appeal': 964,\n",
              " 'mainstream': 965,\n",
              " 'improv': 966,\n",
              " 'pleas': 967,\n",
              " 'que': 968,\n",
              " 'juli': 969,\n",
              " 'track': 970,\n",
              " 'incom': 971,\n",
              " 'sort': 972,\n",
              " 'per': 973,\n",
              " 'focu': 974,\n",
              " 'tweet': 975,\n",
              " 'angel': 976,\n",
              " 'safe': 977,\n",
              " 'earth': 978,\n",
              " 'dozen': 979,\n",
              " 'san': 980,\n",
              " 'treat': 981,\n",
              " 'lower': 982,\n",
              " 'retir': 983,\n",
              " 'nomin': 984,\n",
              " 'bar': 985,\n",
              " 'negoti': 986,\n",
              " 'blame': 987,\n",
              " 'leak': 988,\n",
              " 'opinion': 989,\n",
              " 'apart': 990,\n",
              " 'spoke': 991,\n",
              " 'shift': 992,\n",
              " 'fan': 993,\n",
              " 'fake': 994,\n",
              " 'object': 995,\n",
              " 'husband': 996,\n",
              " 'pictur': 997,\n",
              " 'road': 998,\n",
              " 'due': 999,\n",
              " 'g': 1000,\n",
              " ...}"
            ]
          },
          "metadata": {
            "tags": []
          },
          "execution_count": 128
        }
      ]
    },
    {
      "cell_type": "code",
      "metadata": {
        "colab": {
          "base_uri": "https://localhost:8080/"
        },
        "id": "Jje-o2pPqLvh",
        "outputId": "53336399-d672-41ce-97d5-97fd3b60b0c8"
      },
      "source": [
        "len(word_index)"
      ],
      "execution_count": 26,
      "outputs": [
        {
          "output_type": "execute_result",
          "data": {
            "text/plain": [
              "112126"
            ]
          },
          "metadata": {
            "tags": []
          },
          "execution_count": 26
        }
      ]
    },
    {
      "cell_type": "code",
      "metadata": {
        "id": "mSDf4wBurLtC"
      },
      "source": [
        "sentences=t.texts_to_sequences(corpus)"
      ],
      "execution_count": 28,
      "outputs": []
    },
    {
      "cell_type": "code",
      "metadata": {
        "colab": {
          "base_uri": "https://localhost:8080/"
        },
        "id": "YAe-cVzerl-i",
        "outputId": "b1f04411-4425-479b-c8e0-dc3682e34aa4"
      },
      "source": [
        "sentences[0]"
      ],
      "execution_count": 123,
      "outputs": [
        {
          "output_type": "execute_result",
          "data": {
            "text/plain": [
              "[51,\n",
              " 2870,\n",
              " 479,\n",
              " 19,\n",
              " 66,\n",
              " 484,\n",
              " 635,\n",
              " 2417,\n",
              " 5085,\n",
              " 975,\n",
              " 1,\n",
              " 2870,\n",
              " 479,\n",
              " 19,\n",
              " 66,\n",
              " 484,\n",
              " 635,\n",
              " 2417,\n",
              " 5085,\n",
              " 975,\n",
              " 8455,\n",
              " 16158,\n",
              " 395,\n",
              " 2051,\n",
              " 2417,\n",
              " 5085,\n",
              " 6003,\n",
              " 16,\n",
              " 7451,\n",
              " 3130,\n",
              " 665,\n",
              " 3520,\n",
              " 707,\n",
              " 1,\n",
              " 892,\n",
              " 1975,\n",
              " 730,\n",
              " 1773,\n",
              " 1637,\n",
              " 4227,\n",
              " 22311,\n",
              " 1092,\n",
              " 1429,\n",
              " 130,\n",
              " 38,\n",
              " 85,\n",
              " 264,\n",
              " 254,\n",
              " 751,\n",
              " 484,\n",
              " 92,\n",
              " 51,\n",
              " 62,\n",
              " 479,\n",
              " 74,\n",
              " 11,\n",
              " 15,\n",
              " 54,\n",
              " 342,\n",
              " 1429,\n",
              " 130,\n",
              " 76,\n",
              " 147,\n",
              " 484,\n",
              " 646,\n",
              " 3957,\n",
              " 635,\n",
              " 336,\n",
              " 264,\n",
              " 74,\n",
              " 101,\n",
              " 57,\n",
              " 405,\n",
              " 46,\n",
              " 14,\n",
              " 101,\n",
              " 1259,\n",
              " 1561,\n",
              " 62,\n",
              " 2432,\n",
              " 413,\n",
              " 483,\n",
              " 484,\n",
              " 128,\n",
              " 1145,\n",
              " 975,\n",
              " 5,\n",
              " 64,\n",
              " 413,\n",
              " 8999,\n",
              " 54,\n",
              " 484,\n",
              " 3624,\n",
              " 64,\n",
              " 8999,\n",
              " 62,\n",
              " 1561,\n",
              " 126,\n",
              " 51,\n",
              " 417,\n",
              " 3159,\n",
              " 3330,\n",
              " 413,\n",
              " 308,\n",
              " 615,\n",
              " 101,\n",
              " 117,\n",
              " 1070,\n",
              " 139,\n",
              " 66,\n",
              " 1014,\n",
              " 1484,\n",
              " 163,\n",
              " 121,\n",
              " 635,\n",
              " 375,\n",
              " 3330,\n",
              " 413,\n",
              " 860,\n",
              " 2417,\n",
              " 5085,\n",
              " 208,\n",
              " 44,\n",
              " 38,\n",
              " 13633,\n",
              " 975,\n",
              " 264,\n",
              " 12713,\n",
              " 163,\n",
              " 264,\n",
              " 481,\n",
              " 630,\n",
              " 101,\n",
              " 158,\n",
              " 5640,\n",
              " 102,\n",
              " 95,\n",
              " 2247,\n",
              " 2417,\n",
              " 5085,\n",
              " 21376,\n",
              " 395,\n",
              " 387,\n",
              " 54,\n",
              " 95,\n",
              " 484,\n",
              " 311,\n",
              " 17,\n",
              " 615,\n",
              " 101,\n",
              " 651,\n",
              " 4487,\n",
              " 95,\n",
              " 54,\n",
              " 1862,\n",
              " 1478,\n",
              " 5378,\n",
              " 1908,\n",
              " 1022,\n",
              " 233,\n",
              " 84,\n",
              " 195,\n",
              " 322,\n",
              " 5085,\n",
              " 3130,\n",
              " 64,\n",
              " 244,\n",
              " 1884,\n",
              " 668,\n",
              " 8652,\n",
              " 102,\n",
              " 46,\n",
              " 221,\n",
              " 246,\n",
              " 33,\n",
              " 10,\n",
              " 1128,\n",
              " 214,\n",
              " 519,\n",
              " 412,\n",
              " 1128,\n",
              " 1022,\n",
              " 5085,\n",
              " 383,\n",
              " 264,\n",
              " 244,\n",
              " 23,\n",
              " 224,\n",
              " 975,\n",
              " 3305,\n",
              " 7270,\n",
              " 27,\n",
              " 6721,\n",
              " 271,\n",
              " 1079,\n",
              " 17481,\n",
              " 92,\n",
              " 565,\n",
              " 51,\n",
              " 62,\n",
              " 479,\n",
              " 16548,\n",
              " 635,\n",
              " 57,\n",
              " 246,\n",
              " 5085,\n",
              " 2901,\n",
              " 479,\n",
              " 93,\n",
              " 13143,\n",
              " 2196,\n",
              " 62,\n",
              " 19,\n",
              " 54,\n",
              " 484,\n",
              " 635,\n",
              " 12,\n",
              " 128,\n",
              " 782,\n",
              " 136,\n",
              " 62,\n",
              " 1561,\n",
              " 126,\n",
              " 2432,\n",
              " 413,\n",
              " 335,\n",
              " 484,\n",
              " 635,\n",
              " 64,\n",
              " 8999,\n",
              " 195,\n",
              " 62,\n",
              " 1561,\n",
              " 126,\n",
              " 335,\n",
              " 860,\n",
              " 3330,\n",
              " 28,\n",
              " 1221,\n",
              " 413,\n",
              " 2417,\n",
              " 5085,\n",
              " 975,\n",
              " 70,\n",
              " 78,\n",
              " 267,\n",
              " 66,\n",
              " 304,\n",
              " 45,\n",
              " 264,\n",
              " 254,\n",
              " 269,\n",
              " 5085,\n",
              " 1546,\n",
              " 413,\n",
              " 8999,\n",
              " 159,\n",
              " 338,\n",
              " 526,\n",
              " 44,\n",
              " 1605,\n",
              " 102,\n",
              " 1543,\n",
              " 5085,\n",
              " 1419,\n",
              " 3520,\n",
              " 267,\n",
              " 62,\n",
              " 3312,\n",
              " 54,\n",
              " 430,\n",
              " 92,\n",
              " 479,\n",
              " 70,\n",
              " 164,\n",
              " 136,\n",
              " 244,\n",
              " 161,\n",
              " 603,\n",
              " 8331,\n",
              " 484,\n",
              " 225,\n",
              " 958,\n",
              " 1197,\n",
              " 635,\n",
              " 5085,\n",
              " 64,\n",
              " 183,\n",
              " 12,\n",
              " 147,\n",
              " 3190,\n",
              " 1044,\n",
              " 57,\n",
              " 21,\n",
              " 114,\n",
              " 1654,\n",
              " 400,\n",
              " 219,\n",
              " 19,\n",
              " 343,\n",
              " 95,\n",
              " 400,\n",
              " 219,\n",
              " 343,\n",
              " 484,\n",
              " 490,\n",
              " 8332,\n",
              " 4796,\n",
              " 2308,\n",
              " 6845,\n",
              " 343,\n",
              " 315,\n",
              " 5085,\n",
              " 202,\n",
              " 48,\n",
              " 21,\n",
              " 2356,\n",
              " 5745,\n",
              " 8455,\n",
              " 11303,\n",
              " 74,\n",
              " 11,\n",
              " 1072,\n",
              " 245,\n",
              " 18578,\n",
              " 19,\n",
              " 7905,\n",
              " 3624,\n",
              " 1561,\n",
              " 126,\n",
              " 11629,\n",
              " 8272,\n",
              " 196,\n",
              " 1605,\n",
              " 8273,\n",
              " 1041,\n",
              " 854,\n",
              " 1336,\n",
              " 54,\n",
              " 1164,\n",
              " 11,\n",
              " 5085,\n",
              " 631,\n",
              " 902,\n",
              " 2551,\n",
              " 64,\n",
              " 805,\n",
              " 3044,\n",
              " 23326,\n",
              " 1,\n",
              " 1477,\n",
              " 2499,\n",
              " 58,\n",
              " 3441,\n",
              " 779,\n",
              " 763,\n",
              " 3474,\n",
              " 2188,\n",
              " 1689,\n",
              " 105,\n",
              " 58,\n",
              " 2912,\n",
              " 64,\n",
              " 51,\n",
              " 1056,\n",
              " 371,\n",
              " 470,\n",
              " 49,\n",
              " 5085,\n",
              " 100,\n",
              " 1868,\n",
              " 5791,\n",
              " 188,\n",
              " 147,\n",
              " 1865,\n",
              " 651,\n",
              " 6403,\n",
              " 486,\n",
              " 51,\n",
              " 138,\n",
              " 64,\n",
              " 191,\n",
              " 15,\n",
              " 342,\n",
              " 1429,\n",
              " 130,\n",
              " 38,\n",
              " 8455,\n",
              " 16158,\n",
              " 8455,\n",
              " 196,\n",
              " 1427,\n",
              " 177,\n",
              " 270,\n",
              " 1192,\n",
              " 353,\n",
              " 750,\n",
              " 374,\n",
              " 141,\n",
              " 517,\n",
              " 147,\n",
              " 126,\n",
              " 1085,\n",
              " 45,\n",
              " 529,\n",
              " 1949,\n",
              " 147,\n",
              " 1085,\n",
              " 45,\n",
              " 1429,\n",
              " 3424,\n",
              " 7788,\n",
              " 733,\n",
              " 7545,\n",
              " 476,\n",
              " 1475,\n",
              " 323,\n",
              " 2273,\n",
              " 1961,\n",
              " 309,\n",
              " 1032,\n",
              " 948,\n",
              " 145,\n",
              " 10,\n",
              " 1653,\n",
              " 57,\n",
              " 54,\n",
              " 603,\n",
              " 8331,\n",
              " 733,\n",
              " 2870,\n",
              " 6172,\n",
              " 98,\n",
              " 136,\n",
              " 22312,\n",
              " 642,\n",
              " 410,\n",
              " 1459,\n",
              " 717,\n",
              " 8455,\n",
              " 12138,\n",
              " 21377,\n",
              " 642]"
            ]
          },
          "metadata": {
            "tags": []
          },
          "execution_count": 123
        }
      ]
    },
    {
      "cell_type": "code",
      "metadata": {
        "colab": {
          "base_uri": "https://localhost:8080/"
        },
        "id": "xkGDKWb-vONv",
        "outputId": "0e15bf51-fe98-4e2a-b2da-cd3dad00a165"
      },
      "source": [
        "len(sentences)"
      ],
      "execution_count": 30,
      "outputs": [
        {
          "output_type": "execute_result",
          "data": {
            "text/plain": [
              "18285"
            ]
          },
          "metadata": {
            "tags": []
          },
          "execution_count": 30
        }
      ]
    },
    {
      "cell_type": "code",
      "metadata": {
        "id": "uHp4DDztF1O0"
      },
      "source": [
        "sent_length=3000\n",
        "embedded_docs=pad_sequences(sentences,padding='pre',truncating='pre',maxlen=sent_length)"
      ],
      "execution_count": 52,
      "outputs": []
    },
    {
      "cell_type": "code",
      "metadata": {
        "colab": {
          "base_uri": "https://localhost:8080/"
        },
        "id": "JNF_luzkr8jN",
        "outputId": "89236182-cf6b-4a95-f41c-7618df4857ef"
      },
      "source": [
        "embedded_docs"
      ],
      "execution_count": 53,
      "outputs": [
        {
          "output_type": "execute_result",
          "data": {
            "text/plain": [
              "array([[    0,     0,     0, ..., 12138, 21377,   642],\n",
              "       [    0,     0,     0, ...,  1424,   645,  6590],\n",
              "       [    0,     0,     0, ...,   260,  1655,  4958],\n",
              "       ...,\n",
              "       [    0,     0,     0, ...,  3390,  2504,   771],\n",
              "       [    0,     0,     0, ...,  1902,   954,  2858],\n",
              "       [    0,     0,     0, ..., 15553,  2015,  1084]], dtype=int32)"
            ]
          },
          "metadata": {
            "tags": []
          },
          "execution_count": 53
        }
      ]
    },
    {
      "cell_type": "code",
      "metadata": {
        "colab": {
          "base_uri": "https://localhost:8080/"
        },
        "id": "QhgoJrySGoDY",
        "outputId": "ae8b86e2-235c-40f2-c8e6-a3840f247504"
      },
      "source": [
        "len(embedded_docs[0])"
      ],
      "execution_count": 54,
      "outputs": [
        {
          "output_type": "execute_result",
          "data": {
            "text/plain": [
              "3000"
            ]
          },
          "metadata": {
            "tags": []
          },
          "execution_count": 54
        }
      ]
    },
    {
      "cell_type": "code",
      "metadata": {
        "id": "RYq6OuNCG-OJ"
      },
      "source": [
        "from tensorflow import keras\n",
        "from keras.models import Sequential\n",
        "from keras.layers import Embedding,LSTM,Dense,embeddings\n",
        "from keras.optimizers import Adam\n",
        "from keras.metrics import binary_crossentropy"
      ],
      "execution_count": 35,
      "outputs": []
    },
    {
      "cell_type": "code",
      "metadata": {
        "id": "UwlC4G0GtSS0"
      },
      "source": [
        "vocsize=30000"
      ],
      "execution_count": 36,
      "outputs": []
    },
    {
      "cell_type": "code",
      "metadata": {
        "colab": {
          "base_uri": "https://localhost:8080/"
        },
        "id": "kVLYgSwzGsr-",
        "outputId": "f2d5f7c8-92e7-4fb1-e3c8-e409c3a7134c"
      },
      "source": [
        "embedding_feature_dim=100\n",
        "model=Sequential()\n",
        "model.add(Embedding(vocsize,embedding_feature_dim,input_length=sent_length))\n",
        "model.add(LSTM(100))\n",
        "model.add(Dense(1,activation='sigmoid'))\n",
        "model.compile(loss='binary_crossentropy',optimizer='Adam',metrics=['accuracy'])\n",
        "print(model.summary())\n"
      ],
      "execution_count": 56,
      "outputs": [
        {
          "output_type": "stream",
          "text": [
            "Model: \"sequential_5\"\n",
            "_________________________________________________________________\n",
            "Layer (type)                 Output Shape              Param #   \n",
            "=================================================================\n",
            "embedding_5 (Embedding)      (None, 3000, 100)         3000000   \n",
            "_________________________________________________________________\n",
            "lstm_5 (LSTM)                (None, 100)               80400     \n",
            "_________________________________________________________________\n",
            "dense_5 (Dense)              (None, 1)                 101       \n",
            "=================================================================\n",
            "Total params: 3,080,501\n",
            "Trainable params: 3,080,501\n",
            "Non-trainable params: 0\n",
            "_________________________________________________________________\n",
            "None\n"
          ],
          "name": "stdout"
        }
      ]
    },
    {
      "cell_type": "code",
      "metadata": {
        "colab": {
          "base_uri": "https://localhost:8080/"
        },
        "id": "-E316E8OL4fO",
        "outputId": "3eedaedc-f104-4bab-df81-137ccfde99c9"
      },
      "source": [
        "len(embedded_docs[5]),df['label'].shape\n"
      ],
      "execution_count": 57,
      "outputs": [
        {
          "output_type": "execute_result",
          "data": {
            "text/plain": [
              "(3000, (18285,))"
            ]
          },
          "metadata": {
            "tags": []
          },
          "execution_count": 57
        }
      ]
    },
    {
      "cell_type": "code",
      "metadata": {
        "id": "TjjGEI-BMQOJ"
      },
      "source": [
        "import numpy as np\n",
        "x_final=np.array(embedded_docs)\n",
        "y_final=np.array(df['label'])"
      ],
      "execution_count": 58,
      "outputs": []
    },
    {
      "cell_type": "code",
      "metadata": {
        "colab": {
          "base_uri": "https://localhost:8080/"
        },
        "id": "c9G0RZuCNQ9B",
        "outputId": "bd077a52-6d1d-49bc-8fa4-0eaaf99ac8e4"
      },
      "source": [
        "x_final.shape,y_final.shape"
      ],
      "execution_count": 59,
      "outputs": [
        {
          "output_type": "execute_result",
          "data": {
            "text/plain": [
              "((18285, 3000), (18285,))"
            ]
          },
          "metadata": {
            "tags": []
          },
          "execution_count": 59
        }
      ]
    },
    {
      "cell_type": "code",
      "metadata": {
        "id": "Q4Lh3ZwcNyUT"
      },
      "source": [
        "randomseed=10000\n",
        "from sklearn.model_selection import  train_test_split\n",
        "x_train,x_test,y_train,y_test=train_test_split(x_final,y_final,random_state=randomseed,train_size=0.7)"
      ],
      "execution_count": 60,
      "outputs": []
    },
    {
      "cell_type": "code",
      "metadata": {
        "colab": {
          "base_uri": "https://localhost:8080/"
        },
        "id": "zYXZRsZDOZz9",
        "outputId": "26b65b8f-72d2-4ed9-fe48-a32eba6e4bdf"
      },
      "source": [
        "x_train.shape,y_train.shape,x_test.shape,y_test.shape"
      ],
      "execution_count": 61,
      "outputs": [
        {
          "output_type": "execute_result",
          "data": {
            "text/plain": [
              "((12799, 3000), (12799,), (5486, 3000), (5486,))"
            ]
          },
          "metadata": {
            "tags": []
          },
          "execution_count": 61
        }
      ]
    },
    {
      "cell_type": "code",
      "metadata": {
        "colab": {
          "base_uri": "https://localhost:8080/"
        },
        "id": "aaEZbjxfPVNl",
        "outputId": "a74c299f-38fb-4d18-947d-e2abff4ddf6c"
      },
      "source": [
        "### Finally Training\n",
        "model.fit(x_train,y_train,epochs=10,batch_size=64,verbose=1)"
      ],
      "execution_count": 62,
      "outputs": [
        {
          "output_type": "stream",
          "text": [
            "Epoch 1/10\n",
            "Epoch 2/10\n",
            "Epoch 3/10\n",
            "Epoch 4/10\n",
            "Epoch 5/10\n",
            "Epoch 6/10\n",
            "Epoch 7/10\n",
            "Epoch 8/10\n",
            "Epoch 9/10\n",
            "Epoch 10/10\n"
          ],
          "name": "stdout"
        },
        {
          "output_type": "execute_result",
          "data": {
            "text/plain": [
              "<keras.callbacks.History at 0x7f6817eae890>"
            ]
          },
          "metadata": {
            "tags": []
          },
          "execution_count": 62
        }
      ]
    },
    {
      "cell_type": "code",
      "metadata": {
        "colab": {
          "base_uri": "https://localhost:8080/"
        },
        "id": "BT4sDNzyaTEr",
        "outputId": "80215674-db12-4bf2-e1ef-1e8e94f8e91e"
      },
      "source": [
        "y_pred=model.predict_classes(x_test)\n",
        "y_pred"
      ],
      "execution_count": 63,
      "outputs": [
        {
          "output_type": "stream",
          "text": [
            "/usr/local/lib/python3.7/dist-packages/keras/engine/sequential.py:450: UserWarning: `model.predict_classes()` is deprecated and will be removed after 2021-01-01. Please use instead:* `np.argmax(model.predict(x), axis=-1)`,   if your model does multi-class classification   (e.g. if it uses a `softmax` last-layer activation).* `(model.predict(x) > 0.5).astype(\"int32\")`,   if your model does binary classification   (e.g. if it uses a `sigmoid` last-layer activation).\n",
            "  warnings.warn('`model.predict_classes()` is deprecated and '\n"
          ],
          "name": "stderr"
        },
        {
          "output_type": "execute_result",
          "data": {
            "text/plain": [
              "array([[0],\n",
              "       [0],\n",
              "       [1],\n",
              "       ...,\n",
              "       [1],\n",
              "       [1],\n",
              "       [1]], dtype=int32)"
            ]
          },
          "metadata": {
            "tags": []
          },
          "execution_count": 63
        }
      ]
    },
    {
      "cell_type": "code",
      "metadata": {
        "id": "HTOlDcYYceFb"
      },
      "source": [
        "from sklearn.metrics import confusion_matrix,accuracy_score"
      ],
      "execution_count": 64,
      "outputs": []
    },
    {
      "cell_type": "code",
      "metadata": {
        "colab": {
          "base_uri": "https://localhost:8080/"
        },
        "id": "PC8C__wwcmKl",
        "outputId": "3b04ab39-847d-4a21-8dcc-b94e25b6e6db"
      },
      "source": [
        "accuracy_score(y_true=y_test,y_pred=y_pred)"
      ],
      "execution_count": 65,
      "outputs": [
        {
          "output_type": "execute_result",
          "data": {
            "text/plain": [
              "0.9238060517681371"
            ]
          },
          "metadata": {
            "tags": []
          },
          "execution_count": 65
        }
      ]
    },
    {
      "cell_type": "code",
      "metadata": {
        "id": "YiKr2HS0ctzF"
      },
      "source": [
        "a=confusion_matrix(y_test,y_pred)"
      ],
      "execution_count": 66,
      "outputs": []
    },
    {
      "cell_type": "code",
      "metadata": {
        "colab": {
          "base_uri": "https://localhost:8080/",
          "height": 282
        },
        "id": "vt0O8L86enrr",
        "outputId": "ac345dc7-51f9-4023-fa53-e2c494373361"
      },
      "source": [
        "import seaborn as sns\n",
        "sns.heatmap(a,annot=True,cmap='magma')"
      ],
      "execution_count": 120,
      "outputs": [
        {
          "output_type": "execute_result",
          "data": {
            "text/plain": [
              "<matplotlib.axes._subplots.AxesSubplot at 0x7f63de55fb90>"
            ]
          },
          "metadata": {
            "tags": []
          },
          "execution_count": 120
        },
        {
          "output_type": "display_data",
          "data": {
            "image/png": "[encoded data removed]",
            "text/plain": [
              "<Figure size 432x288 with 2 Axes>"
            ]
          },
          "metadata": {
            "tags": [],
            "needs_background": "light"
          }
        }
      ]
    },
    {
      "cell_type": "code",
      "metadata": {
        "id": "dTMNHh11evSu"
      },
      "source": [
        "df_test=pd.read_csv('/content/drive/MyDrive/datasets/fake news comp test.csv')"
      ],
      "execution_count": 68,
      "outputs": []
    },
    {
      "cell_type": "code",
      "metadata": {
        "colab": {
          "base_uri": "https://localhost:8080/",
          "height": 203
        },
        "id": "588neukyfhaw",
        "outputId": "bbee8581-2091-436d-c014-50c1c23497da"
      },
      "source": [
        "df_test.head()"
      ],
      "execution_count": 69,
      "outputs": [
        {
          "output_type": "execute_result",
          "data": {
            "text/html": [
              "<div>\n",
              "<style scoped>\n",
              "    .dataframe tbody tr th:only-of-type {\n",
              "        vertical-align: middle;\n",
              "    }\n",
              "\n",
              "    .dataframe tbody tr th {\n",
              "        vertical-align: top;\n",
              "    }\n",
              "\n",
              "    .dataframe thead th {\n",
              "        text-align: right;\n",
              "    }\n",
              "</style>\n",
              "<table border=\"1\" class=\"dataframe\">\n",
              "  <thead>\n",
              "    <tr style=\"text-align: right;\">\n",
              "      <th></th>\n",
              "      <th>id</th>\n",
              "      <th>title</th>\n",
              "      <th>author</th>\n",
              "      <th>text</th>\n",
              "    </tr>\n",
              "  </thead>\n",
              "  <tbody>\n",
              "    <tr>\n",
              "      <th>0</th>\n",
              "      <td>20800</td>\n",
              "      <td>Specter of Trump Loosens Tongues, if Not Purse...</td>\n",
              "      <td>David Streitfeld</td>\n",
              "      <td>PALO ALTO, Calif.  —   After years of scorning...</td>\n",
              "    </tr>\n",
              "    <tr>\n",
              "      <th>1</th>\n",
              "      <td>20801</td>\n",
              "      <td>Russian warships ready to strike terrorists ne...</td>\n",
              "      <td>NaN</td>\n",
              "      <td>Russian warships ready to strike terrorists ne...</td>\n",
              "    </tr>\n",
              "    <tr>\n",
              "      <th>2</th>\n",
              "      <td>20802</td>\n",
              "      <td>#NoDAPL: Native American Leaders Vow to Stay A...</td>\n",
              "      <td>Common Dreams</td>\n",
              "      <td>Videos #NoDAPL: Native American Leaders Vow to...</td>\n",
              "    </tr>\n",
              "    <tr>\n",
              "      <th>3</th>\n",
              "      <td>20803</td>\n",
              "      <td>Tim Tebow Will Attempt Another Comeback, This ...</td>\n",
              "      <td>Daniel Victor</td>\n",
              "      <td>If at first you don’t succeed, try a different...</td>\n",
              "    </tr>\n",
              "    <tr>\n",
              "      <th>4</th>\n",
              "      <td>20804</td>\n",
              "      <td>Keiser Report: Meme Wars (E995)</td>\n",
              "      <td>Truth Broadcast Network</td>\n",
              "      <td>42 mins ago 1 Views 0 Comments 0 Likes 'For th...</td>\n",
              "    </tr>\n",
              "  </tbody>\n",
              "</table>\n",
              "</div>"
            ],
            "text/plain": [
              "      id  ...                                               text\n",
              "0  20800  ...  PALO ALTO, Calif.  —   After years of scorning...\n",
              "1  20801  ...  Russian warships ready to strike terrorists ne...\n",
              "2  20802  ...  Videos #NoDAPL: Native American Leaders Vow to...\n",
              "3  20803  ...  If at first you don’t succeed, try a different...\n",
              "4  20804  ...  42 mins ago 1 Views 0 Comments 0 Likes 'For th...\n",
              "\n",
              "[5 rows x 4 columns]"
            ]
          },
          "metadata": {
            "tags": []
          },
          "execution_count": 69
        }
      ]
    },
    {
      "cell_type": "code",
      "metadata": {
        "colab": {
          "base_uri": "https://localhost:8080/",
          "height": 203
        },
        "id": "JiUsNAPMfq4A",
        "outputId": "b83ac503-fa63-49d6-8b95-b45c5562e941"
      },
      "source": [
        "df_test.tail()"
      ],
      "execution_count": 70,
      "outputs": [
        {
          "output_type": "execute_result",
          "data": {
            "text/html": [
              "<div>\n",
              "<style scoped>\n",
              "    .dataframe tbody tr th:only-of-type {\n",
              "        vertical-align: middle;\n",
              "    }\n",
              "\n",
              "    .dataframe tbody tr th {\n",
              "        vertical-align: top;\n",
              "    }\n",
              "\n",
              "    .dataframe thead th {\n",
              "        text-align: right;\n",
              "    }\n",
              "</style>\n",
              "<table border=\"1\" class=\"dataframe\">\n",
              "  <thead>\n",
              "    <tr style=\"text-align: right;\">\n",
              "      <th></th>\n",
              "      <th>id</th>\n",
              "      <th>title</th>\n",
              "      <th>author</th>\n",
              "      <th>text</th>\n",
              "    </tr>\n",
              "  </thead>\n",
              "  <tbody>\n",
              "    <tr>\n",
              "      <th>5195</th>\n",
              "      <td>25995</td>\n",
              "      <td>The Bangladeshi Traffic Jam That Never Ends - ...</td>\n",
              "      <td>Jody Rosen</td>\n",
              "      <td>Of all the dysfunctions that plague the world’...</td>\n",
              "    </tr>\n",
              "    <tr>\n",
              "      <th>5196</th>\n",
              "      <td>25996</td>\n",
              "      <td>John Kasich Signs One Abortion Bill in Ohio bu...</td>\n",
              "      <td>Sheryl Gay Stolberg</td>\n",
              "      <td>WASHINGTON  —   Gov. John Kasich of Ohio on Tu...</td>\n",
              "    </tr>\n",
              "    <tr>\n",
              "      <th>5197</th>\n",
              "      <td>25997</td>\n",
              "      <td>California Today: What, Exactly, Is in Your Su...</td>\n",
              "      <td>Mike McPhate</td>\n",
              "      <td>Good morning. (Want to get California Today by...</td>\n",
              "    </tr>\n",
              "    <tr>\n",
              "      <th>5198</th>\n",
              "      <td>25998</td>\n",
              "      <td>300 US Marines To Be Deployed To Russian Borde...</td>\n",
              "      <td>NaN</td>\n",
              "      <td>« Previous - Next » 300 US Marines To Be Deplo...</td>\n",
              "    </tr>\n",
              "    <tr>\n",
              "      <th>5199</th>\n",
              "      <td>25999</td>\n",
              "      <td>Awkward Sex, Onscreen and Off - The New York T...</td>\n",
              "      <td>Teddy Wayne</td>\n",
              "      <td>Perhaps you’ve seen the new TV series whose pi...</td>\n",
              "    </tr>\n",
              "  </tbody>\n",
              "</table>\n",
              "</div>"
            ],
            "text/plain": [
              "         id  ...                                               text\n",
              "5195  25995  ...  Of all the dysfunctions that plague the world’...\n",
              "5196  25996  ...  WASHINGTON  —   Gov. John Kasich of Ohio on Tu...\n",
              "5197  25997  ...  Good morning. (Want to get California Today by...\n",
              "5198  25998  ...  « Previous - Next » 300 US Marines To Be Deplo...\n",
              "5199  25999  ...  Perhaps you’ve seen the new TV series whose pi...\n",
              "\n",
              "[5 rows x 4 columns]"
            ]
          },
          "metadata": {
            "tags": []
          },
          "execution_count": 70
        }
      ]
    },
    {
      "cell_type": "code",
      "metadata": {
        "colab": {
          "base_uri": "https://localhost:8080/"
        },
        "id": "etVZl-o7fwQT",
        "outputId": "fac4ad18-ddec-44ef-a512-914954692a1d"
      },
      "source": [
        "df_test.shape"
      ],
      "execution_count": 71,
      "outputs": [
        {
          "output_type": "execute_result",
          "data": {
            "text/plain": [
              "(5200, 4)"
            ]
          },
          "metadata": {
            "tags": []
          },
          "execution_count": 71
        }
      ]
    },
    {
      "cell_type": "code",
      "metadata": {
        "colab": {
          "base_uri": "https://localhost:8080/"
        },
        "id": "YomJqdQ8f0g0",
        "outputId": "3d3206c5-22fc-414c-d1c5-78b2d1e7a975"
      },
      "source": [
        "df_test.isna().sum()"
      ],
      "execution_count": 72,
      "outputs": [
        {
          "output_type": "execute_result",
          "data": {
            "text/plain": [
              "id          0\n",
              "title     122\n",
              "author    503\n",
              "text        7\n",
              "dtype: int64"
            ]
          },
          "metadata": {
            "tags": []
          },
          "execution_count": 72
        }
      ]
    },
    {
      "cell_type": "code",
      "metadata": {
        "colab": {
          "base_uri": "https://localhost:8080/",
          "height": 484
        },
        "id": "sNhr2Xiaf-So",
        "outputId": "e1fe40c5-c8d3-4d3f-e6e7-ed6623deacf2"
      },
      "source": [
        "df_test['news']=df_test['title']+df_test['text']\n",
        "df_test.drop(columns=['author'],inplace=True)\n",
        "df_test"
      ],
      "execution_count": 73,
      "outputs": [
        {
          "output_type": "execute_result",
          "data": {
            "text/html": [
              "<div>\n",
              "<style scoped>\n",
              "    .dataframe tbody tr th:only-of-type {\n",
              "        vertical-align: middle;\n",
              "    }\n",
              "\n",
              "    .dataframe tbody tr th {\n",
              "        vertical-align: top;\n",
              "    }\n",
              "\n",
              "    .dataframe thead th {\n",
              "        text-align: right;\n",
              "    }\n",
              "</style>\n",
              "<table border=\"1\" class=\"dataframe\">\n",
              "  <thead>\n",
              "    <tr style=\"text-align: right;\">\n",
              "      <th></th>\n",
              "      <th>id</th>\n",
              "      <th>title</th>\n",
              "      <th>text</th>\n",
              "      <th>news</th>\n",
              "    </tr>\n",
              "  </thead>\n",
              "  <tbody>\n",
              "    <tr>\n",
              "      <th>0</th>\n",
              "      <td>20800</td>\n",
              "      <td>Specter of Trump Loosens Tongues, if Not Purse...</td>\n",
              "      <td>PALO ALTO, Calif.  —   After years of scorning...</td>\n",
              "      <td>Specter of Trump Loosens Tongues, if Not Purse...</td>\n",
              "    </tr>\n",
              "    <tr>\n",
              "      <th>1</th>\n",
              "      <td>20801</td>\n",
              "      <td>Russian warships ready to strike terrorists ne...</td>\n",
              "      <td>Russian warships ready to strike terrorists ne...</td>\n",
              "      <td>Russian warships ready to strike terrorists ne...</td>\n",
              "    </tr>\n",
              "    <tr>\n",
              "      <th>2</th>\n",
              "      <td>20802</td>\n",
              "      <td>#NoDAPL: Native American Leaders Vow to Stay A...</td>\n",
              "      <td>Videos #NoDAPL: Native American Leaders Vow to...</td>\n",
              "      <td>#NoDAPL: Native American Leaders Vow to Stay A...</td>\n",
              "    </tr>\n",
              "    <tr>\n",
              "      <th>3</th>\n",
              "      <td>20803</td>\n",
              "      <td>Tim Tebow Will Attempt Another Comeback, This ...</td>\n",
              "      <td>If at first you don’t succeed, try a different...</td>\n",
              "      <td>Tim Tebow Will Attempt Another Comeback, This ...</td>\n",
              "    </tr>\n",
              "    <tr>\n",
              "      <th>4</th>\n",
              "      <td>20804</td>\n",
              "      <td>Keiser Report: Meme Wars (E995)</td>\n",
              "      <td>42 mins ago 1 Views 0 Comments 0 Likes 'For th...</td>\n",
              "      <td>Keiser Report: Meme Wars (E995)42 mins ago 1 V...</td>\n",
              "    </tr>\n",
              "    <tr>\n",
              "      <th>...</th>\n",
              "      <td>...</td>\n",
              "      <td>...</td>\n",
              "      <td>...</td>\n",
              "      <td>...</td>\n",
              "    </tr>\n",
              "    <tr>\n",
              "      <th>5195</th>\n",
              "      <td>25995</td>\n",
              "      <td>The Bangladeshi Traffic Jam That Never Ends - ...</td>\n",
              "      <td>Of all the dysfunctions that plague the world’...</td>\n",
              "      <td>The Bangladeshi Traffic Jam That Never Ends - ...</td>\n",
              "    </tr>\n",
              "    <tr>\n",
              "      <th>5196</th>\n",
              "      <td>25996</td>\n",
              "      <td>John Kasich Signs One Abortion Bill in Ohio bu...</td>\n",
              "      <td>WASHINGTON  —   Gov. John Kasich of Ohio on Tu...</td>\n",
              "      <td>John Kasich Signs One Abortion Bill in Ohio bu...</td>\n",
              "    </tr>\n",
              "    <tr>\n",
              "      <th>5197</th>\n",
              "      <td>25997</td>\n",
              "      <td>California Today: What, Exactly, Is in Your Su...</td>\n",
              "      <td>Good morning. (Want to get California Today by...</td>\n",
              "      <td>California Today: What, Exactly, Is in Your Su...</td>\n",
              "    </tr>\n",
              "    <tr>\n",
              "      <th>5198</th>\n",
              "      <td>25998</td>\n",
              "      <td>300 US Marines To Be Deployed To Russian Borde...</td>\n",
              "      <td>« Previous - Next » 300 US Marines To Be Deplo...</td>\n",
              "      <td>300 US Marines To Be Deployed To Russian Borde...</td>\n",
              "    </tr>\n",
              "    <tr>\n",
              "      <th>5199</th>\n",
              "      <td>25999</td>\n",
              "      <td>Awkward Sex, Onscreen and Off - The New York T...</td>\n",
              "      <td>Perhaps you’ve seen the new TV series whose pi...</td>\n",
              "      <td>Awkward Sex, Onscreen and Off - The New York T...</td>\n",
              "    </tr>\n",
              "  </tbody>\n",
              "</table>\n",
              "<p>5200 rows × 4 columns</p>\n",
              "</div>"
            ],
            "text/plain": [
              "         id  ...                                               news\n",
              "0     20800  ...  Specter of Trump Loosens Tongues, if Not Purse...\n",
              "1     20801  ...  Russian warships ready to strike terrorists ne...\n",
              "2     20802  ...  #NoDAPL: Native American Leaders Vow to Stay A...\n",
              "3     20803  ...  Tim Tebow Will Attempt Another Comeback, This ...\n",
              "4     20804  ...  Keiser Report: Meme Wars (E995)42 mins ago 1 V...\n",
              "...     ...  ...                                                ...\n",
              "5195  25995  ...  The Bangladeshi Traffic Jam That Never Ends - ...\n",
              "5196  25996  ...  John Kasich Signs One Abortion Bill in Ohio bu...\n",
              "5197  25997  ...  California Today: What, Exactly, Is in Your Su...\n",
              "5198  25998  ...  300 US Marines To Be Deployed To Russian Borde...\n",
              "5199  25999  ...  Awkward Sex, Onscreen and Off - The New York T...\n",
              "\n",
              "[5200 rows x 4 columns]"
            ]
          },
          "metadata": {
            "tags": []
          },
          "execution_count": 73
        }
      ]
    },
    {
      "cell_type": "code",
      "metadata": {
        "colab": {
          "base_uri": "https://localhost:8080/"
        },
        "id": "ySkab8JmgxhH",
        "outputId": "c591ccca-f890-44f9-b7ee-33aef18976ed"
      },
      "source": [
        "df_test.news.isna().sum()"
      ],
      "execution_count": 74,
      "outputs": [
        {
          "output_type": "execute_result",
          "data": {
            "text/plain": [
              "129"
            ]
          },
          "metadata": {
            "tags": []
          },
          "execution_count": 74
        }
      ]
    },
    {
      "cell_type": "code",
      "metadata": {
        "colab": {
          "base_uri": "https://localhost:8080/"
        },
        "id": "sz2JIUyZg-_A",
        "outputId": "469e952b-2fe6-412b-d4d6-91813b964b1a"
      },
      "source": [
        "df_test.loc[df_test.news=='NaN'].index"
      ],
      "execution_count": 75,
      "outputs": [
        {
          "output_type": "execute_result",
          "data": {
            "text/plain": [
              "Int64Index([], dtype='int64')"
            ]
          },
          "metadata": {
            "tags": []
          },
          "execution_count": 75
        }
      ]
    },
    {
      "cell_type": "code",
      "metadata": {
        "id": "0ZJt4maGiSZJ"
      },
      "source": [
        "pd.set_option('display.max_colwidth',None)"
      ],
      "execution_count": 76,
      "outputs": []
    },
    {
      "cell_type": "code",
      "metadata": {
        "colab": {
          "base_uri": "https://localhost:8080/"
        },
        "id": "ijg1c1WAg-Ct",
        "outputId": "961e1757-d576-4c12-d0aa-0f321818cb68"
      },
      "source": [
        "filt=df_test['news'].isnull()\n",
        "filt"
      ],
      "execution_count": 77,
      "outputs": [
        {
          "output_type": "execute_result",
          "data": {
            "text/plain": [
              "0       False\n",
              "1       False\n",
              "2       False\n",
              "3       False\n",
              "4       False\n",
              "        ...  \n",
              "5195    False\n",
              "5196    False\n",
              "5197    False\n",
              "5198    False\n",
              "5199    False\n",
              "Name: news, Length: 5200, dtype: bool"
            ]
          },
          "metadata": {
            "tags": []
          },
          "execution_count": 77
        }
      ]
    },
    {
      "cell_type": "code",
      "metadata": {
        "colab": {
          "base_uri": "https://localhost:8080/"
        },
        "id": "cvMQSKX7g-vp",
        "outputId": "bf3c39d9-bc35-4bee-e51e-27f1fee3cbcf"
      },
      "source": [
        "df_test[filt].index"
      ],
      "execution_count": 78,
      "outputs": [
        {
          "output_type": "execute_result",
          "data": {
            "text/plain": [
              "Int64Index([   9,   22,   42,   45,   48,  125,  168,  201,  204,  249,\n",
              "            ...\n",
              "            4710, 4736, 4839, 4845, 4924, 4955, 4961, 4963, 5066, 5092],\n",
              "           dtype='int64', length=129)"
            ]
          },
          "metadata": {
            "tags": []
          },
          "execution_count": 78
        }
      ]
    },
    {
      "cell_type": "code",
      "metadata": {
        "colab": {
          "base_uri": "https://localhost:8080/"
        },
        "id": "_9mQXgUOk5lE",
        "outputId": "ed1408b0-f290-405b-f87f-70d16d251783"
      },
      "source": [
        "df_test.news[9]"
      ],
      "execution_count": 79,
      "outputs": [
        {
          "output_type": "execute_result",
          "data": {
            "text/plain": [
              "nan"
            ]
          },
          "metadata": {
            "tags": []
          },
          "execution_count": 79
        }
      ]
    },
    {
      "cell_type": "code",
      "metadata": {
        "colab": {
          "base_uri": "https://localhost:8080/"
        },
        "id": "9QIuGsr6k5yq",
        "outputId": "484e53d7-b7ce-4b4c-b55a-50167dcd6aac"
      },
      "source": [
        "df_test.news[4963]"
      ],
      "execution_count": 80,
      "outputs": [
        {
          "output_type": "execute_result",
          "data": {
            "text/plain": [
              "nan"
            ]
          },
          "metadata": {
            "tags": []
          },
          "execution_count": 80
        }
      ]
    },
    {
      "cell_type": "code",
      "metadata": {
        "id": "ZRCk7SX_go4f"
      },
      "source": [
        "df_test.drop(columns=['title','text'],inplace=True)"
      ],
      "execution_count": 81,
      "outputs": []
    },
    {
      "cell_type": "markdown",
      "metadata": {
        "id": "dUcAFNKtiy5u"
      },
      "source": [
        "here i am wondering how to handle missing values\n",
        "\n",
        "1.   maybe a symbol imputation is good\n",
        "     i think\n",
        "2.   later if i use one_hot encoding will there be any use if i do one hot encoding seperately for train and testing data\n",
        "\n",
        "\n",
        "\n"
      ]
    },
    {
      "cell_type": "code",
      "metadata": {
        "id": "w7RbdgxzkjhQ"
      },
      "source": [
        "pd.set_option('display.max_colwidth',100)"
      ],
      "execution_count": 82,
      "outputs": []
    },
    {
      "cell_type": "code",
      "metadata": {
        "colab": {
          "base_uri": "https://localhost:8080/",
          "height": 417
        },
        "id": "gj7_uwVPkauf",
        "outputId": "5f7dbbca-f717-4902-fb3a-516b1945b446"
      },
      "source": [
        "df_test"
      ],
      "execution_count": 83,
      "outputs": [
        {
          "output_type": "execute_result",
          "data": {
            "text/html": [
              "<div>\n",
              "<style scoped>\n",
              "    .dataframe tbody tr th:only-of-type {\n",
              "        vertical-align: middle;\n",
              "    }\n",
              "\n",
              "    .dataframe tbody tr th {\n",
              "        vertical-align: top;\n",
              "    }\n",
              "\n",
              "    .dataframe thead th {\n",
              "        text-align: right;\n",
              "    }\n",
              "</style>\n",
              "<table border=\"1\" class=\"dataframe\">\n",
              "  <thead>\n",
              "    <tr style=\"text-align: right;\">\n",
              "      <th></th>\n",
              "      <th>id</th>\n",
              "      <th>news</th>\n",
              "    </tr>\n",
              "  </thead>\n",
              "  <tbody>\n",
              "    <tr>\n",
              "      <th>0</th>\n",
              "      <td>20800</td>\n",
              "      <td>Specter of Trump Loosens Tongues, if Not Purse Strings, in Silicon Valley - The New York TimesPA...</td>\n",
              "    </tr>\n",
              "    <tr>\n",
              "      <th>1</th>\n",
              "      <td>20801</td>\n",
              "      <td>Russian warships ready to strike terrorists near AleppoRussian warships ready to strike terroris...</td>\n",
              "    </tr>\n",
              "    <tr>\n",
              "      <th>2</th>\n",
              "      <td>20802</td>\n",
              "      <td>#NoDAPL: Native American Leaders Vow to Stay All Winter, File Lawsuit Against PoliceVideos #NoDA...</td>\n",
              "    </tr>\n",
              "    <tr>\n",
              "      <th>3</th>\n",
              "      <td>20803</td>\n",
              "      <td>Tim Tebow Will Attempt Another Comeback, This Time in Baseball - The New York TimesIf at first y...</td>\n",
              "    </tr>\n",
              "    <tr>\n",
              "      <th>4</th>\n",
              "      <td>20804</td>\n",
              "      <td>Keiser Report: Meme Wars (E995)42 mins ago 1 Views 0 Comments 0 Likes 'For the first time in his...</td>\n",
              "    </tr>\n",
              "    <tr>\n",
              "      <th>...</th>\n",
              "      <td>...</td>\n",
              "      <td>...</td>\n",
              "    </tr>\n",
              "    <tr>\n",
              "      <th>5195</th>\n",
              "      <td>25995</td>\n",
              "      <td>The Bangladeshi Traffic Jam That Never Ends - The New York TimesOf all the dysfunctions that pla...</td>\n",
              "    </tr>\n",
              "    <tr>\n",
              "      <th>5196</th>\n",
              "      <td>25996</td>\n",
              "      <td>John Kasich Signs One Abortion Bill in Ohio but Vetoes a More Restrictive Measure - The New York...</td>\n",
              "    </tr>\n",
              "    <tr>\n",
              "      <th>5197</th>\n",
              "      <td>25997</td>\n",
              "      <td>California Today: What, Exactly, Is in Your Sushi? - The New York TimesGood morning. (Want to ge...</td>\n",
              "    </tr>\n",
              "    <tr>\n",
              "      <th>5198</th>\n",
              "      <td>25998</td>\n",
              "      <td>300 US Marines To Be Deployed To Russian Border In Norway« Previous - Next » 300 US Marines To B...</td>\n",
              "    </tr>\n",
              "    <tr>\n",
              "      <th>5199</th>\n",
              "      <td>25999</td>\n",
              "      <td>Awkward Sex, Onscreen and Off - The New York TimesPerhaps you’ve seen the new TV series whose pi...</td>\n",
              "    </tr>\n",
              "  </tbody>\n",
              "</table>\n",
              "<p>5200 rows × 2 columns</p>\n",
              "</div>"
            ],
            "text/plain": [
              "         id                                                                                                 news\n",
              "0     20800  Specter of Trump Loosens Tongues, if Not Purse Strings, in Silicon Valley - The New York TimesPA...\n",
              "1     20801  Russian warships ready to strike terrorists near AleppoRussian warships ready to strike terroris...\n",
              "2     20802  #NoDAPL: Native American Leaders Vow to Stay All Winter, File Lawsuit Against PoliceVideos #NoDA...\n",
              "3     20803  Tim Tebow Will Attempt Another Comeback, This Time in Baseball - The New York TimesIf at first y...\n",
              "4     20804  Keiser Report: Meme Wars (E995)42 mins ago 1 Views 0 Comments 0 Likes 'For the first time in his...\n",
              "...     ...                                                                                                  ...\n",
              "5195  25995  The Bangladeshi Traffic Jam That Never Ends - The New York TimesOf all the dysfunctions that pla...\n",
              "5196  25996  John Kasich Signs One Abortion Bill in Ohio but Vetoes a More Restrictive Measure - The New York...\n",
              "5197  25997  California Today: What, Exactly, Is in Your Sushi? - The New York TimesGood morning. (Want to ge...\n",
              "5198  25998  300 US Marines To Be Deployed To Russian Border In Norway« Previous - Next » 300 US Marines To B...\n",
              "5199  25999  Awkward Sex, Onscreen and Off - The New York TimesPerhaps you’ve seen the new TV series whose pi...\n",
              "\n",
              "[5200 rows x 2 columns]"
            ]
          },
          "metadata": {
            "tags": []
          },
          "execution_count": 83
        }
      ]
    },
    {
      "cell_type": "code",
      "metadata": {
        "colab": {
          "base_uri": "https://localhost:8080/"
        },
        "id": "i1lusZzKkd3G",
        "outputId": "7d385252-4429-4322-b154-26c1b7183e86"
      },
      "source": [
        "df_test.news.fillna(value='no news here',inplace=True)\n",
        "df_test.isna().sum()"
      ],
      "execution_count": 84,
      "outputs": [
        {
          "output_type": "execute_result",
          "data": {
            "text/plain": [
              "id      0\n",
              "news    0\n",
              "dtype: int64"
            ]
          },
          "metadata": {
            "tags": []
          },
          "execution_count": 84
        }
      ]
    },
    {
      "cell_type": "markdown",
      "metadata": {
        "id": "x0ec9SBDHdc9"
      },
      "source": [
        "## preprocessing test data"
      ]
    },
    {
      "cell_type": "code",
      "metadata": {
        "id": "cUO5qerqnkLr"
      },
      "source": [
        "%%time\n",
        "corpus1=[]\n",
        "ps=PorterStemmer()\n",
        "for i in range(0, len(df_test.news)):\n",
        "   \n",
        "    review = re.sub('[^a-zA-Z]', ' ', df_test['news'][i])\n",
        "    review = review.lower()\n",
        "    review = review.split()\n",
        "    \n",
        "    review = [ps.stem(word) for word in review if not word in stopwords.words('english') if word not in string.punctuation]\n",
        "    review = ' '.join(review)\n",
        "    corpus1.append(review)"
      ],
      "execution_count": null,
      "outputs": []
    },
    {
      "cell_type": "code",
      "metadata": {
        "id": "W9se6Cbq9-Su"
      },
      "source": [
        "test_sentences=t.texts_to_sequences(corpus1)"
      ],
      "execution_count": 87,
      "outputs": []
    },
    {
      "cell_type": "code",
      "metadata": {
        "id": "ufWdfTOb9-A3"
      },
      "source": [
        "test_embedded_docs=pad_sequences(test_sentences,padding='pre',truncating='pre',maxlen=sent_length)"
      ],
      "execution_count": 89,
      "outputs": []
    },
    {
      "cell_type": "code",
      "metadata": {
        "colab": {
          "base_uri": "https://localhost:8080/"
        },
        "id": "bIy2cn7I999D",
        "outputId": "bb35fa07-003a-4aed-fbf7-8eafceb7aa3d"
      },
      "source": [
        "test_embedded_docs[0:4]"
      ],
      "execution_count": 90,
      "outputs": [
        {
          "output_type": "execute_result",
          "data": {
            "text/plain": [
              "array([[   0,    0,    0, ...,  162, 1779,  169],\n",
              "       [   0,    0,    0, ..., 5957,  501,  256],\n",
              "       [   0,    0,    0, ..., 3984, 1201,  395],\n",
              "       [   0,    0,    0, ..., 1483, 2416, 4866]], dtype=int32)"
            ]
          },
          "metadata": {
            "tags": []
          },
          "execution_count": 90
        }
      ]
    },
    {
      "cell_type": "code",
      "metadata": {
        "colab": {
          "base_uri": "https://localhost:8080/"
        },
        "id": "Hw4FZ4IT9965",
        "outputId": "d2edfadf-60c6-44a3-eaa6-05cc1ebafcc4"
      },
      "source": [
        "len(test_sentences)"
      ],
      "execution_count": 91,
      "outputs": [
        {
          "output_type": "execute_result",
          "data": {
            "text/plain": [
              "5200"
            ]
          },
          "metadata": {
            "tags": []
          },
          "execution_count": 91
        }
      ]
    },
    {
      "cell_type": "code",
      "metadata": {
        "colab": {
          "base_uri": "https://localhost:8080/"
        },
        "id": "KBqiNVsyAmIy",
        "outputId": "df4a25c3-7a7b-4cdc-f17d-b005f8ef06a5"
      },
      "source": [
        "X_TEST=np.array(test_embedded_docs)\n",
        "X_TEST"
      ],
      "execution_count": 92,
      "outputs": [
        {
          "output_type": "execute_result",
          "data": {
            "text/plain": [
              "array([[   0,    0,    0, ...,  162, 1779,  169],\n",
              "       [   0,    0,    0, ..., 5957,  501,  256],\n",
              "       [   0,    0,    0, ..., 3984, 1201,  395],\n",
              "       ...,\n",
              "       [   0,    0,    0, ...,   65,  295, 2236],\n",
              "       [   0,    0,    0, ..., 1101,  405,  305],\n",
              "       [   0,    0,    0, ..., 6253,  799, 2000]], dtype=int32)"
            ]
          },
          "metadata": {
            "tags": []
          },
          "execution_count": 92
        }
      ]
    },
    {
      "cell_type": "code",
      "metadata": {
        "colab": {
          "base_uri": "https://localhost:8080/"
        },
        "id": "omeWJsKlA95A",
        "outputId": "d87cb96b-f151-48bf-ed3b-2a4f3ffed2c6"
      },
      "source": [
        "len(X_TEST[0])"
      ],
      "execution_count": 94,
      "outputs": [
        {
          "output_type": "execute_result",
          "data": {
            "text/plain": [
              "3000"
            ]
          },
          "metadata": {
            "tags": []
          },
          "execution_count": 94
        }
      ]
    },
    {
      "cell_type": "code",
      "metadata": {
        "colab": {
          "base_uri": "https://localhost:8080/"
        },
        "id": "_czV33zeBAME",
        "outputId": "6b4dbd0f-c704-4481-e9bd-972c99bbffc7"
      },
      "source": [
        "y_test_pred=model.predict_classes(X_TEST)\n",
        "y_test_pred"
      ],
      "execution_count": 96,
      "outputs": [
        {
          "output_type": "stream",
          "text": [
            "/usr/local/lib/python3.7/dist-packages/keras/engine/sequential.py:450: UserWarning: `model.predict_classes()` is deprecated and will be removed after 2021-01-01. Please use instead:* `np.argmax(model.predict(x), axis=-1)`,   if your model does multi-class classification   (e.g. if it uses a `softmax` last-layer activation).* `(model.predict(x) > 0.5).astype(\"int32\")`,   if your model does binary classification   (e.g. if it uses a `sigmoid` last-layer activation).\n",
            "  warnings.warn('`model.predict_classes()` is deprecated and '\n"
          ],
          "name": "stderr"
        },
        {
          "output_type": "execute_result",
          "data": {
            "text/plain": [
              "array([[0],\n",
              "       [1],\n",
              "       [1],\n",
              "       ...,\n",
              "       [0],\n",
              "       [1],\n",
              "       [0]], dtype=int32)"
            ]
          },
          "metadata": {
            "tags": []
          },
          "execution_count": 96
        }
      ]
    },
    {
      "cell_type": "code",
      "metadata": {
        "colab": {
          "base_uri": "https://localhost:8080/"
        },
        "id": "bSBXscGpDFsJ",
        "outputId": "264b3533-53a1-492f-f21e-02d8bc64a317"
      },
      "source": [
        "y_test_pred.shape"
      ],
      "execution_count": 99,
      "outputs": [
        {
          "output_type": "execute_result",
          "data": {
            "text/plain": [
              "(5200, 1)"
            ]
          },
          "metadata": {
            "tags": []
          },
          "execution_count": 99
        }
      ]
    },
    {
      "cell_type": "code",
      "metadata": {
        "colab": {
          "base_uri": "https://localhost:8080/"
        },
        "id": "-8hl1dmtDFob",
        "outputId": "ff6ca597-d5f2-4319-ca8a-6b8dd7971061"
      },
      "source": [
        "y_test_pred.ravel()"
      ],
      "execution_count": 110,
      "outputs": [
        {
          "output_type": "execute_result",
          "data": {
            "text/plain": [
              "array([0, 1, 1, ..., 0, 1, 0], dtype=int32)"
            ]
          },
          "metadata": {
            "tags": []
          },
          "execution_count": 110
        }
      ]
    },
    {
      "cell_type": "code",
      "metadata": {
        "colab": {
          "base_uri": "https://localhost:8080/"
        },
        "id": "G1aQk8RdDFnX",
        "outputId": "c3e44d6d-d652-4ae3-ab89-8d6a31a386c9"
      },
      "source": [
        "y_test_pred.reshape((5200,))"
      ],
      "execution_count": 116,
      "outputs": [
        {
          "output_type": "execute_result",
          "data": {
            "text/plain": [
              "array([0, 1, 1, ..., 0, 1, 0], dtype=int32)"
            ]
          },
          "metadata": {
            "tags": []
          },
          "execution_count": 116
        }
      ]
    },
    {
      "cell_type": "code",
      "metadata": {
        "id": "QMMvi_J2BLnq"
      },
      "source": [
        "output=pd.DataFrame({'id':df_test.id,'label':y_test_pred.ravel()})"
      ],
      "execution_count": 112,
      "outputs": []
    },
    {
      "cell_type": "code",
      "metadata": {
        "colab": {
          "base_uri": "https://localhost:8080/",
          "height": 417
        },
        "id": "xpeNSFhyFHeX",
        "outputId": "28bc4e61-6373-4178-bd27-8abe9c7d1b85"
      },
      "source": [
        "output"
      ],
      "execution_count": 113,
      "outputs": [
        {
          "output_type": "execute_result",
          "data": {
            "text/html": [
              "<div>\n",
              "<style scoped>\n",
              "    .dataframe tbody tr th:only-of-type {\n",
              "        vertical-align: middle;\n",
              "    }\n",
              "\n",
              "    .dataframe tbody tr th {\n",
              "        vertical-align: top;\n",
              "    }\n",
              "\n",
              "    .dataframe thead th {\n",
              "        text-align: right;\n",
              "    }\n",
              "</style>\n",
              "<table border=\"1\" class=\"dataframe\">\n",
              "  <thead>\n",
              "    <tr style=\"text-align: right;\">\n",
              "      <th></th>\n",
              "      <th>id</th>\n",
              "      <th>label</th>\n",
              "    </tr>\n",
              "  </thead>\n",
              "  <tbody>\n",
              "    <tr>\n",
              "      <th>0</th>\n",
              "      <td>20800</td>\n",
              "      <td>0</td>\n",
              "    </tr>\n",
              "    <tr>\n",
              "      <th>1</th>\n",
              "      <td>20801</td>\n",
              "      <td>1</td>\n",
              "    </tr>\n",
              "    <tr>\n",
              "      <th>2</th>\n",
              "      <td>20802</td>\n",
              "      <td>1</td>\n",
              "    </tr>\n",
              "    <tr>\n",
              "      <th>3</th>\n",
              "      <td>20803</td>\n",
              "      <td>0</td>\n",
              "    </tr>\n",
              "    <tr>\n",
              "      <th>4</th>\n",
              "      <td>20804</td>\n",
              "      <td>1</td>\n",
              "    </tr>\n",
              "    <tr>\n",
              "      <th>...</th>\n",
              "      <td>...</td>\n",
              "      <td>...</td>\n",
              "    </tr>\n",
              "    <tr>\n",
              "      <th>5195</th>\n",
              "      <td>25995</td>\n",
              "      <td>1</td>\n",
              "    </tr>\n",
              "    <tr>\n",
              "      <th>5196</th>\n",
              "      <td>25996</td>\n",
              "      <td>0</td>\n",
              "    </tr>\n",
              "    <tr>\n",
              "      <th>5197</th>\n",
              "      <td>25997</td>\n",
              "      <td>0</td>\n",
              "    </tr>\n",
              "    <tr>\n",
              "      <th>5198</th>\n",
              "      <td>25998</td>\n",
              "      <td>1</td>\n",
              "    </tr>\n",
              "    <tr>\n",
              "      <th>5199</th>\n",
              "      <td>25999</td>\n",
              "      <td>0</td>\n",
              "    </tr>\n",
              "  </tbody>\n",
              "</table>\n",
              "<p>5200 rows × 2 columns</p>\n",
              "</div>"
            ],
            "text/plain": [
              "         id  label\n",
              "0     20800      0\n",
              "1     20801      1\n",
              "2     20802      1\n",
              "3     20803      0\n",
              "4     20804      1\n",
              "...     ...    ...\n",
              "5195  25995      1\n",
              "5196  25996      0\n",
              "5197  25997      0\n",
              "5198  25998      1\n",
              "5199  25999      0\n",
              "\n",
              "[5200 rows x 2 columns]"
            ]
          },
          "metadata": {
            "tags": []
          },
          "execution_count": 113
        }
      ]
    },
    {
      "cell_type": "code",
      "metadata": {
        "id": "TFtjCo1MFHa8"
      },
      "source": [
        "output.to_csv('submission.csv', index=False)"
      ],
      "execution_count": 115,
      "outputs": []
    },
    {
      "cell_type": "code",
      "metadata": {
        "id": "zPex1oMtCjG2"
      },
      "source": [
        ""
      ],
      "execution_count": null,
      "outputs": []
    }
  ]
}