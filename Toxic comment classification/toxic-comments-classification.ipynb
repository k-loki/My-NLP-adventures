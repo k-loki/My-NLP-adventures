{
 "cells": [
  {
   "cell_type": "markdown",
   "id": "c5cda405",
   "metadata": {
    "id": "QscH_PkNBvmV",
    "papermill": {
     "duration": 0.028409,
     "end_time": "2022-05-25T07:01:04.590614",
     "exception": false,
     "start_time": "2022-05-25T07:01:04.562205",
     "status": "completed"
    },
    "tags": []
   },
   "source": [
    "# Import dependices and Load data"
   ]
  },
  {
   "cell_type": "code",
   "execution_count": 1,
   "id": "84de2961",
   "metadata": {
    "execution": {
     "iopub.execute_input": "2022-05-25T07:01:04.647318Z",
     "iopub.status.busy": "2022-05-25T07:01:04.646918Z",
     "iopub.status.idle": "2022-05-25T07:01:09.392350Z",
     "shell.execute_reply": "2022-05-25T07:01:09.391608Z"
    },
    "id": "MC4YQDfk_u2A",
    "papermill": {
     "duration": 4.776589,
     "end_time": "2022-05-25T07:01:09.394664",
     "exception": false,
     "start_time": "2022-05-25T07:01:04.618075",
     "status": "completed"
    },
    "tags": []
   },
   "outputs": [],
   "source": [
    "import pandas as pd\n",
    "import numpy as np\n",
    "import matplotlib.pyplot as plt\n",
    "import tensorflow as tf\n",
    "\n",
    "import os\n",
    "import joblib\n",
    "import warnings\n",
    "warnings.filterwarnings('ignore')\n",
    "RANDOM_SEED = 2345\n",
    "\n",
    "np.random.seed(RANDOM_SEED)\n",
    "os.environ['PYTHONHASHSEED'] =  str(RANDOM_SEED)"
   ]
  },
  {
   "cell_type": "code",
   "execution_count": 2,
   "id": "6bda19bd",
   "metadata": {
    "execution": {
     "iopub.execute_input": "2022-05-25T07:01:09.453463Z",
     "iopub.status.busy": "2022-05-25T07:01:09.453201Z",
     "iopub.status.idle": "2022-05-25T07:01:12.284074Z",
     "shell.execute_reply": "2022-05-25T07:01:12.283312Z"
    },
    "id": "36y6P_hyLiq8",
    "papermill": {
     "duration": 2.863603,
     "end_time": "2022-05-25T07:01:12.286125",
     "exception": false,
     "start_time": "2022-05-25T07:01:09.422522",
     "status": "completed"
    },
    "tags": []
   },
   "outputs": [],
   "source": [
    "train = pd.read_csv('../input/jigsaw-toxic-comment-classification-challenge/train.csv')\n",
    "test = pd.read_csv('../input/jigsaw-toxic-comment-classification-challenge/test.csv')"
   ]
  },
  {
   "cell_type": "code",
   "execution_count": 3,
   "id": "fb96318d",
   "metadata": {
    "execution": {
     "iopub.execute_input": "2022-05-25T07:01:12.342515Z",
     "iopub.status.busy": "2022-05-25T07:01:12.342277Z",
     "iopub.status.idle": "2022-05-25T07:01:12.364015Z",
     "shell.execute_reply": "2022-05-25T07:01:12.363348Z"
    },
    "id": "u261MSWeLtZb",
    "outputId": "eb2aaf37-0e6e-4d72-8893-5374e355c727",
    "papermill": {
     "duration": 0.052476,
     "end_time": "2022-05-25T07:01:12.366273",
     "exception": false,
     "start_time": "2022-05-25T07:01:12.313797",
     "status": "completed"
    },
    "tags": []
   },
   "outputs": [
    {
     "data": {
      "text/html": [
       "<div>\n",
       "<style scoped>\n",
       "    .dataframe tbody tr th:only-of-type {\n",
       "        vertical-align: middle;\n",
       "    }\n",
       "\n",
       "    .dataframe tbody tr th {\n",
       "        vertical-align: top;\n",
       "    }\n",
       "\n",
       "    .dataframe thead th {\n",
       "        text-align: right;\n",
       "    }\n",
       "</style>\n",
       "<table border=\"1\" class=\"dataframe\">\n",
       "  <thead>\n",
       "    <tr style=\"text-align: right;\">\n",
       "      <th></th>\n",
       "      <th>id</th>\n",
       "      <th>comment_text</th>\n",
       "      <th>toxic</th>\n",
       "      <th>severe_toxic</th>\n",
       "      <th>obscene</th>\n",
       "      <th>threat</th>\n",
       "      <th>insult</th>\n",
       "      <th>identity_hate</th>\n",
       "    </tr>\n",
       "  </thead>\n",
       "  <tbody>\n",
       "    <tr>\n",
       "      <th>0</th>\n",
       "      <td>0000997932d777bf</td>\n",
       "      <td>Explanation\\nWhy the edits made under my usern...</td>\n",
       "      <td>0</td>\n",
       "      <td>0</td>\n",
       "      <td>0</td>\n",
       "      <td>0</td>\n",
       "      <td>0</td>\n",
       "      <td>0</td>\n",
       "    </tr>\n",
       "    <tr>\n",
       "      <th>1</th>\n",
       "      <td>000103f0d9cfb60f</td>\n",
       "      <td>D'aww! He matches this background colour I'm s...</td>\n",
       "      <td>0</td>\n",
       "      <td>0</td>\n",
       "      <td>0</td>\n",
       "      <td>0</td>\n",
       "      <td>0</td>\n",
       "      <td>0</td>\n",
       "    </tr>\n",
       "    <tr>\n",
       "      <th>2</th>\n",
       "      <td>000113f07ec002fd</td>\n",
       "      <td>Hey man, I'm really not trying to edit war. It...</td>\n",
       "      <td>0</td>\n",
       "      <td>0</td>\n",
       "      <td>0</td>\n",
       "      <td>0</td>\n",
       "      <td>0</td>\n",
       "      <td>0</td>\n",
       "    </tr>\n",
       "    <tr>\n",
       "      <th>3</th>\n",
       "      <td>0001b41b1c6bb37e</td>\n",
       "      <td>\"\\nMore\\nI can't make any real suggestions on ...</td>\n",
       "      <td>0</td>\n",
       "      <td>0</td>\n",
       "      <td>0</td>\n",
       "      <td>0</td>\n",
       "      <td>0</td>\n",
       "      <td>0</td>\n",
       "    </tr>\n",
       "    <tr>\n",
       "      <th>4</th>\n",
       "      <td>0001d958c54c6e35</td>\n",
       "      <td>You, sir, are my hero. Any chance you remember...</td>\n",
       "      <td>0</td>\n",
       "      <td>0</td>\n",
       "      <td>0</td>\n",
       "      <td>0</td>\n",
       "      <td>0</td>\n",
       "      <td>0</td>\n",
       "    </tr>\n",
       "    <tr>\n",
       "      <th>...</th>\n",
       "      <td>...</td>\n",
       "      <td>...</td>\n",
       "      <td>...</td>\n",
       "      <td>...</td>\n",
       "      <td>...</td>\n",
       "      <td>...</td>\n",
       "      <td>...</td>\n",
       "      <td>...</td>\n",
       "    </tr>\n",
       "    <tr>\n",
       "      <th>159566</th>\n",
       "      <td>ffe987279560d7ff</td>\n",
       "      <td>\":::::And for the second time of asking, when ...</td>\n",
       "      <td>0</td>\n",
       "      <td>0</td>\n",
       "      <td>0</td>\n",
       "      <td>0</td>\n",
       "      <td>0</td>\n",
       "      <td>0</td>\n",
       "    </tr>\n",
       "    <tr>\n",
       "      <th>159567</th>\n",
       "      <td>ffea4adeee384e90</td>\n",
       "      <td>You should be ashamed of yourself \\n\\nThat is ...</td>\n",
       "      <td>0</td>\n",
       "      <td>0</td>\n",
       "      <td>0</td>\n",
       "      <td>0</td>\n",
       "      <td>0</td>\n",
       "      <td>0</td>\n",
       "    </tr>\n",
       "    <tr>\n",
       "      <th>159568</th>\n",
       "      <td>ffee36eab5c267c9</td>\n",
       "      <td>Spitzer \\n\\nUmm, theres no actual article for ...</td>\n",
       "      <td>0</td>\n",
       "      <td>0</td>\n",
       "      <td>0</td>\n",
       "      <td>0</td>\n",
       "      <td>0</td>\n",
       "      <td>0</td>\n",
       "    </tr>\n",
       "    <tr>\n",
       "      <th>159569</th>\n",
       "      <td>fff125370e4aaaf3</td>\n",
       "      <td>And it looks like it was actually you who put ...</td>\n",
       "      <td>0</td>\n",
       "      <td>0</td>\n",
       "      <td>0</td>\n",
       "      <td>0</td>\n",
       "      <td>0</td>\n",
       "      <td>0</td>\n",
       "    </tr>\n",
       "    <tr>\n",
       "      <th>159570</th>\n",
       "      <td>fff46fc426af1f9a</td>\n",
       "      <td>\"\\nAnd ... I really don't think you understand...</td>\n",
       "      <td>0</td>\n",
       "      <td>0</td>\n",
       "      <td>0</td>\n",
       "      <td>0</td>\n",
       "      <td>0</td>\n",
       "      <td>0</td>\n",
       "    </tr>\n",
       "  </tbody>\n",
       "</table>\n",
       "<p>159571 rows × 8 columns</p>\n",
       "</div>"
      ],
      "text/plain": [
       "                      id                                       comment_text  \\\n",
       "0       0000997932d777bf  Explanation\\nWhy the edits made under my usern...   \n",
       "1       000103f0d9cfb60f  D'aww! He matches this background colour I'm s...   \n",
       "2       000113f07ec002fd  Hey man, I'm really not trying to edit war. It...   \n",
       "3       0001b41b1c6bb37e  \"\\nMore\\nI can't make any real suggestions on ...   \n",
       "4       0001d958c54c6e35  You, sir, are my hero. Any chance you remember...   \n",
       "...                  ...                                                ...   \n",
       "159566  ffe987279560d7ff  \":::::And for the second time of asking, when ...   \n",
       "159567  ffea4adeee384e90  You should be ashamed of yourself \\n\\nThat is ...   \n",
       "159568  ffee36eab5c267c9  Spitzer \\n\\nUmm, theres no actual article for ...   \n",
       "159569  fff125370e4aaaf3  And it looks like it was actually you who put ...   \n",
       "159570  fff46fc426af1f9a  \"\\nAnd ... I really don't think you understand...   \n",
       "\n",
       "        toxic  severe_toxic  obscene  threat  insult  identity_hate  \n",
       "0           0             0        0       0       0              0  \n",
       "1           0             0        0       0       0              0  \n",
       "2           0             0        0       0       0              0  \n",
       "3           0             0        0       0       0              0  \n",
       "4           0             0        0       0       0              0  \n",
       "...       ...           ...      ...     ...     ...            ...  \n",
       "159566      0             0        0       0       0              0  \n",
       "159567      0             0        0       0       0              0  \n",
       "159568      0             0        0       0       0              0  \n",
       "159569      0             0        0       0       0              0  \n",
       "159570      0             0        0       0       0              0  \n",
       "\n",
       "[159571 rows x 8 columns]"
      ]
     },
     "execution_count": 3,
     "metadata": {},
     "output_type": "execute_result"
    }
   ],
   "source": [
    "train"
   ]
  },
  {
   "cell_type": "code",
   "execution_count": 4,
   "id": "f965fe78",
   "metadata": {
    "execution": {
     "iopub.execute_input": "2022-05-25T07:01:12.424652Z",
     "iopub.status.busy": "2022-05-25T07:01:12.423965Z",
     "iopub.status.idle": "2022-05-25T07:01:12.434587Z",
     "shell.execute_reply": "2022-05-25T07:01:12.433831Z"
    },
    "id": "rQwDdPOsMFSk",
    "outputId": "642a2442-d931-48ca-9b6c-191f4d7b397e",
    "papermill": {
     "duration": 0.04237,
     "end_time": "2022-05-25T07:01:12.436768",
     "exception": false,
     "start_time": "2022-05-25T07:01:12.394398",
     "status": "completed"
    },
    "tags": []
   },
   "outputs": [
    {
     "data": {
      "text/html": [
       "<div>\n",
       "<style scoped>\n",
       "    .dataframe tbody tr th:only-of-type {\n",
       "        vertical-align: middle;\n",
       "    }\n",
       "\n",
       "    .dataframe tbody tr th {\n",
       "        vertical-align: top;\n",
       "    }\n",
       "\n",
       "    .dataframe thead th {\n",
       "        text-align: right;\n",
       "    }\n",
       "</style>\n",
       "<table border=\"1\" class=\"dataframe\">\n",
       "  <thead>\n",
       "    <tr style=\"text-align: right;\">\n",
       "      <th></th>\n",
       "      <th>id</th>\n",
       "      <th>comment_text</th>\n",
       "    </tr>\n",
       "  </thead>\n",
       "  <tbody>\n",
       "    <tr>\n",
       "      <th>0</th>\n",
       "      <td>00001cee341fdb12</td>\n",
       "      <td>Yo bitch Ja Rule is more succesful then you'll...</td>\n",
       "    </tr>\n",
       "    <tr>\n",
       "      <th>1</th>\n",
       "      <td>0000247867823ef7</td>\n",
       "      <td>== From RfC == \\n\\n The title is fine as it is...</td>\n",
       "    </tr>\n",
       "    <tr>\n",
       "      <th>2</th>\n",
       "      <td>00013b17ad220c46</td>\n",
       "      <td>\" \\n\\n == Sources == \\n\\n * Zawe Ashton on Lap...</td>\n",
       "    </tr>\n",
       "    <tr>\n",
       "      <th>3</th>\n",
       "      <td>00017563c3f7919a</td>\n",
       "      <td>:If you have a look back at the source, the in...</td>\n",
       "    </tr>\n",
       "    <tr>\n",
       "      <th>4</th>\n",
       "      <td>00017695ad8997eb</td>\n",
       "      <td>I don't anonymously edit articles at all.</td>\n",
       "    </tr>\n",
       "    <tr>\n",
       "      <th>...</th>\n",
       "      <td>...</td>\n",
       "      <td>...</td>\n",
       "    </tr>\n",
       "    <tr>\n",
       "      <th>153159</th>\n",
       "      <td>fffcd0960ee309b5</td>\n",
       "      <td>. \\n i totally agree, this stuff is nothing bu...</td>\n",
       "    </tr>\n",
       "    <tr>\n",
       "      <th>153160</th>\n",
       "      <td>fffd7a9a6eb32c16</td>\n",
       "      <td>== Throw from out field to home plate. == \\n\\n...</td>\n",
       "    </tr>\n",
       "    <tr>\n",
       "      <th>153161</th>\n",
       "      <td>fffda9e8d6fafa9e</td>\n",
       "      <td>\" \\n\\n == Okinotorishima categories == \\n\\n I ...</td>\n",
       "    </tr>\n",
       "    <tr>\n",
       "      <th>153162</th>\n",
       "      <td>fffe8f1340a79fc2</td>\n",
       "      <td>\" \\n\\n == \"\"One of the founding nations of the...</td>\n",
       "    </tr>\n",
       "    <tr>\n",
       "      <th>153163</th>\n",
       "      <td>ffffce3fb183ee80</td>\n",
       "      <td>\" \\n :::Stop already. Your bullshit is not wel...</td>\n",
       "    </tr>\n",
       "  </tbody>\n",
       "</table>\n",
       "<p>153164 rows × 2 columns</p>\n",
       "</div>"
      ],
      "text/plain": [
       "                      id                                       comment_text\n",
       "0       00001cee341fdb12  Yo bitch Ja Rule is more succesful then you'll...\n",
       "1       0000247867823ef7  == From RfC == \\n\\n The title is fine as it is...\n",
       "2       00013b17ad220c46  \" \\n\\n == Sources == \\n\\n * Zawe Ashton on Lap...\n",
       "3       00017563c3f7919a  :If you have a look back at the source, the in...\n",
       "4       00017695ad8997eb          I don't anonymously edit articles at all.\n",
       "...                  ...                                                ...\n",
       "153159  fffcd0960ee309b5  . \\n i totally agree, this stuff is nothing bu...\n",
       "153160  fffd7a9a6eb32c16  == Throw from out field to home plate. == \\n\\n...\n",
       "153161  fffda9e8d6fafa9e  \" \\n\\n == Okinotorishima categories == \\n\\n I ...\n",
       "153162  fffe8f1340a79fc2  \" \\n\\n == \"\"One of the founding nations of the...\n",
       "153163  ffffce3fb183ee80  \" \\n :::Stop already. Your bullshit is not wel...\n",
       "\n",
       "[153164 rows x 2 columns]"
      ]
     },
     "execution_count": 4,
     "metadata": {},
     "output_type": "execute_result"
    }
   ],
   "source": [
    "test"
   ]
  },
  {
   "cell_type": "code",
   "execution_count": 5,
   "id": "55962c57",
   "metadata": {
    "execution": {
     "iopub.execute_input": "2022-05-25T07:01:12.494508Z",
     "iopub.status.busy": "2022-05-25T07:01:12.494307Z",
     "iopub.status.idle": "2022-05-25T07:01:12.502633Z",
     "shell.execute_reply": "2022-05-25T07:01:12.501884Z"
    },
    "id": "kcBr_SjdMFq0",
    "outputId": "908153d2-5124-43fd-d6d3-942c80af982f",
    "papermill": {
     "duration": 0.039918,
     "end_time": "2022-05-25T07:01:12.504983",
     "exception": false,
     "start_time": "2022-05-25T07:01:12.465065",
     "status": "completed"
    },
    "tags": []
   },
   "outputs": [
    {
     "data": {
      "text/plain": [
       "'COCKSUCKER BEFORE YOU PISS AROUND ON MY WORK'"
      ]
     },
     "execution_count": 5,
     "metadata": {},
     "output_type": "execute_result"
    }
   ],
   "source": [
    "train['comment_text'].iloc[6]  # some really toxic comment "
   ]
  },
  {
   "cell_type": "code",
   "execution_count": 6,
   "id": "d3bceb93",
   "metadata": {
    "execution": {
     "iopub.execute_input": "2022-05-25T07:01:12.563466Z",
     "iopub.status.busy": "2022-05-25T07:01:12.563233Z",
     "iopub.status.idle": "2022-05-25T07:01:12.569761Z",
     "shell.execute_reply": "2022-05-25T07:01:12.569003Z"
    },
    "id": "9b6oXAf0Mlkk",
    "outputId": "701c615d-4838-4fe5-e446-1e569d499814",
    "papermill": {
     "duration": 0.038901,
     "end_time": "2022-05-25T07:01:12.572433",
     "exception": false,
     "start_time": "2022-05-25T07:01:12.533532",
     "status": "completed"
    },
    "tags": []
   },
   "outputs": [
    {
     "data": {
      "text/plain": [
       "toxic            1\n",
       "severe_toxic     1\n",
       "obscene          1\n",
       "threat           0\n",
       "insult           1\n",
       "identity_hate    0\n",
       "Name: 6, dtype: object"
      ]
     },
     "execution_count": 6,
     "metadata": {},
     "output_type": "execute_result"
    }
   ],
   "source": [
    "train.iloc[6,2:]"
   ]
  },
  {
   "cell_type": "code",
   "execution_count": 7,
   "id": "24ad7788",
   "metadata": {
    "execution": {
     "iopub.execute_input": "2022-05-25T07:01:12.631833Z",
     "iopub.status.busy": "2022-05-25T07:01:12.631612Z",
     "iopub.status.idle": "2022-05-25T07:01:12.701787Z",
     "shell.execute_reply": "2022-05-25T07:01:12.701001Z"
    },
    "id": "LC78wmqXM0ju",
    "outputId": "c320bf08-806e-45f9-d0ce-02851d14e258",
    "papermill": {
     "duration": 0.10162,
     "end_time": "2022-05-25T07:01:12.703496",
     "exception": false,
     "start_time": "2022-05-25T07:01:12.601876",
     "status": "completed"
    },
    "tags": []
   },
   "outputs": [
    {
     "data": {
      "text/plain": [
       "(4521, 110)"
      ]
     },
     "execution_count": 7,
     "metadata": {},
     "output_type": "execute_result"
    }
   ],
   "source": [
    "len(train['comment_text'].max()), len(test['comment_text'].max())"
   ]
  },
  {
   "cell_type": "code",
   "execution_count": 8,
   "id": "3172776b",
   "metadata": {
    "execution": {
     "iopub.execute_input": "2022-05-25T07:01:12.763976Z",
     "iopub.status.busy": "2022-05-25T07:01:12.763446Z",
     "iopub.status.idle": "2022-05-25T07:01:12.808295Z",
     "shell.execute_reply": "2022-05-25T07:01:12.807584Z"
    },
    "papermill": {
     "duration": 0.077244,
     "end_time": "2022-05-25T07:01:12.809969",
     "exception": false,
     "start_time": "2022-05-25T07:01:12.732725",
     "status": "completed"
    },
    "tags": []
   },
   "outputs": [
    {
     "data": {
      "text/plain": [
       "id               0\n",
       "comment_text     0\n",
       "toxic            0\n",
       "severe_toxic     0\n",
       "obscene          0\n",
       "threat           0\n",
       "insult           0\n",
       "identity_hate    0\n",
       "dtype: int64"
      ]
     },
     "execution_count": 8,
     "metadata": {},
     "output_type": "execute_result"
    }
   ],
   "source": [
    "train.isna().sum()"
   ]
  },
  {
   "cell_type": "markdown",
   "id": "3d33b03a",
   "metadata": {
    "id": "R7b87z4WNRhV",
    "papermill": {
     "duration": 0.029927,
     "end_time": "2022-05-25T07:01:12.869679",
     "exception": false,
     "start_time": "2022-05-25T07:01:12.839752",
     "status": "completed"
    },
    "tags": []
   },
   "source": [
    "# Preprocessing"
   ]
  },
  {
   "cell_type": "code",
   "execution_count": 9,
   "id": "a65614f5",
   "metadata": {
    "execution": {
     "iopub.execute_input": "2022-05-25T07:01:12.930201Z",
     "iopub.status.busy": "2022-05-25T07:01:12.929949Z",
     "iopub.status.idle": "2022-05-25T07:01:13.798220Z",
     "shell.execute_reply": "2022-05-25T07:01:13.797459Z"
    },
    "id": "BSM1pwK7NTzf",
    "papermill": {
     "duration": 0.90108,
     "end_time": "2022-05-25T07:01:13.800387",
     "exception": false,
     "start_time": "2022-05-25T07:01:12.899307",
     "status": "completed"
    },
    "tags": []
   },
   "outputs": [],
   "source": [
    "from tensorflow.keras.layers import TextVectorization"
   ]
  },
  {
   "cell_type": "code",
   "execution_count": 10,
   "id": "dde011ba",
   "metadata": {
    "execution": {
     "iopub.execute_input": "2022-05-25T07:01:13.862115Z",
     "iopub.status.busy": "2022-05-25T07:01:13.861883Z",
     "iopub.status.idle": "2022-05-25T07:01:13.871410Z",
     "shell.execute_reply": "2022-05-25T07:01:13.870754Z"
    },
    "id": "JZNVAvf-Nh2U",
    "papermill": {
     "duration": 0.042244,
     "end_time": "2022-05-25T07:01:13.873127",
     "exception": false,
     "start_time": "2022-05-25T07:01:13.830883",
     "status": "completed"
    },
    "tags": []
   },
   "outputs": [],
   "source": [
    "X = train['comment_text']\n",
    "y = train.iloc[:,2:]"
   ]
  },
  {
   "cell_type": "code",
   "execution_count": 11,
   "id": "097bb8fb",
   "metadata": {
    "execution": {
     "iopub.execute_input": "2022-05-25T07:01:13.933624Z",
     "iopub.status.busy": "2022-05-25T07:01:13.933377Z",
     "iopub.status.idle": "2022-05-25T07:01:13.940033Z",
     "shell.execute_reply": "2022-05-25T07:01:13.939268Z"
    },
    "id": "8pk-LnFoN-u0",
    "outputId": "deaca2d4-12cb-48ec-cc13-8c81c5ffe69e",
    "papermill": {
     "duration": 0.039726,
     "end_time": "2022-05-25T07:01:13.942652",
     "exception": false,
     "start_time": "2022-05-25T07:01:13.902926",
     "status": "completed"
    },
    "tags": []
   },
   "outputs": [
    {
     "data": {
      "text/plain": [
       "0         Explanation\\nWhy the edits made under my usern...\n",
       "1         D'aww! He matches this background colour I'm s...\n",
       "2         Hey man, I'm really not trying to edit war. It...\n",
       "3         \"\\nMore\\nI can't make any real suggestions on ...\n",
       "4         You, sir, are my hero. Any chance you remember...\n",
       "                                ...                        \n",
       "159566    \":::::And for the second time of asking, when ...\n",
       "159567    You should be ashamed of yourself \\n\\nThat is ...\n",
       "159568    Spitzer \\n\\nUmm, theres no actual article for ...\n",
       "159569    And it looks like it was actually you who put ...\n",
       "159570    \"\\nAnd ... I really don't think you understand...\n",
       "Name: comment_text, Length: 159571, dtype: object"
      ]
     },
     "execution_count": 11,
     "metadata": {},
     "output_type": "execute_result"
    }
   ],
   "source": [
    "X"
   ]
  },
  {
   "cell_type": "code",
   "execution_count": 12,
   "id": "78232d4a",
   "metadata": {
    "execution": {
     "iopub.execute_input": "2022-05-25T07:01:14.003546Z",
     "iopub.status.busy": "2022-05-25T07:01:14.003309Z",
     "iopub.status.idle": "2022-05-25T07:01:14.018282Z",
     "shell.execute_reply": "2022-05-25T07:01:14.017655Z"
    },
    "id": "8xGfS4WHOCcE",
    "outputId": "c5d27a3b-760a-4b79-ad2b-6ace6e98bff9",
    "papermill": {
     "duration": 0.048627,
     "end_time": "2022-05-25T07:01:14.021026",
     "exception": false,
     "start_time": "2022-05-25T07:01:13.972399",
     "status": "completed"
    },
    "tags": []
   },
   "outputs": [
    {
     "data": {
      "text/html": [
       "<div>\n",
       "<style scoped>\n",
       "    .dataframe tbody tr th:only-of-type {\n",
       "        vertical-align: middle;\n",
       "    }\n",
       "\n",
       "    .dataframe tbody tr th {\n",
       "        vertical-align: top;\n",
       "    }\n",
       "\n",
       "    .dataframe thead th {\n",
       "        text-align: right;\n",
       "    }\n",
       "</style>\n",
       "<table border=\"1\" class=\"dataframe\">\n",
       "  <thead>\n",
       "    <tr style=\"text-align: right;\">\n",
       "      <th></th>\n",
       "      <th>toxic</th>\n",
       "      <th>severe_toxic</th>\n",
       "      <th>obscene</th>\n",
       "      <th>threat</th>\n",
       "      <th>insult</th>\n",
       "      <th>identity_hate</th>\n",
       "    </tr>\n",
       "  </thead>\n",
       "  <tbody>\n",
       "    <tr>\n",
       "      <th>0</th>\n",
       "      <td>0</td>\n",
       "      <td>0</td>\n",
       "      <td>0</td>\n",
       "      <td>0</td>\n",
       "      <td>0</td>\n",
       "      <td>0</td>\n",
       "    </tr>\n",
       "    <tr>\n",
       "      <th>1</th>\n",
       "      <td>0</td>\n",
       "      <td>0</td>\n",
       "      <td>0</td>\n",
       "      <td>0</td>\n",
       "      <td>0</td>\n",
       "      <td>0</td>\n",
       "    </tr>\n",
       "    <tr>\n",
       "      <th>2</th>\n",
       "      <td>0</td>\n",
       "      <td>0</td>\n",
       "      <td>0</td>\n",
       "      <td>0</td>\n",
       "      <td>0</td>\n",
       "      <td>0</td>\n",
       "    </tr>\n",
       "    <tr>\n",
       "      <th>3</th>\n",
       "      <td>0</td>\n",
       "      <td>0</td>\n",
       "      <td>0</td>\n",
       "      <td>0</td>\n",
       "      <td>0</td>\n",
       "      <td>0</td>\n",
       "    </tr>\n",
       "    <tr>\n",
       "      <th>4</th>\n",
       "      <td>0</td>\n",
       "      <td>0</td>\n",
       "      <td>0</td>\n",
       "      <td>0</td>\n",
       "      <td>0</td>\n",
       "      <td>0</td>\n",
       "    </tr>\n",
       "    <tr>\n",
       "      <th>...</th>\n",
       "      <td>...</td>\n",
       "      <td>...</td>\n",
       "      <td>...</td>\n",
       "      <td>...</td>\n",
       "      <td>...</td>\n",
       "      <td>...</td>\n",
       "    </tr>\n",
       "    <tr>\n",
       "      <th>159566</th>\n",
       "      <td>0</td>\n",
       "      <td>0</td>\n",
       "      <td>0</td>\n",
       "      <td>0</td>\n",
       "      <td>0</td>\n",
       "      <td>0</td>\n",
       "    </tr>\n",
       "    <tr>\n",
       "      <th>159567</th>\n",
       "      <td>0</td>\n",
       "      <td>0</td>\n",
       "      <td>0</td>\n",
       "      <td>0</td>\n",
       "      <td>0</td>\n",
       "      <td>0</td>\n",
       "    </tr>\n",
       "    <tr>\n",
       "      <th>159568</th>\n",
       "      <td>0</td>\n",
       "      <td>0</td>\n",
       "      <td>0</td>\n",
       "      <td>0</td>\n",
       "      <td>0</td>\n",
       "      <td>0</td>\n",
       "    </tr>\n",
       "    <tr>\n",
       "      <th>159569</th>\n",
       "      <td>0</td>\n",
       "      <td>0</td>\n",
       "      <td>0</td>\n",
       "      <td>0</td>\n",
       "      <td>0</td>\n",
       "      <td>0</td>\n",
       "    </tr>\n",
       "    <tr>\n",
       "      <th>159570</th>\n",
       "      <td>0</td>\n",
       "      <td>0</td>\n",
       "      <td>0</td>\n",
       "      <td>0</td>\n",
       "      <td>0</td>\n",
       "      <td>0</td>\n",
       "    </tr>\n",
       "  </tbody>\n",
       "</table>\n",
       "<p>159571 rows × 6 columns</p>\n",
       "</div>"
      ],
      "text/plain": [
       "        toxic  severe_toxic  obscene  threat  insult  identity_hate\n",
       "0           0             0        0       0       0              0\n",
       "1           0             0        0       0       0              0\n",
       "2           0             0        0       0       0              0\n",
       "3           0             0        0       0       0              0\n",
       "4           0             0        0       0       0              0\n",
       "...       ...           ...      ...     ...     ...            ...\n",
       "159566      0             0        0       0       0              0\n",
       "159567      0             0        0       0       0              0\n",
       "159568      0             0        0       0       0              0\n",
       "159569      0             0        0       0       0              0\n",
       "159570      0             0        0       0       0              0\n",
       "\n",
       "[159571 rows x 6 columns]"
      ]
     },
     "execution_count": 12,
     "metadata": {},
     "output_type": "execute_result"
    }
   ],
   "source": [
    "y"
   ]
  },
  {
   "cell_type": "code",
   "execution_count": 13,
   "id": "08346aea",
   "metadata": {
    "execution": {
     "iopub.execute_input": "2022-05-25T07:01:14.096293Z",
     "iopub.status.busy": "2022-05-25T07:01:14.096063Z",
     "iopub.status.idle": "2022-05-25T07:01:14.099769Z",
     "shell.execute_reply": "2022-05-25T07:01:14.098972Z"
    },
    "id": "LyllmIfxODzk",
    "papermill": {
     "duration": 0.041515,
     "end_time": "2022-05-25T07:01:14.101574",
     "exception": false,
     "start_time": "2022-05-25T07:01:14.060059",
     "status": "completed"
    },
    "tags": []
   },
   "outputs": [],
   "source": [
    "MAX_FEATURES  = 200_000   # this is the size of the vocab"
   ]
  },
  {
   "cell_type": "code",
   "execution_count": 14,
   "id": "8ad62bf7",
   "metadata": {
    "execution": {
     "iopub.execute_input": "2022-05-25T07:01:14.164008Z",
     "iopub.status.busy": "2022-05-25T07:01:14.163772Z",
     "iopub.status.idle": "2022-05-25T07:01:16.885249Z",
     "shell.execute_reply": "2022-05-25T07:01:16.884541Z"
    },
    "id": "lho1VOcvOwA0",
    "outputId": "0966d252-440f-4977-f608-fb62bd498ba6",
    "papermill": {
     "duration": 2.754447,
     "end_time": "2022-05-25T07:01:16.886924",
     "exception": false,
     "start_time": "2022-05-25T07:01:14.132477",
     "status": "completed"
    },
    "tags": []
   },
   "outputs": [
    {
     "name": "stderr",
     "output_type": "stream",
     "text": [
      "2022-05-25 07:01:14.246443: I tensorflow/stream_executor/cuda/cuda_gpu_executor.cc:937] successful NUMA node read from SysFS had negative value (-1), but there must be at least one NUMA node, so returning NUMA node zero\n",
      "2022-05-25 07:01:14.366061: I tensorflow/stream_executor/cuda/cuda_gpu_executor.cc:937] successful NUMA node read from SysFS had negative value (-1), but there must be at least one NUMA node, so returning NUMA node zero\n",
      "2022-05-25 07:01:14.366909: I tensorflow/stream_executor/cuda/cuda_gpu_executor.cc:937] successful NUMA node read from SysFS had negative value (-1), but there must be at least one NUMA node, so returning NUMA node zero\n",
      "2022-05-25 07:01:14.368054: I tensorflow/core/platform/cpu_feature_guard.cc:142] This TensorFlow binary is optimized with oneAPI Deep Neural Network Library (oneDNN) to use the following CPU instructions in performance-critical operations:  AVX2 AVX512F FMA\n",
      "To enable them in other operations, rebuild TensorFlow with the appropriate compiler flags.\n",
      "2022-05-25 07:01:14.376740: I tensorflow/stream_executor/cuda/cuda_gpu_executor.cc:937] successful NUMA node read from SysFS had negative value (-1), but there must be at least one NUMA node, so returning NUMA node zero\n",
      "2022-05-25 07:01:14.377470: I tensorflow/stream_executor/cuda/cuda_gpu_executor.cc:937] successful NUMA node read from SysFS had negative value (-1), but there must be at least one NUMA node, so returning NUMA node zero\n",
      "2022-05-25 07:01:14.378212: I tensorflow/stream_executor/cuda/cuda_gpu_executor.cc:937] successful NUMA node read from SysFS had negative value (-1), but there must be at least one NUMA node, so returning NUMA node zero\n",
      "2022-05-25 07:01:16.564039: I tensorflow/stream_executor/cuda/cuda_gpu_executor.cc:937] successful NUMA node read from SysFS had negative value (-1), but there must be at least one NUMA node, so returning NUMA node zero\n",
      "2022-05-25 07:01:16.564901: I tensorflow/stream_executor/cuda/cuda_gpu_executor.cc:937] successful NUMA node read from SysFS had negative value (-1), but there must be at least one NUMA node, so returning NUMA node zero\n",
      "2022-05-25 07:01:16.565539: I tensorflow/stream_executor/cuda/cuda_gpu_executor.cc:937] successful NUMA node read from SysFS had negative value (-1), but there must be at least one NUMA node, so returning NUMA node zero\n",
      "2022-05-25 07:01:16.566831: I tensorflow/core/common_runtime/gpu/gpu_device.cc:1510] Created device /job:localhost/replica:0/task:0/device:GPU:0 with 15403 MB memory:  -> device: 0, name: Tesla P100-PCIE-16GB, pci bus id: 0000:00:04.0, compute capability: 6.0\n"
     ]
    },
    {
     "data": {
      "text/plain": [
       "<keras.layers.preprocessing.text_vectorization.TextVectorization at 0x7f5e05ed3b50>"
      ]
     },
     "execution_count": 14,
     "metadata": {},
     "output_type": "execute_result"
    }
   ],
   "source": [
    "vectorizer = TextVectorization(max_tokens=MAX_FEATURES, output_sequence_length=2000)\n",
    "vectorizer"
   ]
  },
  {
   "cell_type": "code",
   "execution_count": 15,
   "id": "3bc17a51",
   "metadata": {
    "execution": {
     "iopub.execute_input": "2022-05-25T07:01:16.952181Z",
     "iopub.status.busy": "2022-05-25T07:01:16.951490Z",
     "iopub.status.idle": "2022-05-25T07:01:28.280140Z",
     "shell.execute_reply": "2022-05-25T07:01:28.279433Z"
    },
    "id": "FLSG0De-QN8c",
    "outputId": "0f258519-600f-4ee7-f6b8-4d4b6d9dd524",
    "papermill": {
     "duration": 11.363657,
     "end_time": "2022-05-25T07:01:28.282564",
     "exception": false,
     "start_time": "2022-05-25T07:01:16.918907",
     "status": "completed"
    },
    "tags": []
   },
   "outputs": [
    {
     "name": "stderr",
     "output_type": "stream",
     "text": [
      "2022-05-25 07:01:17.154097: I tensorflow/compiler/mlir/mlir_graph_optimization_pass.cc:185] None of the MLIR Optimization Passes are enabled (registered 2)\n"
     ]
    },
    {
     "name": "stdout",
     "output_type": "stream",
     "text": [
      "CPU times: user 19.2 s, sys: 895 ms, total: 20.1 s\n",
      "Wall time: 11.3 s\n"
     ]
    }
   ],
   "source": [
    "%%time\n",
    "vectorizer.adapt(X.values)"
   ]
  },
  {
   "cell_type": "code",
   "execution_count": 16,
   "id": "8e888cc2",
   "metadata": {
    "execution": {
     "iopub.execute_input": "2022-05-25T07:01:28.390707Z",
     "iopub.status.busy": "2022-05-25T07:01:28.390393Z",
     "iopub.status.idle": "2022-05-25T07:01:33.601340Z",
     "shell.execute_reply": "2022-05-25T07:01:33.600550Z"
    },
    "id": "hSwXn4h1QXm0",
    "outputId": "f2cb2ed5-92e9-4b0c-c6a6-6abfdfdb62fc",
    "papermill": {
     "duration": 5.267579,
     "end_time": "2022-05-25T07:01:33.603546",
     "exception": false,
     "start_time": "2022-05-25T07:01:28.335967",
     "status": "completed"
    },
    "tags": []
   },
   "outputs": [
    {
     "data": {
      "text/plain": [
       "200000"
      ]
     },
     "execution_count": 16,
     "metadata": {},
     "output_type": "execute_result"
    }
   ],
   "source": [
    "len(vectorizer.get_vocabulary())"
   ]
  },
  {
   "cell_type": "code",
   "execution_count": 17,
   "id": "13843bce",
   "metadata": {
    "execution": {
     "iopub.execute_input": "2022-05-25T07:01:33.674962Z",
     "iopub.status.busy": "2022-05-25T07:01:33.674723Z",
     "iopub.status.idle": "2022-05-25T07:01:38.045447Z",
     "shell.execute_reply": "2022-05-25T07:01:38.044717Z"
    },
    "id": "FaU73Al5QktM",
    "outputId": "1117fa7c-0f62-4da2-c11a-eb410b008edc",
    "papermill": {
     "duration": 4.410202,
     "end_time": "2022-05-25T07:01:38.047464",
     "exception": false,
     "start_time": "2022-05-25T07:01:33.637262",
     "status": "completed"
    },
    "tags": []
   },
   "outputs": [
    {
     "name": "stderr",
     "output_type": "stream",
     "text": [
      "2022-05-25 07:01:36.464719: W tensorflow/core/framework/cpu_allocator_impl.cc:80] Allocation of 2553136000 exceeds 10% of free system memory.\n"
     ]
    },
    {
     "data": {
      "text/plain": [
       "<tf.Tensor: shape=(159571, 2000), dtype=int64, numpy=\n",
       "array([[  645,    76,     2, ...,     0,     0,     0],\n",
       "       [    1,    54,  2489, ...,     0,     0,     0],\n",
       "       [  425,   441,    70, ...,     0,     0,     0],\n",
       "       ...,\n",
       "       [32445,  7392,   383, ...,     0,     0,     0],\n",
       "       [    5,    12,   534, ...,     0,     0,     0],\n",
       "       [    5,     8,   130, ...,     0,     0,     0]])>"
      ]
     },
     "execution_count": 17,
     "metadata": {},
     "output_type": "execute_result"
    }
   ],
   "source": [
    "vectorized_text = vectorizer(X.values)\n",
    "vectorized_text   "
   ]
  },
  {
   "cell_type": "code",
   "execution_count": 18,
   "id": "b8729539",
   "metadata": {
    "execution": {
     "iopub.execute_input": "2022-05-25T07:01:38.119537Z",
     "iopub.status.busy": "2022-05-25T07:01:38.119259Z",
     "iopub.status.idle": "2022-05-25T07:01:38.123987Z",
     "shell.execute_reply": "2022-05-25T07:01:38.123335Z"
    },
    "id": "OLgJc3yZQvM8",
    "outputId": "9c20e3f7-80a0-48ea-ce7c-dfe7b402985b",
    "papermill": {
     "duration": 0.041436,
     "end_time": "2022-05-25T07:01:38.125911",
     "exception": false,
     "start_time": "2022-05-25T07:01:38.084475",
     "status": "completed"
    },
    "tags": []
   },
   "outputs": [
    {
     "data": {
      "text/plain": [
       "TensorShape([159571, 2000])"
      ]
     },
     "execution_count": 18,
     "metadata": {},
     "output_type": "execute_result"
    }
   ],
   "source": [
    "vectorized_text.shape  "
   ]
  },
  {
   "cell_type": "code",
   "execution_count": 19,
   "id": "919e6331",
   "metadata": {
    "execution": {
     "iopub.execute_input": "2022-05-25T07:01:38.195014Z",
     "iopub.status.busy": "2022-05-25T07:01:38.194344Z",
     "iopub.status.idle": "2022-05-25T07:01:38.212957Z",
     "shell.execute_reply": "2022-05-25T07:01:38.212290Z"
    },
    "id": "WZ1aQqPvRH-D",
    "papermill": {
     "duration": 0.054923,
     "end_time": "2022-05-25T07:01:38.214658",
     "exception": false,
     "start_time": "2022-05-25T07:01:38.159735",
     "status": "completed"
    },
    "tags": []
   },
   "outputs": [],
   "source": [
    "dataset = tf.data.Dataset.from_tensor_slices((vectorized_text,y))\n",
    "dataset = dataset.shuffle(13000)\n",
    "dataset = dataset.batch(16)\n",
    "dataset = dataset.prefetch(8)"
   ]
  },
  {
   "cell_type": "code",
   "execution_count": 20,
   "id": "ecf5da53",
   "metadata": {
    "execution": {
     "iopub.execute_input": "2022-05-25T07:01:38.284351Z",
     "iopub.status.busy": "2022-05-25T07:01:38.283678Z",
     "iopub.status.idle": "2022-05-25T07:01:38.292462Z",
     "shell.execute_reply": "2022-05-25T07:01:38.291672Z"
    },
    "id": "sPfHI1NPRH6P",
    "papermill": {
     "duration": 0.04536,
     "end_time": "2022-05-25T07:01:38.294227",
     "exception": false,
     "start_time": "2022-05-25T07:01:38.248867",
     "status": "completed"
    },
    "tags": []
   },
   "outputs": [],
   "source": [
    "train_df = dataset.take(int(len(dataset)*.7))\n",
    "val_df = dataset.skip(int(len(dataset)*.7)).take(int(len(dataset)*.2))\n",
    "test_df = dataset.skip(int(len(dataset)*.9)).take(int(len(dataset)*.1))"
   ]
  },
  {
   "cell_type": "code",
   "execution_count": 21,
   "id": "3685f04a",
   "metadata": {
    "execution": {
     "iopub.execute_input": "2022-05-25T07:01:38.363599Z",
     "iopub.status.busy": "2022-05-25T07:01:38.363190Z",
     "iopub.status.idle": "2022-05-25T07:01:38.368876Z",
     "shell.execute_reply": "2022-05-25T07:01:38.368271Z"
    },
    "id": "GPVXqAeAfD-Q",
    "papermill": {
     "duration": 0.04251,
     "end_time": "2022-05-25T07:01:38.370548",
     "exception": false,
     "start_time": "2022-05-25T07:01:38.328038",
     "status": "completed"
    },
    "tags": []
   },
   "outputs": [],
   "source": [
    "train_df = train_df.cache()\n",
    "val_df = val_df.cache()\n",
    "test_df = test_df.cache()"
   ]
  },
  {
   "cell_type": "markdown",
   "id": "6cb1df61",
   "metadata": {
    "id": "t2oifX3GZKR1",
    "papermill": {
     "duration": 0.034033,
     "end_time": "2022-05-25T07:01:38.437982",
     "exception": false,
     "start_time": "2022-05-25T07:01:38.403949",
     "status": "completed"
    },
    "tags": []
   },
   "source": [
    "# Model Building and Training"
   ]
  },
  {
   "cell_type": "code",
   "execution_count": 22,
   "id": "b92d3250",
   "metadata": {
    "execution": {
     "iopub.execute_input": "2022-05-25T07:01:38.506550Z",
     "iopub.status.busy": "2022-05-25T07:01:38.506307Z",
     "iopub.status.idle": "2022-05-25T07:01:38.510878Z",
     "shell.execute_reply": "2022-05-25T07:01:38.510188Z"
    },
    "id": "GOMXCqG9XzHi",
    "papermill": {
     "duration": 0.040786,
     "end_time": "2022-05-25T07:01:38.512521",
     "exception": false,
     "start_time": "2022-05-25T07:01:38.471735",
     "status": "completed"
    },
    "tags": []
   },
   "outputs": [],
   "source": [
    "from tensorflow.keras.models import Model\n",
    "from tensorflow.keras.layers import LSTM, Bidirectional, Dense, Embedding, Input"
   ]
  },
  {
   "cell_type": "code",
   "execution_count": 23,
   "id": "2d4b4902",
   "metadata": {
    "execution": {
     "iopub.execute_input": "2022-05-25T07:01:38.580934Z",
     "iopub.status.busy": "2022-05-25T07:01:38.580727Z",
     "iopub.status.idle": "2022-05-25T07:01:39.044740Z",
     "shell.execute_reply": "2022-05-25T07:01:39.043372Z"
    },
    "id": "ANQc7gbfXzFH",
    "outputId": "2d0f2a2e-49c2-44bb-8e73-513580a90e8f",
    "papermill": {
     "duration": 0.502247,
     "end_time": "2022-05-25T07:01:39.048584",
     "exception": false,
     "start_time": "2022-05-25T07:01:38.546337",
     "status": "completed"
    },
    "tags": []
   },
   "outputs": [
    {
     "name": "stdout",
     "output_type": "stream",
     "text": [
      "Model: \"model\"\n",
      "_________________________________________________________________\n",
      "Layer (type)                 Output Shape              Param #   \n",
      "=================================================================\n",
      "input_1 (InputLayer)         [(None, None)]            0         \n",
      "_________________________________________________________________\n",
      "embedding (Embedding)        (None, None, 32)          6400032   \n",
      "_________________________________________________________________\n",
      "bidirectional (Bidirectional (None, 128)               49664     \n",
      "_________________________________________________________________\n",
      "dense (Dense)                (None, 128)               16512     \n",
      "_________________________________________________________________\n",
      "dense_1 (Dense)              (None, 256)               33024     \n",
      "_________________________________________________________________\n",
      "dense_2 (Dense)              (None, 128)               32896     \n",
      "_________________________________________________________________\n",
      "dense_3 (Dense)              (None, 6)                 774       \n",
      "=================================================================\n",
      "Total params: 6,532,902\n",
      "Trainable params: 6,532,902\n",
      "Non-trainable params: 0\n",
      "_________________________________________________________________\n"
     ]
    }
   ],
   "source": [
    "inputs = Input(shape = (None,))\n",
    "# learns embbeddings in 32 dim space for each word or \n",
    "# you can provide the model already learned embeddings like word2vec or glove embeddings\n",
    "x = Embedding(MAX_FEATURES+1, 32)(inputs)\n",
    "# bidirectional layer wrapping lstm layer.\n",
    "x = Bidirectional(LSTM(64, activation='tanh'))(x)\n",
    "# Dense layer\n",
    "x = Dense(128, activation='relu')(x)\n",
    "x = Dense(256, activation='relu')(x)\n",
    "x = Dense(128, activation='relu')(x)\n",
    "outputs = Dense(6, activation='sigmoid')(x)\n",
    "\n",
    "# this type of keras model is called functional model\n",
    "model = Model(inputs,outputs)\n",
    "model.summary()"
   ]
  },
  {
   "cell_type": "code",
   "execution_count": 24,
   "id": "902ba541",
   "metadata": {
    "execution": {
     "iopub.execute_input": "2022-05-25T07:01:39.175214Z",
     "iopub.status.busy": "2022-05-25T07:01:39.174620Z",
     "iopub.status.idle": "2022-05-25T07:01:40.654336Z",
     "shell.execute_reply": "2022-05-25T07:01:40.653575Z"
    },
    "id": "UIOOMoYAXzA1",
    "outputId": "476f8cf7-4f6a-416c-a0f3-3f43eb9bfd5d",
    "papermill": {
     "duration": 1.543243,
     "end_time": "2022-05-25T07:01:40.656340",
     "exception": false,
     "start_time": "2022-05-25T07:01:39.113097",
     "status": "completed"
    },
    "tags": []
   },
   "outputs": [
    {
     "data": {
      "image/png": "[encoded data removed]",
      "text/plain": [
       "<IPython.core.display.Image object>"
      ]
     },
     "execution_count": 24,
     "metadata": {},
     "output_type": "execute_result"
    }
   ],
   "source": [
    "# visual reprsentation of the model...\n",
    "from tensorflow.keras.utils import plot_model\n",
    "plot_model(model)"
   ]
  },
  {
   "cell_type": "code",
   "execution_count": 25,
   "id": "4ac2ce07",
   "metadata": {
    "execution": {
     "iopub.execute_input": "2022-05-25T07:01:40.728132Z",
     "iopub.status.busy": "2022-05-25T07:01:40.727885Z",
     "iopub.status.idle": "2022-05-25T07:01:40.743723Z",
     "shell.execute_reply": "2022-05-25T07:01:40.743065Z"
    },
    "id": "3uo4oU1Kcbo9",
    "papermill": {
     "duration": 0.053578,
     "end_time": "2022-05-25T07:01:40.745450",
     "exception": false,
     "start_time": "2022-05-25T07:01:40.691872",
     "status": "completed"
    },
    "tags": []
   },
   "outputs": [],
   "source": [
    "model.compile(loss=tf.keras.losses.BinaryCrossentropy(), optimizer=tf.keras.optimizers.Adam())"
   ]
  },
  {
   "cell_type": "code",
   "execution_count": 26,
   "id": "4f2ce1c9",
   "metadata": {
    "execution": {
     "iopub.execute_input": "2022-05-25T07:01:40.818337Z",
     "iopub.status.busy": "2022-05-25T07:01:40.818029Z",
     "iopub.status.idle": "2022-05-25T08:25:51.570929Z",
     "shell.execute_reply": "2022-05-25T08:25:51.570147Z"
    },
    "id": "ddfU7seZcblx",
    "outputId": "0dab0bb4-e50a-4e9e-ee13-ad37f684c6ef",
    "papermill": {
     "duration": 5062.428598,
     "end_time": "2022-05-25T08:26:03.210044",
     "exception": false,
     "start_time": "2022-05-25T07:01:40.781446",
     "status": "completed"
    },
    "tags": []
   },
   "outputs": [
    {
     "name": "stderr",
     "output_type": "stream",
     "text": [
      "2022-05-25 07:01:40.828678: W tensorflow/core/framework/cpu_allocator_impl.cc:80] Allocation of 2553136000 exceeds 10% of free system memory.\n",
      "2022-05-25 07:01:42.604926: W tensorflow/core/framework/cpu_allocator_impl.cc:80] Allocation of 2553136000 exceeds 10% of free system memory.\n"
     ]
    },
    {
     "name": "stdout",
     "output_type": "stream",
     "text": [
      "Epoch 1/5\n"
     ]
    },
    {
     "name": "stderr",
     "output_type": "stream",
     "text": [
      "2022-05-25 07:01:48.242660: I tensorflow/stream_executor/cuda/cuda_dnn.cc:369] Loaded cuDNN version 8005\n"
     ]
    },
    {
     "name": "stdout",
     "output_type": "stream",
     "text": [
      "6981/6981 [==============================] - ETA: 0s - loss: 0.0627"
     ]
    },
    {
     "name": "stderr",
     "output_type": "stream",
     "text": [
      "2022-05-25 07:16:32.931018: W tensorflow/core/framework/cpu_allocator_impl.cc:80] Allocation of 2553136000 exceeds 10% of free system memory.\n",
      "2022-05-25 07:16:34.728273: W tensorflow/core/framework/cpu_allocator_impl.cc:80] Allocation of 2553136000 exceeds 10% of free system memory.\n"
     ]
    },
    {
     "name": "stdout",
     "output_type": "stream",
     "text": [
      "6981/6981 [==============================] - 997s 142ms/step - loss: 0.0627 - val_loss: 0.0496\n",
      "Epoch 2/5\n",
      "6981/6981 [==============================] - 987s 141ms/step - loss: 0.0444 - val_loss: 0.0473\n",
      "Epoch 3/5\n",
      "6981/6981 [==============================] - 986s 141ms/step - loss: 0.0380 - val_loss: 0.0492\n",
      "Epoch 4/5\n",
      "6981/6981 [==============================] - 984s 141ms/step - loss: 0.0331 - val_loss: 0.0534\n",
      "Epoch 5/5\n",
      "6981/6981 [==============================] - 986s 141ms/step - loss: 0.0289 - val_loss: 0.0610\n"
     ]
    }
   ],
   "source": [
    "history = model.fit(train_df, epochs=5, validation_data=val_df)      # lstms converge really slow.."
   ]
  },
  {
   "cell_type": "code",
   "execution_count": 27,
   "id": "a3007bb7",
   "metadata": {
    "execution": {
     "iopub.execute_input": "2022-05-25T08:26:25.409740Z",
     "iopub.status.busy": "2022-05-25T08:26:25.409453Z",
     "iopub.status.idle": "2022-05-25T08:26:25.568279Z",
     "shell.execute_reply": "2022-05-25T08:26:25.567541Z"
    },
    "id": "B7NatGpYXy-l",
    "papermill": {
     "duration": 11.3207,
     "end_time": "2022-05-25T08:26:25.570382",
     "exception": false,
     "start_time": "2022-05-25T08:26:14.249682",
     "status": "completed"
    },
    "tags": []
   },
   "outputs": [],
   "source": [
    "# save the model\n",
    "model.save('toxicity_clf_model.h5')"
   ]
  },
  {
   "cell_type": "code",
   "execution_count": 28,
   "id": "65cb20ed",
   "metadata": {
    "execution": {
     "iopub.execute_input": "2022-05-25T08:26:48.387950Z",
     "iopub.status.busy": "2022-05-25T08:26:48.387676Z",
     "iopub.status.idle": "2022-05-25T08:26:48.623218Z",
     "shell.execute_reply": "2022-05-25T08:26:48.622521Z"
    },
    "id": "hs76Wqiq0N22",
    "papermill": {
     "duration": 11.31048,
     "end_time": "2022-05-25T08:26:48.625027",
     "exception": false,
     "start_time": "2022-05-25T08:26:37.314547",
     "status": "completed"
    },
    "tags": []
   },
   "outputs": [
    {
     "data": {
      "text/plain": [
       "<Figure size 576x360 with 0 Axes>"
      ]
     },
     "metadata": {},
     "output_type": "display_data"
    },
    {
     "data": {
      "image/png": "[encoded data removed]",
      "text/plain": [
       "<Figure size 432x288 with 1 Axes>"
      ]
     },
     "metadata": {
      "needs_background": "light"
     },
     "output_type": "display_data"
    }
   ],
   "source": [
    "# plot training and validation loss\n",
    "plt.figure(figsize=(8,5))\n",
    "pd.DataFrame(history.history).plot()\n",
    "plt.show()"
   ]
  },
  {
   "cell_type": "code",
   "execution_count": 29,
   "id": "373a654d",
   "metadata": {
    "execution": {
     "iopub.execute_input": "2022-05-25T08:27:11.480846Z",
     "iopub.status.busy": "2022-05-25T08:27:11.480570Z",
     "iopub.status.idle": "2022-05-25T08:27:11.493051Z",
     "shell.execute_reply": "2022-05-25T08:27:11.492419Z"
    },
    "id": "YDSuwCLPv5M2",
    "papermill": {
     "duration": 11.777148,
     "end_time": "2022-05-25T08:27:11.494737",
     "exception": false,
     "start_time": "2022-05-25T08:26:59.717589",
     "status": "completed"
    },
    "tags": []
   },
   "outputs": [],
   "source": [
    "from tensorflow.keras.metrics import Precision, Recall, CategoricalAccuracy\n",
    "pre = Precision()\n",
    "re = Recall()\n",
    "acc = CategoricalAccuracy()"
   ]
  },
  {
   "cell_type": "code",
   "execution_count": 30,
   "id": "5b1a5c80",
   "metadata": {
    "execution": {
     "iopub.execute_input": "2022-05-25T08:27:34.074475Z",
     "iopub.status.busy": "2022-05-25T08:27:34.074219Z",
     "iopub.status.idle": "2022-05-25T08:29:12.451222Z",
     "shell.execute_reply": "2022-05-25T08:29:12.450448Z"
    },
    "papermill": {
     "duration": 109.881868,
     "end_time": "2022-05-25T08:29:12.453466",
     "exception": false,
     "start_time": "2022-05-25T08:27:22.571598",
     "status": "completed"
    },
    "tags": []
   },
   "outputs": [],
   "source": [
    "for batch in test_df.as_numpy_iterator():\n",
    "    X, y = batch\n",
    "    preds = model.predict(X)\n",
    "    \n",
    "    y = y.flatten()\n",
    "    preds = preds.flatten()\n",
    "    \n",
    "    pre.update_state(y, preds)\n",
    "    re.update_state(y, preds)\n",
    "    acc.update_state(y, preds)    "
   ]
  },
  {
   "cell_type": "code",
   "execution_count": 31,
   "id": "f2e534f6",
   "metadata": {
    "execution": {
     "iopub.execute_input": "2022-05-25T08:29:35.155523Z",
     "iopub.status.busy": "2022-05-25T08:29:35.155250Z",
     "iopub.status.idle": "2022-05-25T08:29:35.165076Z",
     "shell.execute_reply": "2022-05-25T08:29:35.164361Z"
    },
    "papermill": {
     "duration": 11.134357,
     "end_time": "2022-05-25T08:29:35.166813",
     "exception": false,
     "start_time": "2022-05-25T08:29:24.032456",
     "status": "completed"
    },
    "tags": []
   },
   "outputs": [
    {
     "name": "stdout",
     "output_type": "stream",
     "text": [
      "Acc: 0.44132397 Re: 0.7354692 Pre: 0.700324\n"
     ]
    }
   ],
   "source": [
    "print('Acc:', acc.result().numpy(), 'Re:',re.result().numpy(), 'Pre:', pre.result().numpy())"
   ]
  },
  {
   "cell_type": "code",
   "execution_count": 32,
   "id": "f5296173",
   "metadata": {
    "execution": {
     "iopub.execute_input": "2022-05-25T08:29:57.886486Z",
     "iopub.status.busy": "2022-05-25T08:29:57.886228Z",
     "iopub.status.idle": "2022-05-25T08:29:57.889700Z",
     "shell.execute_reply": "2022-05-25T08:29:57.888979Z"
    },
    "id": "qv-QdIkYv5Iv",
    "papermill": {
     "duration": 11.569796,
     "end_time": "2022-05-25T08:29:57.891514",
     "exception": false,
     "start_time": "2022-05-25T08:29:46.321718",
     "status": "completed"
    },
    "tags": []
   },
   "outputs": [],
   "source": [
    "# the model can be further trained or the architecture of the model can be modified to increase the classification accuracy."
   ]
  }
 ],
 "metadata": {
  "kernelspec": {
   "display_name": "Python 3",
   "language": "python",
   "name": "python3"
  },
  "language_info": {
   "codemirror_mode": {
    "name": "ipython",
    "version": 3
   },
   "file_extension": ".py",
   "mimetype": "text/x-python",
   "name": "python",
   "nbconvert_exporter": "python",
   "pygments_lexer": "ipython3",
   "version": "3.7.12"
  },
  "papermill": {
   "default_parameters": {},
   "duration": 5355.39344,
   "end_time": "2022-05-25T08:30:11.821671",
   "environment_variables": {},
   "exception": null,
   "input_path": "__notebook__.ipynb",
   "output_path": "__notebook__.ipynb",
   "parameters": {},
   "start_time": "2022-05-25T07:00:56.428231",
   "version": "2.3.4"
  }
 },
 "nbformat": 4,
 "nbformat_minor": 5
}
